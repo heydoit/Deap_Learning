{
 "cells": [
  {
   "cell_type": "code",
   "execution_count": 1,
   "id": "b123dfab",
   "metadata": {},
   "outputs": [
    {
     "data": {
      "text/plain": [
       "1"
      ]
     },
     "execution_count": 1,
     "metadata": {},
     "output_type": "execute_result"
    }
   ],
   "source": [
    "d = {'a':1,'b':1}\n",
    "d['a']"
   ]
  },
  {
   "cell_type": "code",
   "execution_count": 2,
   "id": "4b8860e5",
   "metadata": {},
   "outputs": [
    {
     "data": {
      "text/plain": [
       "100"
      ]
     },
     "execution_count": 2,
     "metadata": {},
     "output_type": "execute_result"
    }
   ],
   "source": [
    "d['a'] = 100\n",
    "d['a']"
   ]
  },
  {
   "cell_type": "code",
   "execution_count": 3,
   "id": "037dd048",
   "metadata": {},
   "outputs": [
    {
     "data": {
      "text/plain": [
       "list"
      ]
     },
     "execution_count": 3,
     "metadata": {},
     "output_type": "execute_result"
    }
   ],
   "source": [
    "type(['a'])"
   ]
  },
  {
   "cell_type": "code",
   "execution_count": 4,
   "id": "cc7b39eb",
   "metadata": {
    "scrolled": true
   },
   "outputs": [
    {
     "data": {
      "text/plain": [
       "('hello', 100)"
      ]
     },
     "execution_count": 4,
     "metadata": {},
     "output_type": "execute_result"
    }
   ],
   "source": [
    "d2 = {'a':'hello','b':100}\n",
    "d2['a'], d2['b']"
   ]
  },
  {
   "cell_type": "code",
   "execution_count": 5,
   "id": "8161a6fa",
   "metadata": {
    "scrolled": true
   },
   "outputs": [
    {
     "data": {
      "text/plain": [
       "{'a': 100, 'b': 1}"
      ]
     },
     "execution_count": 5,
     "metadata": {},
     "output_type": "execute_result"
    }
   ],
   "source": [
    "d"
   ]
  },
  {
   "cell_type": "code",
   "execution_count": 6,
   "id": "fb9ce973",
   "metadata": {},
   "outputs": [],
   "source": [
    "import numpy as np"
   ]
  },
  {
   "cell_type": "code",
   "execution_count": 7,
   "id": "6e72b030",
   "metadata": {},
   "outputs": [],
   "source": [
    "data=[1,2,3,4]"
   ]
  },
  {
   "cell_type": "code",
   "execution_count": 8,
   "id": "47746b95",
   "metadata": {},
   "outputs": [
    {
     "data": {
      "text/plain": [
       "4"
      ]
     },
     "execution_count": 8,
     "metadata": {},
     "output_type": "execute_result"
    }
   ],
   "source": [
    "len(data)"
   ]
  },
  {
   "cell_type": "code",
   "execution_count": 9,
   "id": "1e7712fc",
   "metadata": {},
   "outputs": [],
   "source": [
    "data_2 = np.array([[1,2],[4,5]])"
   ]
  },
  {
   "cell_type": "code",
   "execution_count": 10,
   "id": "98a5e3f7",
   "metadata": {
    "scrolled": true
   },
   "outputs": [
    {
     "data": {
      "text/plain": [
       "array([[1, 2],\n",
       "       [4, 5]])"
      ]
     },
     "execution_count": 10,
     "metadata": {},
     "output_type": "execute_result"
    }
   ],
   "source": [
    "data_2"
   ]
  },
  {
   "cell_type": "code",
   "execution_count": null,
   "id": "4fbdd517",
   "metadata": {},
   "outputs": [],
   "source": []
  },
  {
   "cell_type": "code",
   "execution_count": 11,
   "id": "e09473e9",
   "metadata": {},
   "outputs": [
    {
     "data": {
      "text/plain": [
       "dtype('int32')"
      ]
     },
     "execution_count": 11,
     "metadata": {},
     "output_type": "execute_result"
    }
   ],
   "source": [
    "data_2.dtype"
   ]
  },
  {
   "cell_type": "code",
   "execution_count": 12,
   "id": "f0840f87",
   "metadata": {},
   "outputs": [
    {
     "data": {
      "text/plain": [
       "(2, 2)"
      ]
     },
     "execution_count": 12,
     "metadata": {},
     "output_type": "execute_result"
    }
   ],
   "source": [
    "data_2.shape"
   ]
  },
  {
   "cell_type": "code",
   "execution_count": 13,
   "id": "cf980cc7",
   "metadata": {},
   "outputs": [
    {
     "name": "stdout",
     "output_type": "stream",
     "text": [
      "(4,)\n",
      "1\n"
     ]
    }
   ],
   "source": [
    "a3 = np.array([1,2,3,4])\n",
    "print(a3.shape)\n",
    "print(a3.ndim) # ndim : 몇 차원 배열??"
   ]
  },
  {
   "cell_type": "code",
   "execution_count": 14,
   "id": "b8fd1ec5",
   "metadata": {},
   "outputs": [
    {
     "name": "stdout",
     "output_type": "stream",
     "text": [
      "[[[[1 2 3 4]]]]\n",
      "(1, 1, 1, 4)\n",
      "4\n"
     ]
    }
   ],
   "source": [
    "a3 = np.array([1,2,3,4], ndmin=4)\n",
    "print(a3)\n",
    "print(a3.shape)\n",
    "print(a3.ndim) # ndim : 몇 차원 배열??\n"
   ]
  },
  {
   "cell_type": "code",
   "execution_count": 15,
   "id": "263630b4",
   "metadata": {},
   "outputs": [],
   "source": [
    "dt = np.dtype(np.int32)"
   ]
  },
  {
   "cell_type": "code",
   "execution_count": 16,
   "id": "79d1c386",
   "metadata": {},
   "outputs": [],
   "source": [
    "a3 = np.array([1,2,3,4], dt)"
   ]
  },
  {
   "cell_type": "code",
   "execution_count": 17,
   "id": "e4fd2f6f",
   "metadata": {},
   "outputs": [
    {
     "data": {
      "text/plain": [
       "dtype('int32')"
      ]
     },
     "execution_count": 17,
     "metadata": {},
     "output_type": "execute_result"
    }
   ],
   "source": [
    "a3.dtype"
   ]
  },
  {
   "cell_type": "code",
   "execution_count": 18,
   "id": "37a9d1a8",
   "metadata": {},
   "outputs": [
    {
     "data": {
      "text/plain": [
       "(2, 3)"
      ]
     },
     "execution_count": 18,
     "metadata": {},
     "output_type": "execute_result"
    }
   ],
   "source": [
    "a7 = np.array([[1,2,3],[6,7,8]])\n",
    "a7.shape"
   ]
  },
  {
   "cell_type": "code",
   "execution_count": 19,
   "id": "c47a077f",
   "metadata": {},
   "outputs": [
    {
     "data": {
      "text/plain": [
       "array([[1],\n",
       "       [2],\n",
       "       [3],\n",
       "       [6],\n",
       "       [7],\n",
       "       [8]])"
      ]
     },
     "execution_count": 19,
     "metadata": {},
     "output_type": "execute_result"
    }
   ],
   "source": [
    "a7.reshape(6,1)"
   ]
  },
  {
   "cell_type": "code",
   "execution_count": 20,
   "id": "5291e82e",
   "metadata": {},
   "outputs": [],
   "source": [
    "a10 = np.arange(24)"
   ]
  },
  {
   "cell_type": "code",
   "execution_count": 21,
   "id": "7feb7f24",
   "metadata": {},
   "outputs": [
    {
     "data": {
      "text/plain": [
       "array([ 0,  1,  2,  3,  4,  5,  6,  7,  8,  9, 10, 11, 12, 13, 14, 15, 16,\n",
       "       17, 18, 19, 20, 21, 22, 23])"
      ]
     },
     "execution_count": 21,
     "metadata": {},
     "output_type": "execute_result"
    }
   ],
   "source": [
    "a10"
   ]
  },
  {
   "cell_type": "code",
   "execution_count": 22,
   "id": "d10c5405",
   "metadata": {},
   "outputs": [],
   "source": [
    "a10 = a10.reshape(4,2,3)"
   ]
  },
  {
   "cell_type": "code",
   "execution_count": 23,
   "id": "36aec990",
   "metadata": {},
   "outputs": [
    {
     "data": {
      "text/plain": [
       "((4, 2, 3), 3)"
      ]
     },
     "execution_count": 23,
     "metadata": {},
     "output_type": "execute_result"
    }
   ],
   "source": [
    "a10.shape, a10.ndim"
   ]
  },
  {
   "cell_type": "code",
   "execution_count": 24,
   "id": "d3adb95b",
   "metadata": {},
   "outputs": [
    {
     "data": {
      "text/plain": [
       "array([[[ 0,  1,  2],\n",
       "        [ 3,  4,  5]],\n",
       "\n",
       "       [[ 6,  7,  8],\n",
       "        [ 9, 10, 11]],\n",
       "\n",
       "       [[12, 13, 14],\n",
       "        [15, 16, 17]],\n",
       "\n",
       "       [[18, 19, 20],\n",
       "        [21, 22, 23]]])"
      ]
     },
     "execution_count": 24,
     "metadata": {},
     "output_type": "execute_result"
    }
   ],
   "source": [
    "a10"
   ]
  },
  {
   "cell_type": "code",
   "execution_count": 25,
   "id": "be0934c0",
   "metadata": {},
   "outputs": [],
   "source": [
    "a15 = np.empty((4,3), dtype = np.float16) "
   ]
  },
  {
   "cell_type": "code",
   "execution_count": 26,
   "id": "ebca29ea",
   "metadata": {},
   "outputs": [
    {
     "data": {
      "text/plain": [
       "array([[-4.24e+02,       nan,  2.30e-05],\n",
       "       [ 0.00e+00,  0.00e+00,  0.00e+00],\n",
       "       [ 0.00e+00,  0.00e+00,  5.96e-08],\n",
       "       [ 0.00e+00,  3.99e-06,  3.46e-06]], dtype=float16)"
      ]
     },
     "execution_count": 26,
     "metadata": {},
     "output_type": "execute_result"
    }
   ],
   "source": [
    "a15"
   ]
  },
  {
   "cell_type": "code",
   "execution_count": 27,
   "id": "ff0579aa",
   "metadata": {},
   "outputs": [
    {
     "data": {
      "text/plain": [
       "((5, 2), 2)"
      ]
     },
     "execution_count": 27,
     "metadata": {},
     "output_type": "execute_result"
    }
   ],
   "source": [
    "a16 = np.zeros([5,2])\n",
    "a16.shape, a16.ndim"
   ]
  },
  {
   "cell_type": "code",
   "execution_count": 28,
   "id": "435d7583",
   "metadata": {},
   "outputs": [
    {
     "data": {
      "text/plain": [
       "array([[0., 0.],\n",
       "       [0., 0.],\n",
       "       [0., 0.],\n",
       "       [0., 0.],\n",
       "       [0., 0.]])"
      ]
     },
     "execution_count": 28,
     "metadata": {},
     "output_type": "execute_result"
    }
   ],
   "source": [
    "a16"
   ]
  },
  {
   "cell_type": "code",
   "execution_count": 29,
   "id": "94e5ffdd",
   "metadata": {},
   "outputs": [
    {
     "data": {
      "text/plain": [
       "array([[1., 1.],\n",
       "       [1., 1.]])"
      ]
     },
     "execution_count": 29,
     "metadata": {},
     "output_type": "execute_result"
    }
   ],
   "source": [
    "a17 = np.ones(4)\n",
    "a17.reshape(2,2)"
   ]
  },
  {
   "cell_type": "code",
   "execution_count": 30,
   "id": "80641c33",
   "metadata": {},
   "outputs": [
    {
     "data": {
      "text/plain": [
       "array([10, 23, 45])"
      ]
     },
     "execution_count": 30,
     "metadata": {},
     "output_type": "execute_result"
    }
   ],
   "source": [
    "x = [10,23,45]\n",
    "a18 = np.asarray(x)\n",
    "a18"
   ]
  },
  {
   "cell_type": "code",
   "execution_count": 31,
   "id": "a64efe5b",
   "metadata": {},
   "outputs": [
    {
     "data": {
      "text/plain": [
       "((3,), 1)"
      ]
     },
     "execution_count": 31,
     "metadata": {},
     "output_type": "execute_result"
    }
   ],
   "source": [
    "a18.shape, a18.ndim"
   ]
  },
  {
   "cell_type": "code",
   "execution_count": 32,
   "id": "4fe806c7",
   "metadata": {},
   "outputs": [],
   "source": [
    "a20 = np.arange(20)"
   ]
  },
  {
   "cell_type": "code",
   "execution_count": 33,
   "id": "b13b9ec5",
   "metadata": {},
   "outputs": [
    {
     "data": {
      "text/plain": [
       "array([[[ 0,  1,  2],\n",
       "        [ 3,  4,  5]],\n",
       "\n",
       "       [[ 6,  7,  8],\n",
       "        [ 9, 10, 11]],\n",
       "\n",
       "       [[12, 13, 14],\n",
       "        [15, 16, 17]],\n",
       "\n",
       "       [[18, 19, 20],\n",
       "        [21, 22, 23]]])"
      ]
     },
     "execution_count": 33,
     "metadata": {},
     "output_type": "execute_result"
    }
   ],
   "source": [
    "a10"
   ]
  },
  {
   "cell_type": "code",
   "execution_count": 34,
   "id": "8b3202de",
   "metadata": {},
   "outputs": [
    {
     "data": {
      "text/plain": [
       "array([19, 20])"
      ]
     },
     "execution_count": 34,
     "metadata": {},
     "output_type": "execute_result"
    }
   ],
   "source": [
    "a10[2:4][1][0][1:]"
   ]
  },
  {
   "cell_type": "code",
   "execution_count": 35,
   "id": "6a0c91c2",
   "metadata": {},
   "outputs": [
    {
     "data": {
      "text/plain": [
       "array([[ 3,  4,  5],\n",
       "       [21, 22, 23]])"
      ]
     },
     "execution_count": 35,
     "metadata": {},
     "output_type": "execute_result"
    }
   ],
   "source": [
    "a10[[0,3],1]"
   ]
  },
  {
   "cell_type": "code",
   "execution_count": 36,
   "id": "80c4faa5",
   "metadata": {},
   "outputs": [
    {
     "data": {
      "text/plain": [
       "array([[[0, 1, 2]],\n",
       "\n",
       "       [[6, 7, 8]]])"
      ]
     },
     "execution_count": 36,
     "metadata": {},
     "output_type": "execute_result"
    }
   ],
   "source": [
    "a10[0:2,[0]]"
   ]
  },
  {
   "cell_type": "code",
   "execution_count": 37,
   "id": "79773045",
   "metadata": {},
   "outputs": [],
   "source": [
    "a_10 = a10[1:4, 1:5]"
   ]
  },
  {
   "cell_type": "code",
   "execution_count": 38,
   "id": "ebd0419c",
   "metadata": {},
   "outputs": [
    {
     "data": {
      "text/plain": [
       "array([[[ 9, 10, 11]],\n",
       "\n",
       "       [[15, 16, 17]],\n",
       "\n",
       "       [[21, 22, 23]]])"
      ]
     },
     "execution_count": 38,
     "metadata": {},
     "output_type": "execute_result"
    }
   ],
   "source": [
    "a_10"
   ]
  },
  {
   "cell_type": "code",
   "execution_count": 39,
   "id": "81ae23c5",
   "metadata": {},
   "outputs": [
    {
     "data": {
      "text/plain": [
       "array([[[ 9, 20, 33]],\n",
       "\n",
       "       [[15, 32, 51]],\n",
       "\n",
       "       [[21, 44, 69]]])"
      ]
     },
     "execution_count": 39,
     "metadata": {},
     "output_type": "execute_result"
    }
   ],
   "source": [
    "b1 = np.array([1,2,3])\n",
    "a_10 * b1"
   ]
  },
  {
   "cell_type": "code",
   "execution_count": 40,
   "id": "11a91809",
   "metadata": {},
   "outputs": [
    {
     "data": {
      "text/plain": [
       "array([[[  9,  20,  33],\n",
       "        [ 90, 200, 330],\n",
       "        [ 45,  60,  77]],\n",
       "\n",
       "       [[ 15,  32,  51],\n",
       "        [150, 320, 510],\n",
       "        [ 75,  96, 119]],\n",
       "\n",
       "       [[ 21,  44,  69],\n",
       "        [210, 440, 690],\n",
       "        [105, 132, 161]]])"
      ]
     },
     "execution_count": 40,
     "metadata": {},
     "output_type": "execute_result"
    }
   ],
   "source": [
    "b2 = np.array([[1,2,3],[10,20,30],[5,6,7]])\n",
    "a_10 * b2"
   ]
  },
  {
   "cell_type": "code",
   "execution_count": 41,
   "id": "3a370a0f",
   "metadata": {},
   "outputs": [
    {
     "data": {
      "text/plain": [
       "array([[[ 8,  8,  8]],\n",
       "\n",
       "       [[14, 14, 14]],\n",
       "\n",
       "       [[20, 20, 20]]])"
      ]
     },
     "execution_count": 41,
     "metadata": {},
     "output_type": "execute_result"
    }
   ],
   "source": [
    "a_10 - b1"
   ]
  },
  {
   "cell_type": "code",
   "execution_count": 42,
   "id": "2f1a0825",
   "metadata": {},
   "outputs": [
    {
     "data": {
      "text/plain": [
       "array([[[  8,   8,   8],\n",
       "        [ -1, -10, -19],\n",
       "        [  4,   4,   4]],\n",
       "\n",
       "       [[ 14,  14,  14],\n",
       "        [  5,  -4, -13],\n",
       "        [ 10,  10,  10]],\n",
       "\n",
       "       [[ 20,  20,  20],\n",
       "        [ 11,   2,  -7],\n",
       "        [ 16,  16,  16]]])"
      ]
     },
     "execution_count": 42,
     "metadata": {},
     "output_type": "execute_result"
    }
   ],
   "source": [
    "a_10 - b2"
   ]
  },
  {
   "cell_type": "code",
   "execution_count": 43,
   "id": "45d230c1",
   "metadata": {},
   "outputs": [],
   "source": [
    "b3 = np.empty((4,5), dtype = np.int32)\n",
    "b4 = np.array([1,2,3,4,5])\n",
    "b5 = b3 + b4"
   ]
  },
  {
   "cell_type": "code",
   "execution_count": 44,
   "id": "b0863775",
   "metadata": {},
   "outputs": [
    {
     "data": {
      "text/plain": [
       "array([[0, 1, 3, 4, 5],\n",
       "       [1, 2, 3, 4, 5],\n",
       "       [1, 2, 3, 4, 5],\n",
       "       [1, 2, 3, 4, 5]])"
      ]
     },
     "execution_count": 44,
     "metadata": {},
     "output_type": "execute_result"
    }
   ],
   "source": [
    "b5"
   ]
  },
  {
   "cell_type": "code",
   "execution_count": 45,
   "id": "521c3bb3",
   "metadata": {},
   "outputs": [
    {
     "data": {
      "text/plain": [
       "array([[0, 1, 3, 4],\n",
       "       [5, 1, 2, 3],\n",
       "       [4, 5, 1, 2],\n",
       "       [3, 4, 5, 1],\n",
       "       [2, 3, 4, 5]])"
      ]
     },
     "execution_count": 45,
     "metadata": {},
     "output_type": "execute_result"
    }
   ],
   "source": [
    "b5.reshape(5,4)"
   ]
  },
  {
   "cell_type": "code",
   "execution_count": 46,
   "id": "d5b25214",
   "metadata": {},
   "outputs": [
    {
     "data": {
      "text/plain": [
       "array([0, 1, 3, 4, 5, 1, 2, 3, 4, 5, 1, 2, 3, 4, 5, 1, 2, 3, 4, 5])"
      ]
     },
     "execution_count": 46,
     "metadata": {},
     "output_type": "execute_result"
    }
   ],
   "source": [
    "b5.flatten()"
   ]
  },
  {
   "cell_type": "code",
   "execution_count": 47,
   "id": "c9b42196",
   "metadata": {},
   "outputs": [
    {
     "data": {
      "text/plain": [
       "array([[[ 9, 15, 21]],\n",
       "\n",
       "       [[10, 16, 22]],\n",
       "\n",
       "       [[11, 17, 23]]])"
      ]
     },
     "execution_count": 47,
     "metadata": {},
     "output_type": "execute_result"
    }
   ],
   "source": [
    "a_10.transpose()"
   ]
  },
  {
   "cell_type": "code",
   "execution_count": 48,
   "id": "a7ec0d16",
   "metadata": {},
   "outputs": [
    {
     "data": {
      "text/plain": [
       "array([[[ 9, 10, 11]],\n",
       "\n",
       "       [[15, 16, 17]],\n",
       "\n",
       "       [[21, 22, 23]]])"
      ]
     },
     "execution_count": 48,
     "metadata": {},
     "output_type": "execute_result"
    }
   ],
   "source": [
    "a_10"
   ]
  },
  {
   "cell_type": "code",
   "execution_count": 49,
   "id": "0fe1721d",
   "metadata": {},
   "outputs": [
    {
     "data": {
      "image/png": "[encoded data removed]",
      "text/plain": [
       "<Figure size 640x480 with 1 Axes>"
      ]
     },
     "metadata": {},
     "output_type": "display_data"
    }
   ],
   "source": [
    "import matplotlib.pyplot as plt\n",
    "x = np.arange(0,6,0.1)\n",
    "y = np.sin(x)\n",
    "plt.plot(x,y)\n",
    "plt.show()"
   ]
  },
  {
   "cell_type": "code",
   "execution_count": 50,
   "id": "fa87a6c2",
   "metadata": {},
   "outputs": [],
   "source": [
    "def And(x1, x2):\n",
    "    w1, w2, theta = 0.5,0.5,0.7\n",
    "    tmp = x1 * w1 + x2 *w2\n",
    "    if tmp <= theta:\n",
    "        return 0\n",
    "    elif tmp > theta:\n",
    "        return 1"
   ]
  },
  {
   "cell_type": "code",
   "execution_count": 51,
   "id": "eb399a80",
   "metadata": {},
   "outputs": [
    {
     "name": "stdout",
     "output_type": "stream",
     "text": [
      "0\n",
      "0\n",
      "0\n",
      "1\n"
     ]
    }
   ],
   "source": [
    "print(And(0,0))\n",
    "print(And(1,0))\n",
    "print(And(0,1))\n",
    "print(And(1,1))"
   ]
  },
  {
   "cell_type": "code",
   "execution_count": 52,
   "id": "420862eb",
   "metadata": {},
   "outputs": [
    {
     "data": {
      "text/plain": [
       "-0.19999999999999996"
      ]
     },
     "execution_count": 52,
     "metadata": {},
     "output_type": "execute_result"
    }
   ],
   "source": [
    "import numpy as np\n",
    "\n",
    "x = np.array([0,1])\n",
    "w = np.array([0.5,0.5])\n",
    "b = -0.7\n",
    "\n",
    "np.sum(x*w)\n",
    "np.sum(w*x) + b"
   ]
  },
  {
   "cell_type": "code",
   "execution_count": 53,
   "id": "3770d6d7",
   "metadata": {},
   "outputs": [
    {
     "name": "stdout",
     "output_type": "stream",
     "text": [
      "1\n",
      "0\n"
     ]
    }
   ],
   "source": [
    "def NAND(x1, x2):\n",
    "    x = np.array([x1, x2])\n",
    "    w = np.array([-0.5, -0.5])\n",
    "    b = 0.7\n",
    "    tmp = np.sum(w*x) + b\n",
    "    if tmp > 0:\n",
    "        return 1\n",
    "    else: return 0\n",
    "\n",
    "print(NAND(0,0))\n",
    "print(NAND(1,1))\n"
   ]
  },
  {
   "cell_type": "code",
   "execution_count": 54,
   "id": "6da70647",
   "metadata": {},
   "outputs": [
    {
     "name": "stdout",
     "output_type": "stream",
     "text": [
      "4.8\n",
      "1.21\n",
      "2.385\n"
     ]
    }
   ],
   "source": [
    "inputs = [1, 2, 3, 2.5] # 입력 4\n",
    "weights = [\n",
    "    [0.2, 0.8, -0.5, 1],\n",
    "    [0.5, -0.91, 0.26, -0.5],\n",
    "    [-0.26, -0.27, 0.17, 0.87]\n",
    "]\n",
    "biases = [2, 3, 0.5]\n",
    "\n",
    "\n",
    "results_1 = biases[0] + (inputs[0] * weights[0][0] + inputs[1] * weights[0][1] + inputs[2] * weights[0][2] + inputs[3] * weights[0][3])\n",
    "results_2 = biases[1] + (inputs[0] * weights[1][0] + inputs[1] * weights[1][1] + inputs[2] * weights[1][2] + inputs[3] * weights[1][3])\n",
    "results_3 = biases[2] + (inputs[0] * weights[2][0] + inputs[1] * weights[2][1] + inputs[2] * weights[2][2] + inputs[3] * weights[2][3])\n",
    "\n",
    "print(results_1)\n",
    "print(results_2)\n",
    "print(results_3)"
   ]
  },
  {
   "cell_type": "code",
   "execution_count": 55,
   "id": "ad602df8",
   "metadata": {},
   "outputs": [
    {
     "name": "stdout",
     "output_type": "stream",
     "text": [
      "1 [0.2, 0.8, -0.5, 1]\n",
      "2 [0.5, -0.91, 0.26, -0.5]\n",
      "3 [-0.26, -0.27, 0.17, 0.87]\n",
      "1 [0.2, 0.8, -0.5, 1]\n",
      "2 [0.5, -0.91, 0.26, -0.5]\n",
      "3 [-0.26, -0.27, 0.17, 0.87]\n",
      "1 [0.2, 0.8, -0.5, 1]\n",
      "2 [0.5, -0.91, 0.26, -0.5]\n",
      "3 [-0.26, -0.27, 0.17, 0.87]\n"
     ]
    }
   ],
   "source": [
    "for weight, bias in zip(weights, biases):\n",
    "    for n_input, n_weight in zip(inputs, weights):\n",
    "        print(n_input, n_weight)"
   ]
  },
  {
   "cell_type": "code",
   "execution_count": 57,
   "id": "b703b3d8",
   "metadata": {},
   "outputs": [
    {
     "data": {
      "text/plain": [
       "[4.8, 1.21, 2.385]"
      ]
     },
     "execution_count": 57,
     "metadata": {},
     "output_type": "execute_result"
    }
   ],
   "source": [
    "# for문으로 만들기\n",
    "\n",
    "inputs = [1, 2, 3, 2.5] # 입력 4\n",
    "weights = [\n",
    "    [0.2, 0.8, -0.5, 1],\n",
    "    [0.5, -0.91, 0.26, -0.5],\n",
    "    [-0.26, -0.27, 0.17, 0.87]\n",
    "]\n",
    "biases = [2, 3, 0.5]\n",
    "\n",
    "layer_output = []\n",
    "for weights_1, biases_1 in zip(weights, biases):\n",
    "    result = 0\n",
    "    for inputs_1, weights_2 in zip(inputs, weights   _1):\n",
    "        result += inputs_1 * weights_2\n",
    "    result += biases_1\n",
    "    layer_output.append(result)\n",
    "\n",
    "layer_output"
   ]
  },
  {
   "cell_type": "code",
   "execution_count": 62,
   "id": "60f4cfa6",
   "metadata": {},
   "outputs": [
    {
     "name": "stderr",
     "output_type": "stream",
     "text": [
      "C:\\Users\\qwekl\\AppData\\Local\\Temp\\ipykernel_5004\\1036056615.py:9: DeprecationWarning: `np.int` is a deprecated alias for the builtin `int`. To silence this warning, use `int` by itself. Doing this will not modify any behavior and is safe. When replacing `np.int`, you may wish to use e.g. `np.int64` or `np.int32` to specify the precision. If you wish to review your current use, check the release note link for additional information.\n",
      "Deprecated in NumPy 1.20; for more details and guidance: https://numpy.org/devdocs/release/1.20.0-notes.html#deprecations\n",
      "  y = y.astype(np.int)\n"
     ]
    },
    {
     "data": {
      "text/plain": [
       "array([0, 1, 1])"
      ]
     },
     "execution_count": 62,
     "metadata": {},
     "output_type": "execute_result"
    }
   ],
   "source": [
    "##  계단 함수 구하기\n",
    "\n",
    "def step_function(x):\n",
    "    y = x > 0\n",
    "    return y.astype(np.int)\n",
    "\n",
    "x = np.array([-1.0, 1.0, 2.0])\n",
    "y = x > 0\n",
    "y = y.astype(np.int)\n",
    "y"
   ]
  },
  {
   "cell_type": "markdown",
   "id": "cc959d7e",
   "metadata": {},
   "source": [
    "# 계단 함수 그래프"
   ]
  },
  {
   "cell_type": "code",
   "execution_count": 65,
   "id": "8d150695",
   "metadata": {},
   "outputs": [
    {
     "data": {
      "image/png": "[encoded data removed]",
      "text/plain": [
       "<Figure size 640x480 with 1 Axes>"
      ]
     },
     "metadata": {},
     "output_type": "display_data"
    }
   ],
   "source": [
    "\n",
    "import warnings\n",
    "warnings.filterwarnings('ignore')\n",
    "\n",
    "\n",
    "def step_function(x):\n",
    "    return np.array(x > 0, dtype = np.int)\n",
    "\n",
    "x = np.arange(-5.0,5.0,0.1)\n",
    "y = step_function(x)\n",
    "plt.plot(x,y)\n",
    "plt.ylim(-0.1,1.1)\n",
    "plt.show()"
   ]
  },
  {
   "cell_type": "markdown",
   "id": "bd250924",
   "metadata": {},
   "source": [
    "## 시그모이드 함수 (계단 함수를 곡선으로 표현)"
   ]
  },
  {
   "cell_type": "code",
   "execution_count": 66,
   "id": "ef99cca8",
   "metadata": {},
   "outputs": [
    {
     "data": {
      "text/plain": [
       "array([0.26894142, 0.73105858, 0.88079708])"
      ]
     },
     "execution_count": 66,
     "metadata": {},
     "output_type": "execute_result"
    }
   ],
   "source": [
    "\n",
    "\n",
    "def sigmoid(x):\n",
    "    return 1 / (1+np.exp(-x))\n",
    "\n",
    "x = np.array([-1.0, 1.0, 2.0])\n",
    "sigmoid(x)"
   ]
  },
  {
   "cell_type": "code",
   "execution_count": 67,
   "id": "e2fb25fb",
   "metadata": {},
   "outputs": [
    {
     "data": {
      "text/plain": [
       "array([2., 3., 4.])"
      ]
     },
     "execution_count": 67,
     "metadata": {},
     "output_type": "execute_result"
    }
   ],
   "source": [
    "t = np.array([1.0,2.0,3.0])\n",
    "1.0 + t"
   ]
  },
  {
   "cell_type": "code",
   "execution_count": 68,
   "id": "bb910f2e",
   "metadata": {},
   "outputs": [
    {
     "data": {
      "text/plain": [
       "array([1.        , 0.5       , 0.33333333])"
      ]
     },
     "execution_count": 68,
     "metadata": {},
     "output_type": "execute_result"
    }
   ],
   "source": [
    "1.0 / t"
   ]
  },
  {
   "cell_type": "code",
   "execution_count": 72,
   "id": "0f0b6a2f",
   "metadata": {},
   "outputs": [
    {
     "data": {
      "image/png": "[encoded data removed]",
      "text/plain": [
       "<Figure size 640x480 with 1 Axes>"
      ]
     },
     "metadata": {},
     "output_type": "display_data"
    }
   ],
   "source": [
    "x = np.arange(-5.0, 5.0, 0.1)\n",
    "y = sigmoid(x)\n",
    "plt.plot(x,y)\n",
    "plt.ylim(-0.1, 1.1)\n",
    "plt.show()"
   ]
  },
  {
   "cell_type": "markdown",
   "id": "14ba933a",
   "metadata": {},
   "source": [
    "# ReLu 함수 (예전;시그모이드 요즘;ReLu)"
   ]
  },
  {
   "cell_type": "code",
   "execution_count": null,
   "id": "6fc81a80",
   "metadata": {},
   "outputs": [],
   "source": [
    "\n",
    "\n",
    "def relu(x):\n",
    "    return np.maximum(0,x)"
   ]
  },
  {
   "cell_type": "code",
   "execution_count": 85,
   "id": "a171027a",
   "metadata": {},
   "outputs": [
    {
     "name": "stdout",
     "output_type": "stream",
     "text": [
      "[1 2 3 4]\n",
      "A.shape: (4,)\n",
      "A.shape[0]: 4\n",
      "A.ndim: 1\n",
      "np.ndim(A): 1\n",
      "A.dtype: int32\n"
     ]
    }
   ],
   "source": [
    "A = np.array([1,2,3,4])\n",
    "print(A)\n",
    "print('A.shape:', A.shape)\n",
    "print('A.shape[0]:',A.shape[0])\n",
    "print('A.ndim:', A.ndim)\n",
    "print('np.ndim(A):', np.ndim(A))\n",
    "print('A.dtype:',A.dtype)"
   ]
  },
  {
   "cell_type": "code",
   "execution_count": 89,
   "id": "4e7e7e1a",
   "metadata": {},
   "outputs": [
    {
     "name": "stdout",
     "output_type": "stream",
     "text": [
      "[[1 2]\n",
      " [3 4]\n",
      " [5 6]]\n",
      "B.shape: (3, 2)\n",
      "B.shape[0]: 3\n",
      "B.ndim: 2\n",
      "np.ndim(B): 2\n",
      "B.dtype: int32\n"
     ]
    }
   ],
   "source": [
    "B = np.array([[1,2],[3,4],[5,6]])\n",
    "print(B)\n",
    "print('B.shape:', B.shape)\n",
    "print('B.shape[0]:',B.shape[0])\n",
    "print('B.ndim:', B.ndim)\n",
    "print('np.ndim(B):', np.ndim(B))\n",
    "print('B.dtype:',B.dtype)"
   ]
  },
  {
   "cell_type": "markdown",
   "id": "3795eccb",
   "metadata": {},
   "source": [
    "## 행렬의 곱"
   ]
  },
  {
   "cell_type": "code",
   "execution_count": 90,
   "id": "30f97375",
   "metadata": {},
   "outputs": [
    {
     "data": {
      "text/plain": [
       "array([[19, 22],\n",
       "       [43, 50]])"
      ]
     },
     "execution_count": 90,
     "metadata": {},
     "output_type": "execute_result"
    }
   ],
   "source": [
    "\n",
    "\n",
    "A = np.array([[1,2],[3,4]])\n",
    "B = np.array([[5,6],[7,8]])\n",
    "np.dot(A,B)"
   ]
  },
  {
   "cell_type": "code",
   "execution_count": 93,
   "id": "85f99237",
   "metadata": {},
   "outputs": [
    {
     "data": {
      "text/plain": [
       "array([23, 53, 83])"
      ]
     },
     "execution_count": 93,
     "metadata": {},
     "output_type": "execute_result"
    }
   ],
   "source": [
    "C = np.array([[1,2],[3,4],[5,6]])\n",
    "D = np.array([7,8])\n",
    "\n",
    "np.dot(C,D)"
   ]
  },
  {
   "cell_type": "code",
   "execution_count": 96,
   "id": "f0be651c",
   "metadata": {},
   "outputs": [
    {
     "data": {
      "text/plain": [
       "array([[12, 19],\n",
       "       [30, 52]])"
      ]
     },
     "execution_count": 96,
     "metadata": {},
     "output_type": "execute_result"
    }
   ],
   "source": [
    "a = np.array([[1,2,3],[4,5,6]])\n",
    "b = np.array([[2,2,2],[5,4,2]])\n",
    "b = b.transpose()\n",
    "np.dot(a,b)"
   ]
  },
  {
   "cell_type": "markdown",
   "id": "00d34fce",
   "metadata": {},
   "source": [
    "## 다층 신경망 신호 전달 구현하기\n"
   ]
  },
  {
   "cell_type": "code",
   "execution_count": 100,
   "id": "66f4677c",
   "metadata": {},
   "outputs": [
    {
     "data": {
      "text/plain": [
       "array([0.3, 0.7, 1.1])"
      ]
     },
     "execution_count": 100,
     "metadata": {},
     "output_type": "execute_result"
    }
   ],
   "source": [
    "\n",
    "X = np.array([1.0,  0.5])\n",
    "W1 = np.array([[0.1,  0.3,  0.5],\n",
    "               [0.2,  0.4,  0.6]])\n",
    "B1 = np.array([0.1,  0.2,  0.3])\n",
    "\n",
    "A1 = np.dot(X,W1) + B1\n",
    "A1"
   ]
  },
  {
   "cell_type": "markdown",
   "id": "51082e00",
   "metadata": {},
   "source": [
    "## 구현 정리"
   ]
  },
  {
   "cell_type": "code",
   "execution_count": 105,
   "id": "4d1cd206",
   "metadata": {},
   "outputs": [
    {
     "name": "stdout",
     "output_type": "stream",
     "text": [
      "[0.31876085 0.70334143]\n"
     ]
    }
   ],
   "source": [
    "def identity_function(x):\n",
    "    return x\n",
    "\n",
    "def init_network():\n",
    "    network = {}\n",
    "    network['W1'] = np.array([[0.1,0.3,0.5],[0.2,0.4,0.6]])\n",
    "    network['b1'] = np.array([0.1,0.2,0.3])\n",
    "    \n",
    "    network['W2'] = np.array([[0.1,0.4],[0.5,0.6],[0.3,0.6]])\n",
    "    network['b2'] = np.array([0.1,0.2])\n",
    "    \n",
    "    network['W3'] = np.array([[0.1,0.3],[0.2,0.4]])\n",
    "    network['b3'] = np.array([0.1,0.2])\n",
    "    \n",
    "    return network\n",
    "\n",
    "def forward(network, x):\n",
    "    W1, W2, W3 = network['W1'],network['W2'],network['W3']\n",
    "    b1, b2, b3 = network['b1'], network['b2'], network['b3']\n",
    "    \n",
    "    a1 = np.dot(x, W1) + b1\n",
    "    z1 = sigmoid(a1)\n",
    "    a2 = np.dot(z1, W2) + b2\n",
    "    z2 = sigmoid(a2)\n",
    "    a3 = np.dot(z2, W3) + b3\n",
    "\n",
    "    y = identity_function(a3)\n",
    "    return y\n",
    "\n",
    "network = init_network()\n",
    "x = np.array([0.1,0.5])\n",
    "y = forward(network, x)\n",
    "print(y)\n"
   ]
  },
  {
   "cell_type": "code",
   "execution_count": null,
   "id": "72e35b25",
   "metadata": {},
   "outputs": [],
   "source": []
  }
 ],
 "metadata": {
  "kernelspec": {
   "display_name": "Python 3 (ipykernel)",
   "language": "python",
   "name": "python3"
  },
  "language_info": {
   "codemirror_mode": {
    "name": "ipython",
    "version": 3
   },
   "file_extension": ".py",
   "mimetype": "text/x-python",
   "name": "python",
   "nbconvert_exporter": "python",
   "pygments_lexer": "ipython3",
   "version": "3.9.13"
  }
 },
 "nbformat": 4,
 "nbformat_minor": 5
}
