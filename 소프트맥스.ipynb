{
 "cells": [
  {
   "cell_type": "code",
   "execution_count": 6,
   "id": "4f3dde72",
   "metadata": {},
   "outputs": [],
   "source": [
    "import numpy as np\n",
    "import warnings\n",
    "warnings.filterwarnings('ignore')"
   ]
  },
  {
   "cell_type": "code",
   "execution_count": 4,
   "id": "f8e2619e",
   "metadata": {},
   "outputs": [],
   "source": [
    "def softmax(a):\n",
    "    exp_a = np.exp(a)\n",
    "    sum_exp_a = np.sum(exp_a)\n",
    "    y = exp_a / sum_exp_a\n",
    "    \n",
    "    return y"
   ]
  },
  {
   "cell_type": "code",
   "execution_count": 7,
   "id": "30f07e1b",
   "metadata": {},
   "outputs": [
    {
     "data": {
      "text/plain": [
       "array([nan, nan, nan])"
      ]
     },
     "execution_count": 7,
     "metadata": {},
     "output_type": "execute_result"
    }
   ],
   "source": [
    "a = np.array([1010,1000,990])\n",
    "np.exp(a) / np.sum(np.exp(a))\n"
   ]
  },
  {
   "cell_type": "code",
   "execution_count": 8,
   "id": "c7d26463",
   "metadata": {},
   "outputs": [
    {
     "data": {
      "text/plain": [
       "array([  0, -10, -20])"
      ]
     },
     "execution_count": 8,
     "metadata": {},
     "output_type": "execute_result"
    }
   ],
   "source": [
    "c = np.max(a)\n",
    "a - c # overflow 를 방지"
   ]
  },
  {
   "cell_type": "code",
   "execution_count": 10,
   "id": "7e3e7567",
   "metadata": {},
   "outputs": [
    {
     "data": {
      "text/plain": [
       "array([9.99954600e-01, 4.53978686e-05, 2.06106005e-09])"
      ]
     },
     "execution_count": 10,
     "metadata": {},
     "output_type": "execute_result"
    }
   ],
   "source": [
    "np.exp(a-c) / np.sum(np.exp(a-c))"
   ]
  },
  {
   "cell_type": "code",
   "execution_count": 11,
   "id": "2f2686ae",
   "metadata": {},
   "outputs": [],
   "source": [
    "## 오버플로우 대책\n",
    "\n",
    "def softmax(a):\n",
    "    c = np.max(a)\n",
    "    exp_a = np.exp(a - c)\n",
    "    sum_exp_a = np.sum(exp_a)\n",
    "    y = exp_a / sum_exp_a\n",
    "    \n",
    "    return y"
   ]
  },
  {
   "cell_type": "code",
   "execution_count": 13,
   "id": "bb5d6da9",
   "metadata": {},
   "outputs": [
    {
     "name": "stdout",
     "output_type": "stream",
     "text": [
      "[0.01821127 0.24519181 0.73659691]\n",
      "1.0\n"
     ]
    }
   ],
   "source": [
    "a = np.array([0.3,2.9,4.0])\n",
    "y = softmax(a)\n",
    "print(y)\n",
    "print(np.sum(y))"
   ]
  },
  {
   "cell_type": "code",
   "execution_count": null,
   "id": "bf653926",
   "metadata": {},
   "outputs": [],
   "source": []
  },
  {
   "cell_type": "code",
   "execution_count": null,
   "id": "651588e5",
   "metadata": {},
   "outputs": [],
   "source": []
  },
  {
   "cell_type": "code",
   "execution_count": 38,
   "id": "ffb5fb27",
   "metadata": {},
   "outputs": [],
   "source": [
    "random_weights = np.random.randn(2,4)\n",
    "random_baises = np.zeros((1,4))\n",
    "random_weights, random_baises\n",
    "inputs = np.array([1,2])\n",
    "ouput = np.dot(inputs, random_weights) + random_biases\n"
   ]
  },
  {
   "cell_type": "code",
   "execution_count": 94,
   "id": "5a8b6f9c",
   "metadata": {},
   "outputs": [
    {
     "name": "stdout",
     "output_type": "stream",
     "text": [
      "activation: [[0.17826072 2.32907988 1.41472328]\n",
      " [2.43571085 3.3829287  4.054956  ]]\n",
      "softmax: [[0.0320586  0.08714432]\n",
      " [0.23688282 0.64391426]]\n"
     ]
    }
   ],
   "source": [
    "class LayerDense:\n",
    "    def __init__(self, inputs_n, nodes_n):\n",
    "        self.weights = np.random.randn(inputs_n, nodes_n)\n",
    "        self.baises = np.zeros((1,nodes_n))\n",
    "    def forward(self, inputs):\n",
    "        self.output = np.dot(inputs, self.weights) + self.baises\n",
    "class ActivationRelu:\n",
    "    def forward(self, inputs):\n",
    "        self.output = np.maximum(0, inputs)\n",
    "        \n",
    "class ActivationSoftmax:\n",
    "    def forward(self, inputs):\n",
    "        exp_values = np.exp(inputs)\n",
    "        p = exp_values / np.sum(exp_values)\n",
    "        self.output = p\n",
    "        \n",
    "inputs = np.array([[1, 2],\n",
    "                   [3, 4]])\n",
    "\n",
    "dense1 = LayerDense(2, 3)\n",
    "activation1 = ActivationRelu()\n",
    "dense1.forward(inputs)\n",
    "activation1.forward(dense1.output)\n",
    "print('activation:',activation1.output)\n",
    "\n",
    "softmax = ActivationSoftmax()\n",
    "softmax.forward(inputs)\n",
    "print('softmax:',softmax.output)"
   ]
  },
  {
   "cell_type": "code",
   "execution_count": 81,
   "id": "d68e6379",
   "metadata": {},
   "outputs": [
    {
     "data": {
      "text/plain": [
       "array([0.89528266, 0.02470831, 0.08000903])"
      ]
     },
     "execution_count": 81,
     "metadata": {},
     "output_type": "execute_result"
    }
   ],
   "source": [
    "test_output = [4.8, 1.21, 2.385]\n",
    "exp_values = np.exp(test_output)\n",
    "norm_values = exp_values/np.sum(exp_values)\n",
    "norm_values"
   ]
  },
  {
   "cell_type": "code",
   "execution_count": 95,
   "id": "38754812",
   "metadata": {},
   "outputs": [
    {
     "data": {
      "text/plain": [
       "array([[3.65605253e-02, 3.68052789e-05, 4.59452944e-02, 9.17245446e-01,\n",
       "        2.11928757e-04]])"
      ]
     },
     "execution_count": 95,
     "metadata": {},
     "output_type": "execute_result"
    }
   ],
   "source": [
    "input_data = np.array([1, 2, 3])\n",
    "dense1 = LayerDense(3, 5)\n",
    "activation1 = ActivationRelu()\n",
    "dense2 = LayerDense(5, 5)\n",
    "activation2 = ActivationSoftmax()\n",
    "dense1.forward(input_data)\n",
    "\n",
    "activation1.forward(dense1.output)\n",
    "dense2.forward(activation1.output)\n",
    "\n",
    "activation2.forward(dense2.output)\n",
    "activation2.output"
   ]
  }
 ],
 "metadata": {
  "kernelspec": {
   "display_name": "Python 3 (ipykernel)",
   "language": "python",
   "name": "python3"
  },
  "language_info": {
   "codemirror_mode": {
    "name": "ipython",
    "version": 3
   },
   "file_extension": ".py",
   "mimetype": "text/x-python",
   "name": "python",
   "nbconvert_exporter": "python",
   "pygments_lexer": "ipython3",
   "version": "3.9.13"
  }
 },
 "nbformat": 4,
 "nbformat_minor": 5
}
