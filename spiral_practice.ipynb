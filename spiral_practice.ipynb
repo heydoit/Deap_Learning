{
 "cells": [
  {
   "cell_type": "code",
   "execution_count": null,
   "id": "1e27d315",
   "metadata": {},
   "outputs": [],
   "source": [
    "import numpy as np\n",
    "\n",
    "def spiral_data(samples = 100, classes = 3):\n",
    "    X = np.zeros((sampels * classes, 2))\n",
    "    y = np.zeros(samples * classes, dtype = 'uinit8')\n",
    "    \n",
    "    for j in range(classes):\n",
    "        ix = range(samples * j, samples * (j + 1))\n",
    "        r = np.linspace(0.0,1)\n",
    "        t"
   ]
  }
 ],
 "metadata": {
  "kernelspec": {
   "display_name": "Python 3 (ipykernel)",
   "language": "python",
   "name": "python3"
  },
  "language_info": {
   "codemirror_mode": {
    "name": "ipython",
    "version": 3
   },
   "file_extension": ".py",
   "mimetype": "text/x-python",
   "name": "python",
   "nbconvert_exporter": "python",
   "pygments_lexer": "ipython3",
   "version": "3.9.13"
  }
 },
 "nbformat": 4,
 "nbformat_minor": 5
}
