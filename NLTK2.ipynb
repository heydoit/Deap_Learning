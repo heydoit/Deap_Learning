{
 "cells": [
  {
   "cell_type": "code",
   "execution_count": 9,
   "id": "322c74b9",
   "metadata": {},
   "outputs": [
    {
     "data": {
      "text/plain": [
       "['a', 'b', 'c', 'd', '.', '.', '.', 'a', 'b', 'b', 'c', 'c']"
      ]
     },
     "execution_count": 9,
     "metadata": {},
     "output_type": "execute_result"
    }
   ],
   "source": [
    "import re\n",
    "data = 'abcd...abbcc'\n",
    "re.findall('.', data)"
   ]
  },
  {
   "cell_type": "code",
   "execution_count": 10,
   "id": "25ca74af",
   "metadata": {},
   "outputs": [
    {
     "name": "stdout",
     "output_type": "stream",
     "text": [
      "['a', 'a']\n",
      "['a', '', '', '', '', '', '', 'a', '', '', '', '', '']\n",
      "['a', 'a']\n",
      "['c', 'cc']\n"
     ]
    }
   ],
   "source": [
    "print(re.findall('a',data))\n",
    "print(re.findall('a*', data))\n",
    "print(re.findall('a+', data))\n",
    "print(re.findall('c+', data))"
   ]
  },
  {
   "cell_type": "code",
   "execution_count": 16,
   "id": "3ee873ac",
   "metadata": {},
   "outputs": [
    {
     "name": "stdout",
     "output_type": "stream",
     "text": [
      "['', '', 'c', '', '', '', '', '', '', '', 'c', 'c', '']\n",
      "['', '', 'c', '', '', '', '', '', '', '', 'cc', '']\n"
     ]
    }
   ],
   "source": [
    "print(re.findall('c?', data))\n",
    "print(re.findall('c*', data))"
   ]
  },
  {
   "cell_type": "code",
   "execution_count": 17,
   "id": "98ea8445",
   "metadata": {},
   "outputs": [
    {
     "name": "stdout",
     "output_type": "stream",
     "text": [
      "['H', 'a', 'v', 'e', ' ', 'a', ' ', 'G', 'o', 'o', 'd', ' ', 'D', 'a', 'y']\n",
      "['Have a Good Day', '']\n"
     ]
    }
   ],
   "source": [
    "print(re.findall('.', 'Have a Good Day'))\n",
    "print(re.findall('.*', 'Have a Good Day'))"
   ]
  },
  {
   "cell_type": "code",
   "execution_count": 20,
   "id": "ab77363e",
   "metadata": {},
   "outputs": [
    {
     "data": {
      "text/plain": [
       "['Tom']"
      ]
     },
     "execution_count": 20,
     "metadata": {},
     "output_type": "execute_result"
    }
   ],
   "source": [
    "data2 = 'Tom goes on'\n",
    "re.findall('^Tom', data2)"
   ]
  },
  {
   "cell_type": "code",
   "execution_count": 23,
   "id": "9098bed8",
   "metadata": {},
   "outputs": [
    {
     "data": {
      "text/plain": [
       "['ph', 'ph', 'ah']"
      ]
     },
     "execution_count": 23,
     "metadata": {},
     "output_type": "execute_result"
    }
   ],
   "source": [
    "data3 = 'Telephone number Telephone number ah'\n",
    "re.findall('[p|a][h]', data3)"
   ]
  },
  {
   "cell_type": "code",
   "execution_count": 24,
   "id": "040815e9",
   "metadata": {},
   "outputs": [
    {
     "data": {
      "text/plain": [
       "['ph', 'ph', 'ah']"
      ]
     },
     "execution_count": 24,
     "metadata": {},
     "output_type": "execute_result"
    }
   ],
   "source": [
    "re.findall('[p,a][h]', data3)"
   ]
  },
  {
   "cell_type": "code",
   "execution_count": 26,
   "id": "0606a4e8",
   "metadata": {},
   "outputs": [
    {
     "data": {
      "text/plain": [
       "['4', '1', '2', '8']"
      ]
     },
     "execution_count": 26,
     "metadata": {},
     "output_type": "execute_result"
    }
   ],
   "source": [
    "data4 = '서울시 강남구 역삼동 412번지 8호'\n",
    "re.findall('\\d',data4)"
   ]
  },
  {
   "cell_type": "code",
   "execution_count": 60,
   "id": "888d51e2",
   "metadata": {},
   "outputs": [
    {
     "data": {
      "text/plain": [
       "['412번지 8호']"
      ]
     },
     "execution_count": 60,
     "metadata": {},
     "output_type": "execute_result"
    }
   ],
   "source": [
    "re.findall('\\d\\S\\d\\S\\S\\s\\d\\S',data4)"
   ]
  },
  {
   "cell_type": "code",
   "execution_count": 65,
   "id": "cb1aa2e3",
   "metadata": {},
   "outputs": [
    {
     "data": {
      "text/plain": [
       "['412번지 8호']"
      ]
     },
     "execution_count": 65,
     "metadata": {},
     "output_type": "execute_result"
    }
   ],
   "source": [
    "re.findall('\\d{2,4}\\S\\S\\s\\d{1,3}\\S',data4)"
   ]
  },
  {
   "cell_type": "code",
   "execution_count": 72,
   "id": "2c21cfde",
   "metadata": {},
   "outputs": [
    {
     "data": {
      "text/plain": [
       "[('412', '8')]"
      ]
     },
     "execution_count": 72,
     "metadata": {},
     "output_type": "execute_result"
    }
   ],
   "source": [
    "pattern = '(\\d*)번지\\s(\\d*)호'\n",
    "d = re.compile(pattern)\n",
    "d2 = d.findall(data4)\n",
    "d2"
   ]
  },
  {
   "cell_type": "code",
   "execution_count": 74,
   "id": "d7934242",
   "metadata": {},
   "outputs": [
    {
     "data": {
      "text/plain": [
       "<re.Match object; span=(12, 20), match='412번지 8호'>"
      ]
     },
     "execution_count": 74,
     "metadata": {},
     "output_type": "execute_result"
    }
   ],
   "source": [
    "d3 = d.search(data4)\n",
    "d3"
   ]
  },
  {
   "cell_type": "code",
   "execution_count": 77,
   "id": "cce4ba01",
   "metadata": {},
   "outputs": [],
   "source": [
    "data5 = 'ssdddd,,,,ssdadd'\n",
    "pattern = r's,d'\n",
    "d = re.compile(pattern)\n",
    "d.match(data5) \n",
    "\n",
    "# match: 시작점부터 서치\n",
    "# search : 하나만\n",
    "# findall : 모든 것"
   ]
  },
  {
   "cell_type": "code",
   "execution_count": null,
   "id": "8b62be04",
   "metadata": {},
   "outputs": [],
   "source": []
  }
 ],
 "metadata": {
  "kernelspec": {
   "display_name": "Python 3 (ipykernel)",
   "language": "python",
   "name": "python3"
  },
  "language_info": {
   "codemirror_mode": {
    "name": "ipython",
    "version": 3
   },
   "file_extension": ".py",
   "mimetype": "text/x-python",
   "name": "python",
   "nbconvert_exporter": "python",
   "pygments_lexer": "ipython3",
   "version": "3.9.13"
  }
 },
 "nbformat": 4,
 "nbformat_minor": 5
}
