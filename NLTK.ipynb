{
 "cells": [
  {
   "cell_type": "code",
   "execution_count": 1,
   "id": "7d2e4183",
   "metadata": {},
   "outputs": [],
   "source": [
    "import nltk"
   ]
  },
  {
   "cell_type": "code",
   "execution_count": 2,
   "id": "cddd60f7",
   "metadata": {},
   "outputs": [
    {
     "name": "stdout",
     "output_type": "stream",
     "text": [
      "showing info https://raw.githubusercontent.com/nltk/nltk_data/gh-pages/index.xml\n"
     ]
    },
    {
     "data": {
      "text/plain": [
       "True"
      ]
     },
     "execution_count": 2,
     "metadata": {},
     "output_type": "execute_result"
    }
   ],
   "source": [
    "nltk.download()"
   ]
  },
  {
   "cell_type": "code",
   "execution_count": 3,
   "id": "841a5866",
   "metadata": {},
   "outputs": [
    {
     "data": {
      "text/plain": [
       "['I', 'am', 'a', 'man', '.', 'Have', 'a', 'good', 'day']"
      ]
     },
     "execution_count": 3,
     "metadata": {},
     "output_type": "execute_result"
    }
   ],
   "source": [
    "from nltk.tokenize import word_tokenize, sent_tokenize\n",
    "mydata = 'I am a man. Have a good day'\n",
    "word_tokenize(mydata)"
   ]
  },
  {
   "cell_type": "code",
   "execution_count": 4,
   "id": "8d7eb53d",
   "metadata": {},
   "outputs": [],
   "source": [
    "mydata2 = 'I am going to go school. I will studying'"
   ]
  },
  {
   "cell_type": "code",
   "execution_count": 5,
   "id": "3fc340aa",
   "metadata": {},
   "outputs": [
    {
     "data": {
      "text/plain": [
       "['I', 'am', 'going', 'to', 'go', 'school', '.', 'I', 'will', 'studying']"
      ]
     },
     "execution_count": 5,
     "metadata": {},
     "output_type": "execute_result"
    }
   ],
   "source": [
    "word_tokenize(mydata2)"
   ]
  },
  {
   "cell_type": "code",
   "execution_count": 6,
   "id": "22ff5e32",
   "metadata": {},
   "outputs": [
    {
     "data": {
      "text/plain": [
       "['I am going to go school.', 'I will studying']"
      ]
     },
     "execution_count": 6,
     "metadata": {},
     "output_type": "execute_result"
    }
   ],
   "source": [
    "sent_tokenize(mydata2)"
   ]
  },
  {
   "cell_type": "code",
   "execution_count": 7,
   "id": "3b8d64f6",
   "metadata": {},
   "outputs": [],
   "source": [
    "import spacy"
   ]
  },
  {
   "cell_type": "code",
   "execution_count": 8,
   "id": "fe90fbbe",
   "metadata": {},
   "outputs": [],
   "source": [
    "nlp = spacy.blank(\"en\")"
   ]
  },
  {
   "cell_type": "code",
   "execution_count": 9,
   "id": "2a1c460b",
   "metadata": {},
   "outputs": [],
   "source": [
    "import konlpy"
   ]
  },
  {
   "cell_type": "code",
   "execution_count": 10,
   "id": "b275dd4e",
   "metadata": {},
   "outputs": [],
   "source": [
    "from konlpy.tag import Hannanum, Kkma, Komoran, Mecab, Okt\n",
    "okt = Okt()"
   ]
  },
  {
   "cell_type": "code",
   "execution_count": 11,
   "id": "8e7ddceb",
   "metadata": {},
   "outputs": [
    {
     "data": {
      "text/plain": [
       "['안녕하세요', '.', '반갑습니다', '.', '즐거운', '금요일', '되세요', '.']"
      ]
     },
     "execution_count": 11,
     "metadata": {},
     "output_type": "execute_result"
    }
   ],
   "source": [
    "data3 = '안녕하세요. 반갑습니다. 즐거운 금요일 되세요.'\n",
    "okt.morphs(data3)"
   ]
  },
  {
   "cell_type": "code",
   "execution_count": 12,
   "id": "775c7f2b",
   "metadata": {},
   "outputs": [],
   "source": [
    "# Hannanum, Kkma, Komoran, Mecab, Okt /// Mecab ==> window에선 지원x"
   ]
  },
  {
   "cell_type": "code",
   "execution_count": 13,
   "id": "ae3334b5",
   "metadata": {},
   "outputs": [
    {
     "data": {
      "text/plain": [
       "['안녕', '하', '세요', '.', '반갑', '습니다', '.', '즐거우', 'ㄴ', '금요일', '되', '세요', '.']"
      ]
     },
     "execution_count": 13,
     "metadata": {},
     "output_type": "execute_result"
    }
   ],
   "source": [
    "kkma = Kkma()\n",
    "kkma.morphs(data3)"
   ]
  },
  {
   "cell_type": "code",
   "execution_count": 14,
   "id": "c3a81242",
   "metadata": {},
   "outputs": [
    {
     "data": {
      "text/plain": [
       "['안녕',\n",
       " '하',\n",
       " '세',\n",
       " '요',\n",
       " '.',\n",
       " '반갑',\n",
       " '습니다',\n",
       " '.',\n",
       " '즐겁',\n",
       " '은',\n",
       " '금요일',\n",
       " '되',\n",
       " '세',\n",
       " '요',\n",
       " '.']"
      ]
     },
     "execution_count": 14,
     "metadata": {},
     "output_type": "execute_result"
    }
   ],
   "source": [
    "hann = Hannanum()\n",
    "hann.morphs(data3)"
   ]
  },
  {
   "cell_type": "code",
   "execution_count": 15,
   "id": "38eaf821",
   "metadata": {},
   "outputs": [
    {
     "data": {
      "text/plain": [
       "['안녕하세요', '.', '반갑습니다', '.', '즐겁', 'ㄴ', '금요일', '되', '시', '어요', '.']"
      ]
     },
     "execution_count": 15,
     "metadata": {},
     "output_type": "execute_result"
    }
   ],
   "source": [
    "komoran = Komoran()\n",
    "komoran.morphs(data3)"
   ]
  },
  {
   "cell_type": "code",
   "execution_count": 16,
   "id": "557cf1eb",
   "metadata": {},
   "outputs": [],
   "source": [
    "data4 = 'hello everyone. my name is yujin.'\n"
   ]
  },
  {
   "cell_type": "code",
   "execution_count": 17,
   "id": "0834a6fa",
   "metadata": {},
   "outputs": [
    {
     "data": {
      "text/plain": [
       "['hello', 'everyone', '.', 'my', 'name', 'is', 'yujin', '.']"
      ]
     },
     "execution_count": 17,
     "metadata": {},
     "output_type": "execute_result"
    }
   ],
   "source": [
    "okt.morphs(data4)"
   ]
  },
  {
   "cell_type": "code",
   "execution_count": 18,
   "id": "56be5baf",
   "metadata": {},
   "outputs": [
    {
     "data": {
      "text/plain": [
       "['hello', 'everyone', '.', 'my', 'name', 'is', 'yujin', '.']"
      ]
     },
     "execution_count": 18,
     "metadata": {},
     "output_type": "execute_result"
    }
   ],
   "source": [
    "komoran.morphs(data4)"
   ]
  },
  {
   "cell_type": "code",
   "execution_count": 19,
   "id": "22630e55",
   "metadata": {},
   "outputs": [
    {
     "data": {
      "text/plain": [
       "['hello', 'everyone', '.', 'my', 'name', 'is', 'yujin', '.']"
      ]
     },
     "execution_count": 19,
     "metadata": {},
     "output_type": "execute_result"
    }
   ],
   "source": [
    "hann.morphs(data4)"
   ]
  },
  {
   "cell_type": "code",
   "execution_count": 20,
   "id": "2c74ca5b",
   "metadata": {},
   "outputs": [
    {
     "data": {
      "text/plain": [
       "['hello', 'everyone', '.', 'my', 'name', 'is', 'yujin', '.']"
      ]
     },
     "execution_count": 20,
     "metadata": {},
     "output_type": "execute_result"
    }
   ],
   "source": [
    "kkma.morphs(data4)"
   ]
  },
  {
   "cell_type": "code",
   "execution_count": 47,
   "id": "54f24fa9",
   "metadata": {},
   "outputs": [],
   "source": [
    "from konlpy.corpus import kolaw, kobill\n",
    "kolaw = kolaw.open('constitution.txt').read()[:20]\n"
   ]
  },
  {
   "cell_type": "code",
   "execution_count": 22,
   "id": "e3694e63",
   "metadata": {},
   "outputs": [
    {
     "data": {
      "text/plain": [
       "['1809890.txt',\n",
       " '1809891.txt',\n",
       " '1809892.txt',\n",
       " '1809893.txt',\n",
       " '1809894.txt',\n",
       " '1809895.txt',\n",
       " '1809896.txt',\n",
       " '1809897.txt',\n",
       " '1809898.txt',\n",
       " '1809899.txt']"
      ]
     },
     "execution_count": 22,
     "metadata": {},
     "output_type": "execute_result"
    }
   ],
   "source": [
    "kobill.fileids()"
   ]
  },
  {
   "cell_type": "code",
   "execution_count": 23,
   "id": "50362e1a",
   "metadata": {},
   "outputs": [],
   "source": [
    "bill = kobill.open('1809891.txt').read()"
   ]
  },
  {
   "cell_type": "code",
   "execution_count": 24,
   "id": "bc28891f",
   "metadata": {},
   "outputs": [
    {
     "data": {
      "text/plain": [
       "['국가공무원법', '일부개정법률안', '정의화의원', '대표발', '의', '번']"
      ]
     },
     "execution_count": 24,
     "metadata": {},
     "output_type": "execute_result"
    }
   ],
   "source": [
    "hann.nouns(bill[:40])"
   ]
  },
  {
   "cell_type": "code",
   "execution_count": 25,
   "id": "e1ecbd74",
   "metadata": {},
   "outputs": [
    {
     "data": {
      "text/plain": [
       "['국가공무원',\n",
       " '법',\n",
       " '일부',\n",
       " '개정',\n",
       " '법률',\n",
       " '안',\n",
       " '정의화',\n",
       " '의원',\n",
       " '대표',\n",
       " '발의',\n",
       " '의',\n",
       " '안',\n",
       " '번',\n",
       " '호']"
      ]
     },
     "execution_count": 25,
     "metadata": {},
     "output_type": "execute_result"
    }
   ],
   "source": [
    "okt.nouns(bill[:40])"
   ]
  },
  {
   "cell_type": "code",
   "execution_count": 26,
   "id": "3169bfcb",
   "metadata": {},
   "outputs": [
    {
     "data": {
      "text/plain": [
       "['국가',\n",
       " '국가공무원법',\n",
       " '공무원',\n",
       " '법',\n",
       " '일부',\n",
       " '일부개정법률안',\n",
       " '개정',\n",
       " '법률안',\n",
       " '정의',\n",
       " '정의화의원',\n",
       " '화',\n",
       " '의원',\n",
       " '대표',\n",
       " '대표발의',\n",
       " '발의',\n",
       " '의',\n",
       " '안',\n",
       " '호']"
      ]
     },
     "execution_count": 26,
     "metadata": {},
     "output_type": "execute_result"
    }
   ],
   "source": [
    "kkma.nouns(bill[:40])"
   ]
  },
  {
   "cell_type": "code",
   "execution_count": 27,
   "id": "407aeb77",
   "metadata": {},
   "outputs": [
    {
     "data": {
      "text/plain": [
       "{'Adjective': '형용사',\n",
       " 'Adverb': '부사',\n",
       " 'Alpha': '알파벳',\n",
       " 'Conjunction': '접속사',\n",
       " 'Determiner': '관형사',\n",
       " 'Eomi': '어미',\n",
       " 'Exclamation': '감탄사',\n",
       " 'Foreign': '외국어, 한자 및 기타기호',\n",
       " 'Hashtag': '트위터 해쉬태그',\n",
       " 'Josa': '조사',\n",
       " 'KoreanParticle': '(ex: ㅋㅋ)',\n",
       " 'Noun': '명사',\n",
       " 'Number': '숫자',\n",
       " 'PreEomi': '선어말어미',\n",
       " 'Punctuation': '구두점',\n",
       " 'ScreenName': '트위터 아이디',\n",
       " 'Suffix': '접미사',\n",
       " 'Unknown': '미등록어',\n",
       " 'Verb': '동사'}"
      ]
     },
     "execution_count": 27,
     "metadata": {},
     "output_type": "execute_result"
    }
   ],
   "source": [
    "okt.tagset"
   ]
  },
  {
   "cell_type": "code",
   "execution_count": 51,
   "id": "24c3a231",
   "metadata": {},
   "outputs": [
    {
     "data": {
      "image/png": "[encoded data removed]",
      "text/plain": [
       "<Figure size 640x480 with 1 Axes>"
      ]
     },
     "metadata": {},
     "output_type": "display_data"
    }
   ],
   "source": [
    "from nltk import Text\n",
    "import matplotlib.pyplot as plt\n",
    "import warnings\n",
    "warnings.filterwarnings('ignore')\n",
    "\n",
    "kolaw = Text(okt.nouns(law), name = 'kolaw')\n",
    "kolaw.plot(30)\n",
    "plt.show()"
   ]
  },
  {
   "cell_type": "code",
   "execution_count": null,
   "id": "0e7620cb",
   "metadata": {},
   "outputs": [],
   "source": []
  },
  {
   "cell_type": "code",
   "execution_count": 126,
   "id": "382c426a",
   "metadata": {},
   "outputs": [
    {
     "data": {
      "text/plain": [
       "'Cats are smaller the dogs.'"
      ]
     },
     "execution_count": 126,
     "metadata": {},
     "output_type": "execute_result"
    }
   ],
   "source": [
    "import re\n",
    "data = 'Cats are smaller the dogs.'\n",
    "result = re.match('(.*) are (.*?)', data)\n",
    "\n",
    "\n",
    "result.string"
   ]
  },
  {
   "cell_type": "markdown",
   "id": "721aab65",
   "metadata": {},
   "source": [
    "* '.' ==> 무조건 하나 나오라\n",
    "* '*' ==> 직전 패턴 0회 이상 반복\n",
    "* '?' ==> 직전 패턴 0 / 1회 반복"
   ]
  },
  {
   "cell_type": "code",
   "execution_count": 63,
   "id": "065d564f",
   "metadata": {},
   "outputs": [
    {
     "data": {
      "text/plain": [
       "('Cats', 'smaller')"
      ]
     },
     "execution_count": 63,
     "metadata": {},
     "output_type": "execute_result"
    }
   ],
   "source": [
    "result.groups()"
   ]
  },
  {
   "cell_type": "code",
   "execution_count": 65,
   "id": "856bf8e1",
   "metadata": {},
   "outputs": [],
   "source": [
    "import re\n",
    "data3 = 'C:\\MyFolder\\Students\\n'"
   ]
  },
  {
   "cell_type": "code",
   "execution_count": 80,
   "id": "82b3c8d8",
   "metadata": {},
   "outputs": [
    {
     "data": {
      "text/plain": [
       "'i'"
      ]
     },
     "execution_count": 80,
     "metadata": {},
     "output_type": "execute_result"
    }
   ],
   "source": [
    "import re\n",
    "result = re.match('i','i like you. i like them' )\n",
    "result.group()"
   ]
  },
  {
   "cell_type": "code",
   "execution_count": 135,
   "id": "86f692c9",
   "metadata": {},
   "outputs": [
    {
     "name": "stdout",
     "output_type": "stream",
     "text": [
      "i am a man\n",
      "i go to school\n"
     ]
    }
   ],
   "source": [
    "data4 = 'i am a man\\ni go to school'\n",
    "print(data4)"
   ]
  },
  {
   "cell_type": "code",
   "execution_count": 146,
   "id": "f7f3ae23",
   "metadata": {},
   "outputs": [
    {
     "data": {
      "text/plain": [
       "<re.Match object; span=(0, 4), match='i am'>"
      ]
     },
     "execution_count": 146,
     "metadata": {},
     "output_type": "execute_result"
    }
   ],
   "source": [
    "re.match('....', data4)"
   ]
  },
  {
   "cell_type": "code",
   "execution_count": 177,
   "id": "1c2725b5",
   "metadata": {},
   "outputs": [
    {
     "data": {
      "text/plain": [
       "<re.Match object; span=(0, 7), match='fDa-842'>"
      ]
     },
     "execution_count": 177,
     "metadata": {},
     "output_type": "execute_result"
    }
   ],
   "source": [
    "data5 = 'fDa-842'\n",
    "re.match('[a-z][a-cA-Z][a-z]-[0-9][0-9][0-9]', data5)"
   ]
  },
  {
   "cell_type": "code",
   "execution_count": 185,
   "id": "38a14106",
   "metadata": {},
   "outputs": [
    {
     "data": {
      "text/plain": [
       "<re.Match object; span=(0, 4), match='abbb'>"
      ]
     },
     "execution_count": 185,
     "metadata": {},
     "output_type": "execute_result"
    }
   ],
   "source": [
    "data7 = 'abbb'\n",
    "re.match('ab{2,3}',data7)"
   ]
  },
  {
   "cell_type": "markdown",
   "id": "98ee2dc7",
   "metadata": {},
   "source": [
    "* 번호 찾기"
   ]
  },
  {
   "cell_type": "code",
   "execution_count": 224,
   "id": "7855db66",
   "metadata": {},
   "outputs": [
    {
     "data": {
      "text/plain": [
       "'01001231234'"
      ]
     },
     "execution_count": 224,
     "metadata": {},
     "output_type": "execute_result"
    }
   ],
   "source": [
    "data8 = 'I am a man. my telephone number is 010-0123-1234. is it right a number?'\n",
    "re.sub(r'[^0-9]','', data8)"
   ]
  },
  {
   "cell_type": "code",
   "execution_count": 260,
   "id": "705d4f46",
   "metadata": {},
   "outputs": [
    {
     "data": {
      "text/plain": [
       "<re.Match object; span=(35, 48), match='010-0123-1234'>"
      ]
     },
     "execution_count": 260,
     "metadata": {},
     "output_type": "execute_result"
    }
   ],
   "source": [
    "re.search('[0-9]{3}-[0-9]{4}-[0-9]{4}', data8)"
   ]
  },
  {
   "cell_type": "code",
   "execution_count": null,
   "id": "b6f3ff28",
   "metadata": {},
   "outputs": [],
   "source": []
  },
  {
   "cell_type": "code",
   "execution_count": 249,
   "id": "32aecc87",
   "metadata": {
    "scrolled": true
   },
   "outputs": [
    {
     "name": "stdout",
     "output_type": "stream",
     "text": [
      "<re.Match object; span=(0, 26), match='we were smarter than yours'>\n",
      "('we', 'smarter', 'than')\n",
      "we smarter than\n"
     ]
    }
   ],
   "source": [
    "data9 = 'we were smarter than yours'\n",
    "result = re.match('(.*) were (.*?) (.*) .*', data9)\n",
    "if result:\n",
    "    print(result)\n",
    "    print(result.groups())\n",
    "    print(result.group(1),result.group(2),result.group(3))\n",
    "else: print(None)"
   ]
  },
  {
   "cell_type": "markdown",
   "id": "0480e0e3",
   "metadata": {},
   "source": [
    "* match 와 search 차이"
   ]
  },
  {
   "cell_type": "code",
   "execution_count": 253,
   "id": "49fc0977",
   "metadata": {},
   "outputs": [
    {
     "name": "stdout",
     "output_type": "stream",
     "text": [
      "None\n",
      "ok yours\n"
     ]
    }
   ],
   "source": [
    "import re\n",
    "matchResult = re.match('yours', data9)\n",
    "if matchResult:\n",
    "    print('ok', matchResult.group())\n",
    "else: print(None)\n",
    "    \n",
    "import re\n",
    "matchResult = re.search('yours', data9)\n",
    "if matchResult:\n",
    "    print('ok', matchResult.group())\n",
    "else: print(None)"
   ]
  },
  {
   "cell_type": "code",
   "execution_count": 268,
   "id": "dbd6253e",
   "metadata": {},
   "outputs": [
    {
     "name": "stdout",
     "output_type": "stream",
     "text": [
      "010\n",
      "0123\n",
      "1234\n"
     ]
    }
   ],
   "source": [
    "import re\n",
    "data8 = 'I am a man. my telephone number is 010-0123-1234. is it right a number?'\n",
    "regex = re.compile('([0-9]{3})-([0-9]{4})-([0-9]{4})')\n",
    "text = regex.search(data8)\n",
    "print(text.group(1))\n",
    "print(text.group(2))\n",
    "print(text.group(3))"
   ]
  },
  {
   "cell_type": "code",
   "execution_count": 270,
   "id": "7c0c856d",
   "metadata": {},
   "outputs": [
    {
     "name": "stdout",
     "output_type": "stream",
     "text": [
      "010-9999-9999 # This is phone number\n",
      "010-9999-9999 \n",
      "01099999999\n"
     ]
    },
    {
     "data": {
      "text/plain": [
       "<re.Match object; span=(5, 12), match='Science'>"
      ]
     },
     "execution_count": 270,
     "metadata": {},
     "output_type": "execute_result"
    }
   ],
   "source": [
    "import re\n",
    "phone_data = \"010-9999-9999 # This is phone number\"\n",
    "print(phone_data)\n",
    "phone_num = re.sub('#.*$', '', phone_data)\n",
    "print(phone_num)\n",
    "\n",
    "phone_num2 = re.sub(r'\\D', '', phone_data)\n",
    "print(phone_num2)\n",
    "\n",
    "data4 = 'Data Science'\n",
    "x = re.search('Science$', data4)\n",
    "x\n",
    "\n",
    "data4 = 'Data Science'\n",
    "x = re.search('Science$', data4, re.I|re.M)\n",
    "x"
   ]
  },
  {
   "cell_type": "code",
   "execution_count": 271,
   "id": "8b2e3e86",
   "metadata": {},
   "outputs": [],
   "source": [
    "import urllib.request\n",
    "from re import findall\n",
    "url = 'http://www.summet.com/dmsi/html/codesamples/addresses.html'\n",
    "response = urllib.request.urlopen(url)\n",
    "html = response.read()\n",
    "htmlStr = html.decode()\n"
   ]
  },
  {
   "cell_type": "code",
   "execution_count": 317,
   "id": "06af3436",
   "metadata": {
    "scrolled": true
   },
   "outputs": [
    {
     "data": {
      "text/plain": [
       "['(257) 563-7401',\n",
       " '(372) 587-2335',\n",
       " '(786) 713-8616',\n",
       " '(793) 151-6230',\n",
       " '(492) 709-6392',\n",
       " '(654) 393-5734',\n",
       " '(404) 960-3807',\n",
       " '(314) 244-6306',\n",
       " '(947) 278-5929',\n",
       " '(684) 579-1879',\n",
       " '(389) 737-2852',\n",
       " '(660) 663-4518',\n",
       " '(608) 265-2215',\n",
       " '(959) 119-8364',\n",
       " '(468) 353-2641',\n",
       " '(248) 675-4007',\n",
       " '(939) 353-1107',\n",
       " '(570) 873-7090',\n",
       " '(302) 259-2375',\n",
       " '(717) 450-4729',\n",
       " '(453) 391-4650',\n",
       " '(559) 104-5475',\n",
       " '(387) 142-9434',\n",
       " '(516) 745-4496',\n",
       " '(326) 677-3419',\n",
       " '(746) 679-2470',\n",
       " '(455) 430-0989',\n",
       " '(490) 936-4694',\n",
       " '(985) 834-8285',\n",
       " '(662) 661-1446',\n",
       " '(802) 668-8240',\n",
       " '(477) 768-9247',\n",
       " '(791) 239-9057',\n",
       " '(832) 109-0213',\n",
       " '(837) 196-3274',\n",
       " '(268) 442-2428',\n",
       " '(850) 676-5117',\n",
       " '(861) 546-5032',\n",
       " '(176) 805-4108',\n",
       " '(715) 912-6931',\n",
       " '(993) 554-0563',\n",
       " '(357) 616-5411',\n",
       " '(121) 347-0086',\n",
       " '(304) 506-6314',\n",
       " '(425) 288-2332',\n",
       " '(145) 987-4962',\n",
       " '(187) 582-9707',\n",
       " '(750) 558-3965',\n",
       " '(492) 467-3131',\n",
       " '(774) 914-2510',\n",
       " '(888) 106-8550',\n",
       " '(539) 567-3573',\n",
       " '(693) 337-2849',\n",
       " '(545) 604-9386',\n",
       " '(221) 156-5026',\n",
       " '(414) 876-0865',\n",
       " '(932) 726-8645',\n",
       " '(726) 710-9826',\n",
       " '(622) 594-1662',\n",
       " '(948) 600-8503',\n",
       " '(605) 900-7508',\n",
       " '(716) 977-5775',\n",
       " '(368) 239-8275',\n",
       " '(725) 342-0650',\n",
       " '(711) 993-5187',\n",
       " '(882) 399-5084',\n",
       " '(287) 755-9948',\n",
       " '(659) 551-3389',\n",
       " '(275) 730-6868',\n",
       " '(725) 757-4047',\n",
       " '(314) 882-1496',\n",
       " '(639) 360-7590',\n",
       " '(168) 222-1592',\n",
       " '(896) 303-1164',\n",
       " '(203) 982-6130',\n",
       " '(906) 217-1470',\n",
       " '(614) 514-1269',\n",
       " '(763) 409-5446',\n",
       " '(836) 292-5324',\n",
       " '(926) 709-3295',\n",
       " '(963) 356-9268',\n",
       " '(736) 522-8584',\n",
       " '(410) 483-0352',\n",
       " '(252) 204-1434',\n",
       " '(874) 886-4174',\n",
       " '(581) 379-7573',\n",
       " '(983) 632-8597',\n",
       " '(295) 983-3476',\n",
       " '(873) 392-8802',\n",
       " '(360) 669-3923',\n",
       " '(840) 987-9449',\n",
       " '(422) 517-6053',\n",
       " '(126) 940-2753',\n",
       " '(427) 930-5255',\n",
       " '(689) 721-5145',\n",
       " '(676) 334-2174',\n",
       " '(437) 994-5270',\n",
       " '(564) 908-6970',\n",
       " '(577) 333-6244',\n",
       " '(655) 840-6139']"
      ]
     },
     "execution_count": 317,
     "metadata": {},
     "output_type": "execute_result"
    }
   ],
   "source": [
    "regex = r'\\S\\d{2,3}\\S\\s\\S?\\d{3}-?\\d{4}'\n",
    "result = findall(regex, htmlStr)\n",
    "result "
   ]
  },
  {
   "cell_type": "code",
   "execution_count": 336,
   "id": "8b5f7e25",
   "metadata": {},
   "outputs": [
    {
     "name": "stdout",
     "output_type": "stream",
     "text": [
      "['+82-2-3210-0404']\n",
      "['+20-(0)2-3761-1234~7']\n",
      "['+20-(0)2-3761-1234', '+20-(0)12-8333-3236', '+20-(0)2-3761-1234', '+20-(0)12-8333-3236', '+82-(0)2-3210-0404']\n"
     ]
    }
   ],
   "source": [
    "import urllib.request\n",
    "from re import *\n",
    "\n",
    "url = 'https://www.mofa.go.kr/eg-ko/brd/m_22133/view.do?seq=1345653'\n",
    "res = urllib.request.urlopen(url)\n",
    "html_1 = res.read()\n",
    "htmlStr_1 = html_1.decode()\n",
    "print(re.findall(r'\\S\\d{2}-\\d{1}-\\d{4}-\\d{4}',htmlStr_1))\n",
    "print(re.findall(r'\\S\\d{2}-\\S\\d{0,1}\\S\\d{1,2}-\\d{4}-\\d{4}\\S\\d{1}',htmlStr_1))\n",
    "print(re.findall(r'\\S\\d{2}-\\S\\d{0,1}\\S\\d{1,2}-\\d{4}-\\d{4}',htmlStr_1))\n"
   ]
  },
  {
   "cell_type": "code",
   "execution_count": 5,
   "id": "32ab871b",
   "metadata": {},
   "outputs": [],
   "source": [
    "import re\n",
    "data = r'asssdf.aaassssdfe...'"
   ]
  },
  {
   "cell_type": "code",
   "execution_count": 6,
   "id": "dc5a4116",
   "metadata": {},
   "outputs": [
    {
     "data": {
      "text/plain": [
       "['asss', 'a', 'a', 'assss']"
      ]
     },
     "execution_count": 6,
     "metadata": {},
     "output_type": "execute_result"
    }
   ],
   "source": [
    "re.findall('as*',data)"
   ]
  },
  {
   "cell_type": "code",
   "execution_count": 7,
   "id": "274830e6",
   "metadata": {},
   "outputs": [
    {
     "data": {
      "text/plain": [
       "['asss', 'assss']"
      ]
     },
     "execution_count": 7,
     "metadata": {},
     "output_type": "execute_result"
    }
   ],
   "source": [
    "re.findall('as+', data)"
   ]
  },
  {
   "cell_type": "code",
   "execution_count": 8,
   "id": "f221396c",
   "metadata": {},
   "outputs": [
    {
     "data": {
      "text/plain": [
       "['as', 'a', 'a', 'as']"
      ]
     },
     "execution_count": 8,
     "metadata": {},
     "output_type": "execute_result"
    }
   ],
   "source": [
    "re.findall('as?', data)"
   ]
  },
  {
   "cell_type": "code",
   "execution_count": 15,
   "id": "c5bf4e89",
   "metadata": {},
   "outputs": [
    {
     "data": {
      "text/plain": [
       "['asss', 'asss']"
      ]
     },
     "execution_count": 15,
     "metadata": {},
     "output_type": "execute_result"
    }
   ],
   "source": [
    "re.findall('as{3}', data)"
   ]
  },
  {
   "cell_type": "code",
   "execution_count": 21,
   "id": "1da0e00b",
   "metadata": {},
   "outputs": [
    {
     "data": {
      "text/plain": [
       "['asss', 'asss']"
      ]
     },
     "execution_count": 21,
     "metadata": {},
     "output_type": "execute_result"
    }
   ],
   "source": [
    "re.findall('as{2,3}', data)"
   ]
  },
  {
   "cell_type": "code",
   "execution_count": 22,
   "id": "9e9fb170",
   "metadata": {},
   "outputs": [
    {
     "data": {
      "text/plain": [
       "['a',\n",
       " 's',\n",
       " 's',\n",
       " 's',\n",
       " 'd',\n",
       " 'f',\n",
       " 'a',\n",
       " 'a',\n",
       " 'a',\n",
       " 's',\n",
       " 's',\n",
       " 's',\n",
       " 's',\n",
       " 'd',\n",
       " 'f',\n",
       " 'e']"
      ]
     },
     "execution_count": 22,
     "metadata": {},
     "output_type": "execute_result"
    }
   ],
   "source": [
    "data2 = r'myhome'\n",
    "re.findall('[a-z]', data)"
   ]
  },
  {
   "cell_type": "code",
   "execution_count": 25,
   "id": "3d4bea21",
   "metadata": {},
   "outputs": [
    {
     "data": {
      "text/plain": [
       "['myhome', '']"
      ]
     },
     "execution_count": 25,
     "metadata": {},
     "output_type": "execute_result"
    }
   ],
   "source": [
    "re.findall('[a-z]*', data2)"
   ]
  },
  {
   "cell_type": "code",
   "execution_count": 27,
   "id": "a58ef236",
   "metadata": {},
   "outputs": [
    {
     "data": {
      "text/plain": [
       "['myhome']"
      ]
     },
     "execution_count": 27,
     "metadata": {},
     "output_type": "execute_result"
    }
   ],
   "source": [
    "re.findall('[a-z]+', data2)"
   ]
  },
  {
   "cell_type": "code",
   "execution_count": 32,
   "id": "753730ea",
   "metadata": {},
   "outputs": [
    {
     "data": {
      "text/plain": [
       "<re.Match object; span=(0, 6), match='myhome'>"
      ]
     },
     "execution_count": 32,
     "metadata": {},
     "output_type": "execute_result"
    }
   ],
   "source": [
    "d = re.match('[a-z]*', data2)\n",
    "d"
   ]
  },
  {
   "cell_type": "code",
   "execution_count": 35,
   "id": "2174fe51",
   "metadata": {},
   "outputs": [
    {
     "name": "stdout",
     "output_type": "stream",
     "text": [
      "Hello.\n",
      "Good Day\n"
     ]
    }
   ],
   "source": [
    "data3 = 'Hello.\\nGood Day'\n",
    "print(data3)"
   ]
  },
  {
   "cell_type": "code",
   "execution_count": 38,
   "id": "31b2cc89",
   "metadata": {},
   "outputs": [
    {
     "data": {
      "text/plain": [
       "['\\nG']"
      ]
     },
     "execution_count": 38,
     "metadata": {},
     "output_type": "execute_result"
    }
   ],
   "source": [
    "re.findall(r'[\\n]G', data3)"
   ]
  },
  {
   "cell_type": "code",
   "execution_count": 39,
   "id": "83fef2bc",
   "metadata": {},
   "outputs": [],
   "source": [
    "re.search(r'[^a-z]', 'a')"
   ]
  },
  {
   "cell_type": "code",
   "execution_count": 42,
   "id": "233da8b8",
   "metadata": {},
   "outputs": [
    {
     "data": {
      "text/plain": [
       "['word', 'word']"
      ]
     },
     "execution_count": 42,
     "metadata": {},
     "output_type": "execute_result"
    }
   ],
   "source": [
    "re.findall(r'\\bword\\b', 'word word wordy')"
   ]
  },
  {
   "cell_type": "code",
   "execution_count": 43,
   "id": "714c7d51",
   "metadata": {},
   "outputs": [
    {
     "data": {
      "text/plain": [
       "<re.Match object; span=(0, 4), match='Word'>"
      ]
     },
     "execution_count": 43,
     "metadata": {},
     "output_type": "execute_result"
    }
   ],
   "source": [
    "re.search(f'Word', 'Word are...')"
   ]
  },
  {
   "cell_type": "code",
   "execution_count": 44,
   "id": "c3b7afa3",
   "metadata": {},
   "outputs": [
    {
     "data": {
      "text/plain": [
       "<re.Match object; span=(24, 28), match='Word'>"
      ]
     },
     "execution_count": 44,
     "metadata": {},
     "output_type": "execute_result"
    }
   ],
   "source": [
    "re.search(r'Word','Sentence are compose of WordWord')"
   ]
  },
  {
   "cell_type": "code",
   "execution_count": 49,
   "id": "8e37eb08",
   "metadata": {},
   "outputs": [
    {
     "data": {
      "text/plain": [
       "<re.Match object; span=(28, 32), match='Word'>"
      ]
     },
     "execution_count": 49,
     "metadata": {},
     "output_type": "execute_result"
    }
   ],
   "source": [
    "re.search(r'Word$','Sentence are compose of WordWord')"
   ]
  },
  {
   "cell_type": "code",
   "execution_count": 50,
   "id": "b0fccd17",
   "metadata": {},
   "outputs": [],
   "source": [
    "re.search(r'Word$','Sentence are compose of Word. Not sentences')"
   ]
  },
  {
   "cell_type": "code",
   "execution_count": 54,
   "id": "03aaded0",
   "metadata": {},
   "outputs": [
    {
     "data": {
      "text/plain": [
       "<re.Match object; span=(0, 5), match='color'>"
      ]
     },
     "execution_count": 54,
     "metadata": {},
     "output_type": "execute_result"
    }
   ],
   "source": [
    "re.search(r'colou?r','color')"
   ]
  },
  {
   "cell_type": "code",
   "execution_count": 56,
   "id": "fb200548",
   "metadata": {},
   "outputs": [
    {
     "data": {
      "text/plain": [
       "<re.Match object; span=(0, 10), match='2023-01-09'>"
      ]
     },
     "execution_count": 56,
     "metadata": {},
     "output_type": "execute_result"
    }
   ],
   "source": [
    "re.search(r'\\d{4}-\\d{2}-\\d{2}', '2023-01-09')"
   ]
  },
  {
   "cell_type": "code",
   "execution_count": 57,
   "id": "bb9f4525",
   "metadata": {},
   "outputs": [
    {
     "data": {
      "text/plain": [
       "<re.Match object; span=(0, 10), match='2023-01-09'>"
      ]
     },
     "execution_count": 57,
     "metadata": {},
     "output_type": "execute_result"
    }
   ],
   "source": [
    "re.search(r'\\d{4}\\S\\d{2}\\S\\d{2}', '2023-01-09')"
   ]
  },
  {
   "cell_type": "code",
   "execution_count": 59,
   "id": "2e9569f6",
   "metadata": {},
   "outputs": [
    {
     "data": {
      "text/plain": [
       "<re.Match object; span=(0, 3), match='200'>"
      ]
     },
     "execution_count": 59,
     "metadata": {},
     "output_type": "execute_result"
    }
   ],
   "source": [
    "re.search(r'\\d{3,4}', '200')"
   ]
  },
  {
   "cell_type": "code",
   "execution_count": 60,
   "id": "214d264f",
   "metadata": {},
   "outputs": [
    {
     "data": {
      "text/plain": [
       "<re.Match object; span=(0, 4), match='1234'>"
      ]
     },
     "execution_count": 60,
     "metadata": {},
     "output_type": "execute_result"
    }
   ],
   "source": [
    "re.search(r'\\d{3,4}', '12345')"
   ]
  },
  {
   "cell_type": "code",
   "execution_count": 61,
   "id": "f33847ae",
   "metadata": {},
   "outputs": [
    {
     "data": {
      "text/plain": [
       "['6', '106', '200', '201305']"
      ]
     },
     "execution_count": 61,
     "metadata": {},
     "output_type": "execute_result"
    }
   ],
   "source": [
    "data5 = '6th Floor, A-106, Sector-200, Uttar Pradesh - 201305'\n",
    "re.findall(r'\\d{1,}',data5)"
   ]
  },
  {
   "cell_type": "code",
   "execution_count": 71,
   "id": "6efa4f3b",
   "metadata": {},
   "outputs": [
    {
     "data": {
      "text/plain": [
       "['5']"
      ]
     },
     "execution_count": 71,
     "metadata": {},
     "output_type": "execute_result"
    }
   ],
   "source": [
    "re.findall(r'\\d$',data5)"
   ]
  },
  {
   "cell_type": "code",
   "execution_count": 72,
   "id": "accd1ed5",
   "metadata": {},
   "outputs": [],
   "source": [
    "d = re.search(r'(\\d{4})-(\\d{2})-(\\d{2})', '2023-01-09')"
   ]
  },
  {
   "cell_type": "code",
   "execution_count": 75,
   "id": "245dc2a3",
   "metadata": {},
   "outputs": [
    {
     "data": {
      "text/plain": [
       "('2023-01-09', '2023', '01')"
      ]
     },
     "execution_count": 75,
     "metadata": {},
     "output_type": "execute_result"
    }
   ],
   "source": [
    "d.group(), d.group(1), d.group(2)"
   ]
  },
  {
   "cell_type": "code",
   "execution_count": 79,
   "id": "c8fa9f3e",
   "metadata": {},
   "outputs": [
    {
     "ename": "IndexError",
     "evalue": "no such group",
     "output_type": "error",
     "traceback": [
      "\u001b[1;31m---------------------------------------------------------------------------\u001b[0m",
      "\u001b[1;31mIndexError\u001b[0m                                Traceback (most recent call last)",
      "\u001b[1;32m~\\AppData\\Local\\Temp\\ipykernel_23620\\3219962695.py\u001b[0m in \u001b[0;36m<module>\u001b[1;34m\u001b[0m\n\u001b[0;32m      1\u001b[0m \u001b[0md2\u001b[0m \u001b[1;33m=\u001b[0m \u001b[0mre\u001b[0m\u001b[1;33m.\u001b[0m\u001b[0msearch\u001b[0m\u001b[1;33m(\u001b[0m\u001b[1;34mr'\\d{4}-\\d{2}-\\d{2}'\u001b[0m\u001b[1;33m,\u001b[0m \u001b[1;34m'2023-01-09'\u001b[0m\u001b[1;33m)\u001b[0m\u001b[1;33m\u001b[0m\u001b[1;33m\u001b[0m\u001b[0m\n\u001b[1;32m----> 2\u001b[1;33m \u001b[0md2\u001b[0m\u001b[1;33m.\u001b[0m\u001b[0mgroup\u001b[0m\u001b[1;33m(\u001b[0m\u001b[1;36m2\u001b[0m\u001b[1;33m)\u001b[0m\u001b[1;33m\u001b[0m\u001b[1;33m\u001b[0m\u001b[0m\n\u001b[0m",
      "\u001b[1;31mIndexError\u001b[0m: no such group"
     ]
    }
   ],
   "source": [
    "d2 = re.search(r'\\d{4}-\\d{2}-\\d{2}', '2023-01-09')\n",
    "d2.group(2)"
   ]
  },
  {
   "cell_type": "code",
   "execution_count": 85,
   "id": "2b30e598",
   "metadata": {},
   "outputs": [
    {
     "name": "stdout",
     "output_type": "stream",
     "text": [
      "group ==>  <re.Match object; span=(0, 10), match='2023-01-09'>\n",
      "\n",
      "not group ==>  <re.Match object; span=(0, 10), match='2023-01-09'>\n"
     ]
    }
   ],
   "source": [
    "print('group ==> ', d)\n",
    "print()\n",
    "print('not group ==> ', d2)"
   ]
  },
  {
   "cell_type": "code",
   "execution_count": 89,
   "id": "f4f0786c",
   "metadata": {},
   "outputs": [
    {
     "data": {
      "text/plain": [
       "<re.Match object; span=(5, 7), match='ns'>"
      ]
     },
     "execution_count": 89,
     "metadata": {},
     "output_type": "execute_result"
    }
   ],
   "source": [
    "re.search(r'n[^e]', 'Pythons')"
   ]
  },
  {
   "cell_type": "code",
   "execution_count": 96,
   "id": "c7519afe",
   "metadata": {},
   "outputs": [
    {
     "data": {
      "text/plain": [
       "<re.Match object; span=(0, 10), match='2023-01-09'>"
      ]
     },
     "execution_count": 96,
     "metadata": {},
     "output_type": "execute_result"
    }
   ],
   "source": [
    "regex = re.compile(r'(\\d{4})-(\\d{2})-*\\d{2}')\n",
    "regex.search('2023-01-09')\n"
   ]
  },
  {
   "cell_type": "code",
   "execution_count": 97,
   "id": "1e04e95b",
   "metadata": {},
   "outputs": [
    {
     "ename": "error",
     "evalue": "invalid group reference 3 at position 7",
     "output_type": "error",
     "traceback": [
      "\u001b[1;31m---------------------------------------------------------------------------\u001b[0m",
      "\u001b[1;31merror\u001b[0m                                     Traceback (most recent call last)",
      "\u001b[1;32m~\\AppData\\Local\\Temp\\ipykernel_23620\\2026001787.py\u001b[0m in \u001b[0;36m<module>\u001b[1;34m\u001b[0m\n\u001b[1;32m----> 1\u001b[1;33m \u001b[0mregex\u001b[0m\u001b[1;33m.\u001b[0m\u001b[0msub\u001b[0m\u001b[1;33m(\u001b[0m\u001b[1;34mr'\\1.\\2.\\3'\u001b[0m\u001b[1;33m,\u001b[0m \u001b[1;34m'2023-01-09'\u001b[0m\u001b[1;33m)\u001b[0m\u001b[1;33m\u001b[0m\u001b[1;33m\u001b[0m\u001b[0m\n\u001b[0m",
      "\u001b[1;32m~\\anaconda3\\lib\\re.py\u001b[0m in \u001b[0;36m_subx\u001b[1;34m(pattern, template)\u001b[0m\n\u001b[0;32m    325\u001b[0m \u001b[1;32mdef\u001b[0m \u001b[0m_subx\u001b[0m\u001b[1;33m(\u001b[0m\u001b[0mpattern\u001b[0m\u001b[1;33m,\u001b[0m \u001b[0mtemplate\u001b[0m\u001b[1;33m)\u001b[0m\u001b[1;33m:\u001b[0m\u001b[1;33m\u001b[0m\u001b[1;33m\u001b[0m\u001b[0m\n\u001b[0;32m    326\u001b[0m     \u001b[1;31m# internal: Pattern.sub/subn implementation helper\u001b[0m\u001b[1;33m\u001b[0m\u001b[1;33m\u001b[0m\u001b[0m\n\u001b[1;32m--> 327\u001b[1;33m     \u001b[0mtemplate\u001b[0m \u001b[1;33m=\u001b[0m \u001b[0m_compile_repl\u001b[0m\u001b[1;33m(\u001b[0m\u001b[0mtemplate\u001b[0m\u001b[1;33m,\u001b[0m \u001b[0mpattern\u001b[0m\u001b[1;33m)\u001b[0m\u001b[1;33m\u001b[0m\u001b[1;33m\u001b[0m\u001b[0m\n\u001b[0m\u001b[0;32m    328\u001b[0m     \u001b[1;32mif\u001b[0m \u001b[1;32mnot\u001b[0m \u001b[0mtemplate\u001b[0m\u001b[1;33m[\u001b[0m\u001b[1;36m0\u001b[0m\u001b[1;33m]\u001b[0m \u001b[1;32mand\u001b[0m \u001b[0mlen\u001b[0m\u001b[1;33m(\u001b[0m\u001b[0mtemplate\u001b[0m\u001b[1;33m[\u001b[0m\u001b[1;36m1\u001b[0m\u001b[1;33m]\u001b[0m\u001b[1;33m)\u001b[0m \u001b[1;33m==\u001b[0m \u001b[1;36m1\u001b[0m\u001b[1;33m:\u001b[0m\u001b[1;33m\u001b[0m\u001b[1;33m\u001b[0m\u001b[0m\n\u001b[0;32m    329\u001b[0m         \u001b[1;31m# literal replacement\u001b[0m\u001b[1;33m\u001b[0m\u001b[1;33m\u001b[0m\u001b[0m\n",
      "\u001b[1;32m~\\anaconda3\\lib\\re.py\u001b[0m in \u001b[0;36m_compile_repl\u001b[1;34m(repl, pattern)\u001b[0m\n\u001b[0;32m    316\u001b[0m \u001b[1;32mdef\u001b[0m \u001b[0m_compile_repl\u001b[0m\u001b[1;33m(\u001b[0m\u001b[0mrepl\u001b[0m\u001b[1;33m,\u001b[0m \u001b[0mpattern\u001b[0m\u001b[1;33m)\u001b[0m\u001b[1;33m:\u001b[0m\u001b[1;33m\u001b[0m\u001b[1;33m\u001b[0m\u001b[0m\n\u001b[0;32m    317\u001b[0m     \u001b[1;31m# internal: compile replacement pattern\u001b[0m\u001b[1;33m\u001b[0m\u001b[1;33m\u001b[0m\u001b[0m\n\u001b[1;32m--> 318\u001b[1;33m     \u001b[1;32mreturn\u001b[0m \u001b[0msre_parse\u001b[0m\u001b[1;33m.\u001b[0m\u001b[0mparse_template\u001b[0m\u001b[1;33m(\u001b[0m\u001b[0mrepl\u001b[0m\u001b[1;33m,\u001b[0m \u001b[0mpattern\u001b[0m\u001b[1;33m)\u001b[0m\u001b[1;33m\u001b[0m\u001b[1;33m\u001b[0m\u001b[0m\n\u001b[0m\u001b[0;32m    319\u001b[0m \u001b[1;33m\u001b[0m\u001b[0m\n\u001b[0;32m    320\u001b[0m \u001b[1;32mdef\u001b[0m \u001b[0m_expand\u001b[0m\u001b[1;33m(\u001b[0m\u001b[0mpattern\u001b[0m\u001b[1;33m,\u001b[0m \u001b[0mmatch\u001b[0m\u001b[1;33m,\u001b[0m \u001b[0mtemplate\u001b[0m\u001b[1;33m)\u001b[0m\u001b[1;33m:\u001b[0m\u001b[1;33m\u001b[0m\u001b[1;33m\u001b[0m\u001b[0m\n",
      "\u001b[1;32m~\\anaconda3\\lib\\sre_parse.py\u001b[0m in \u001b[0;36mparse_template\u001b[1;34m(source, state)\u001b[0m\n\u001b[0;32m   1046\u001b[0m                         \u001b[0mlappend\u001b[0m\u001b[1;33m(\u001b[0m\u001b[0mchr\u001b[0m\u001b[1;33m(\u001b[0m\u001b[0mc\u001b[0m\u001b[1;33m)\u001b[0m\u001b[1;33m)\u001b[0m\u001b[1;33m\u001b[0m\u001b[1;33m\u001b[0m\u001b[0m\n\u001b[0;32m   1047\u001b[0m                 \u001b[1;32mif\u001b[0m \u001b[1;32mnot\u001b[0m \u001b[0misoctal\u001b[0m\u001b[1;33m:\u001b[0m\u001b[1;33m\u001b[0m\u001b[1;33m\u001b[0m\u001b[0m\n\u001b[1;32m-> 1048\u001b[1;33m                     \u001b[0maddgroup\u001b[0m\u001b[1;33m(\u001b[0m\u001b[0mint\u001b[0m\u001b[1;33m(\u001b[0m\u001b[0mthis\u001b[0m\u001b[1;33m[\u001b[0m\u001b[1;36m1\u001b[0m\u001b[1;33m:\u001b[0m\u001b[1;33m]\u001b[0m\u001b[1;33m)\u001b[0m\u001b[1;33m,\u001b[0m \u001b[0mlen\u001b[0m\u001b[1;33m(\u001b[0m\u001b[0mthis\u001b[0m\u001b[1;33m)\u001b[0m \u001b[1;33m-\u001b[0m \u001b[1;36m1\u001b[0m\u001b[1;33m)\u001b[0m\u001b[1;33m\u001b[0m\u001b[1;33m\u001b[0m\u001b[0m\n\u001b[0m\u001b[0;32m   1049\u001b[0m             \u001b[1;32melse\u001b[0m\u001b[1;33m:\u001b[0m\u001b[1;33m\u001b[0m\u001b[1;33m\u001b[0m\u001b[0m\n\u001b[0;32m   1050\u001b[0m                 \u001b[1;32mtry\u001b[0m\u001b[1;33m:\u001b[0m\u001b[1;33m\u001b[0m\u001b[1;33m\u001b[0m\u001b[0m\n",
      "\u001b[1;32m~\\anaconda3\\lib\\sre_parse.py\u001b[0m in \u001b[0;36maddgroup\u001b[1;34m(index, pos)\u001b[0m\n\u001b[0;32m    990\u001b[0m     \u001b[1;32mdef\u001b[0m \u001b[0maddgroup\u001b[0m\u001b[1;33m(\u001b[0m\u001b[0mindex\u001b[0m\u001b[1;33m,\u001b[0m \u001b[0mpos\u001b[0m\u001b[1;33m)\u001b[0m\u001b[1;33m:\u001b[0m\u001b[1;33m\u001b[0m\u001b[1;33m\u001b[0m\u001b[0m\n\u001b[0;32m    991\u001b[0m         \u001b[1;32mif\u001b[0m \u001b[0mindex\u001b[0m \u001b[1;33m>\u001b[0m \u001b[0mstate\u001b[0m\u001b[1;33m.\u001b[0m\u001b[0mgroups\u001b[0m\u001b[1;33m:\u001b[0m\u001b[1;33m\u001b[0m\u001b[1;33m\u001b[0m\u001b[0m\n\u001b[1;32m--> 992\u001b[1;33m             \u001b[1;32mraise\u001b[0m \u001b[0ms\u001b[0m\u001b[1;33m.\u001b[0m\u001b[0merror\u001b[0m\u001b[1;33m(\u001b[0m\u001b[1;34m\"invalid group reference %d\"\u001b[0m \u001b[1;33m%\u001b[0m \u001b[0mindex\u001b[0m\u001b[1;33m,\u001b[0m \u001b[0mpos\u001b[0m\u001b[1;33m)\u001b[0m\u001b[1;33m\u001b[0m\u001b[1;33m\u001b[0m\u001b[0m\n\u001b[0m\u001b[0;32m    993\u001b[0m         \u001b[1;32mif\u001b[0m \u001b[0mliteral\u001b[0m\u001b[1;33m:\u001b[0m\u001b[1;33m\u001b[0m\u001b[1;33m\u001b[0m\u001b[0m\n\u001b[0;32m    994\u001b[0m             \u001b[0mliterals\u001b[0m\u001b[1;33m.\u001b[0m\u001b[0mappend\u001b[0m\u001b[1;33m(\u001b[0m\u001b[1;34m''\u001b[0m\u001b[1;33m.\u001b[0m\u001b[0mjoin\u001b[0m\u001b[1;33m(\u001b[0m\u001b[0mliteral\u001b[0m\u001b[1;33m)\u001b[0m\u001b[1;33m)\u001b[0m\u001b[1;33m\u001b[0m\u001b[1;33m\u001b[0m\u001b[0m\n",
      "\u001b[1;31merror\u001b[0m: invalid group reference 3 at position 7"
     ]
    }
   ],
   "source": [
    "regex.sub(r'\\1.\\2.\\3', '2023-01-09')"
   ]
  },
  {
   "cell_type": "code",
   "execution_count": 99,
   "id": "d86256e1",
   "metadata": {},
   "outputs": [
    {
     "data": {
      "text/plain": [
       "['000232323', '4545433']"
      ]
     },
     "execution_count": 99,
     "metadata": {},
     "output_type": "execute_result"
    }
   ],
   "source": [
    "# re.sub => replace\n",
    "import re\n",
    "data6 = 'Account No - 000232323, Balance - 4545433' #\n",
    "pattern = '[0-9]+'\n",
    "re.findall(pattern, data6)\n"
   ]
  },
  {
   "cell_type": "code",
   "execution_count": 101,
   "id": "333c7e05",
   "metadata": {},
   "outputs": [
    {
     "data": {
      "text/plain": [
       "'Account No - #, Balance - #'"
      ]
     },
     "execution_count": 101,
     "metadata": {},
     "output_type": "execute_result"
    }
   ],
   "source": [
    "re.sub(pattern, '#', data6)\n"
   ]
  },
  {
   "cell_type": "code",
   "execution_count": 103,
   "id": "57dd46cc",
   "metadata": {},
   "outputs": [
    {
     "data": {
      "text/plain": [
       "<re.Match object; span=(13, 22), match='000232323'>"
      ]
     },
     "execution_count": 103,
     "metadata": {},
     "output_type": "execute_result"
    }
   ],
   "source": [
    "data7 = 'Account No - 000232323, Balance - 4545433' #\n",
    "regx = re.compile('[0-9]+')\n",
    "regx.search(data7)\n"
   ]
  },
  {
   "cell_type": "code",
   "execution_count": 116,
   "id": "49e63643",
   "metadata": {},
   "outputs": [
    {
     "data": {
      "text/plain": [
       "<re.Match object; span=(0, 0), match=''>"
      ]
     },
     "execution_count": 116,
     "metadata": {},
     "output_type": "execute_result"
    }
   ],
   "source": [
    "re.search(r'[0-9]?',data7)"
   ]
  },
  {
   "cell_type": "code",
   "execution_count": 104,
   "id": "840b87b0",
   "metadata": {},
   "outputs": [
    {
     "data": {
      "text/plain": [
       "['000232323', '4545433']"
      ]
     },
     "execution_count": 104,
     "metadata": {},
     "output_type": "execute_result"
    }
   ],
   "source": [
    "regx.findall(data7)"
   ]
  },
  {
   "cell_type": "code",
   "execution_count": null,
   "id": "00db1aa9",
   "metadata": {},
   "outputs": [],
   "source": []
  },
  {
   "cell_type": "code",
   "execution_count": null,
   "id": "1d6b3f2e",
   "metadata": {},
   "outputs": [],
   "source": []
  },
  {
   "cell_type": "code",
   "execution_count": 149,
   "id": "46ce6559",
   "metadata": {},
   "outputs": [
    {
     "data": {
      "text/plain": [
       "['<!DOCTYPE html>',\n",
       " '<html lang=\"ko\">',\n",
       " '<head>',\n",
       " '<meta http-equiv=\"Content-Type\" content=\"text/html; charset=UTF-8\">',\n",
       " '<meta http-equiv=\"X-UA-Compatible\" content=\"IE=edge\">',\n",
       " '<meta property=\"me2:image\" content=\"http://imgmovie.naver.com/today/naverme/naverme_profile.jpg\"/>',\n",
       " '<meta property=\"me2:post_tag\" content=\"네이버영화 \"/>',\n",
       " '<meta property=\"me2:category1\" content=\"네이버영화\"/>',\n",
       " '<meta property=\"me2:category2\" content=\"\"/>',\n",
       " '<meta property=\"og:title\" content=\"랭킹 : 네이버 영화\"/>',\n",
       " '<meta property=\"og:description\" content=\"영화, 영화인, 예매, 박스오피스 랭킹 정보 제공\" />',\n",
       " '<meta property=\"og:type\" content=\"article\"/>',\n",
       " '<meta property=\"og:url\" content=\"https://movie.naver.com/movie/sdb/rank/rmovie.naver\"/>',\n",
       " '<meta property=\"og:image\" content=\"http://static.naver.net/m/movie/icons/OG_270_270.png\"/>',\n",
       " '<!-- http://static.naver.net/m/movie/im/navermovie.jpg -->',\n",
       " '<meta property=\"og:article:thumbnailUrl\" content=\"http://imgmovie.naver.com/today/naverme/naverme_profile.jpg\"/>',\n",
       " '<meta property=\"og:article:author\" content=\"네이버 영화\"/>',\n",
       " '<meta property=\"og:article:author:url\" content=\"https://movie.naver.com/\"/>',\n",
       " '<link rel=\"shortcut icon\" href=\"https://ssl.pstatic.net/static/m/movie/icons/naver_movie_favicon.ico\" type=\"image/x-icon\">',\n",
       " '<title>',\n",
       " '</title>',\n",
       " '<link rel=\"stylesheet\" type=\"text/css\" href=\"/common/css/movie_tablet.css?20221208172702\">',\n",
       " '<link rel=\"stylesheet\" type=\"text/css\" href=\"/common/css/common.css?20221208172702\">',\n",
       " '<link rel=\"stylesheet\" type=\"text/css\" href=\"/common/css/layout.css?20221208172702\">',\n",
       " '<link rel=\"stylesheet\" type=\"text/css\" href=\"/common/css/old_default.css?20221208172702\">',\n",
       " '<link rel=\"stylesheet\" type=\"text/css\" href=\"/common/css/old_layout.css?20221208172702\">',\n",
       " '<link rel=\"stylesheet\" type=\"text/css\" href=\"/common/css/old_common.css?20221208172702\">',\n",
       " '<link rel=\"stylesheet\" type=\"text/css\" href=\"/common/css/old_super_db.css?20221208172702\">',\n",
       " '<script type=\"text/javascript\" src=\"/common/js/default-min.js\">',\n",
       " '</script>',\n",
       " '</head>',\n",
       " '<body >',\n",
       " '<div id=\"wrap\" class=\"fix\">',\n",
       " '<!-- GNB -->',\n",
       " '<script type=\"text/javascript\">',\n",
       " '< 100) {\\t\\t\\tb = new Date();      \\t}\\t\\t//window.setTimeout(function() {object.submit(); console.log(\\'s\\');}, 300);\\t}}var gnb_service = \\'movie\\';var gnb_logout = \\'http://movie.naver.com/movie/sdb/rank/rmovie.naver\\';var gnb_template = \"gnb_utf8\"; /* https://ssl.pstatic.net/static.gn/templates/gnb_utf8.nhn */var gnb_brightness=3;var gnb_response = true;</script>',\n",
       " '<a name=\"gnb_top\">',\n",
       " '</a>',\n",
       " '<!-- skip navigation -->',\n",
       " '<div id=\"u_skip\">',\n",
       " '<a href=\"#header\" onclick=\"document.getElementById(\\'header\\').tabIndex=-1;document.getElementById(\\'header\\').focus();return false;\">',\n",
       " '<span>',\n",
       " '</span>',\n",
       " '</a>',\n",
       " '<a href=\"#content\" id=\"gnb_goContent\" onclick=\"document.getElementById(\\'content\\').tabIndex=-1;document.getElementById(\\'content\\').focus();return false;\">',\n",
       " '<span>',\n",
       " '</span>',\n",
       " '</a>',\n",
       " '</div>',\n",
       " '<!-- //skip navigation -->',\n",
       " '<!-- GNB -->',\n",
       " '<div class=\"gnb_container\">',\n",
       " '<div class=\"gnb_content\">',\n",
       " '<div class=\"gnb_box\">',\n",
       " '<div class=\"gnb_wrap\">',\n",
       " '<div id=\"gnb\" onload=\"javascript:getGNB();\">',\n",
       " '<script type=\"text/javascript\" charset=\"utf-8\" src=\"https://ssl.pstatic.net/static.gn/templates/gnb_utf8.nhn\">',\n",
       " '</script>',\n",
       " '</div>',\n",
       " '</div>',\n",
       " '<!-- 검색창 -->',\n",
       " '<form id=\"jSearchForm\" action=\"/movie/search/result.naver\" method=\"get\" style=\"margin:0;display:none;\">',\n",
       " '<input type=\"text\" name=\"query\" maxlength=\"100\" title=\"영화검색\" />',\n",
       " '<input type=\"hidden\" name=\"section\" value=\"all\"/>',\n",
       " '</form>',\n",
       " '<fieldset id=\"jSearchArea\" class=\"srch_area\">',\n",
       " '<legend>',\n",
       " '<span class=\"blind\">',\n",
       " '</span>',\n",
       " '</legend>',\n",
       " '<div class=\"srch_field_on _view\">',\n",
       " '<span class=\"ipt_srch\">',\n",
       " '<label for=\"ipt_tx_srch\" id=\"search_placeholder\">',\n",
       " '</label>',\n",
       " '<input type=\"text\" id=\"ipt_tx_srch\" class=\"ipt_tx_srch\" name=\"query\" maxlength=\"100\" accesskey=\"s\" style=\"ime-mode:active;\" autocomplete=\"off\" />',\n",
       " '<span class=\"align\">',\n",
       " '</span>',\n",
       " '<span class=\"auto_tx\">',\n",
       " '<a href=\"#\" title=\"자동완성 펼치기\">',\n",
       " '<img src=\"https://ssl.pstatic.net/static/movie/2012/06/srch_arrow_down.gif\" width=\"7\" height=\"4\" title=\"자동완성 펼치기\" alt=\"자동완성 펼치기\" />',\n",
       " '</a>',\n",
       " '</span>',\n",
       " '</span>',\n",
       " '<button type=\"submit\" title=\"검색\" class=\"btn_srch\" onclick=\"clickcr(this, \\'GNB.search\\', \\'\\', \\'\\', event); delayed_submit(this);\">',\n",
       " '<span class=\"blind\">',\n",
       " '</span>',\n",
       " '</button>',\n",
       " '<!-- 자동 완성 영역임 #autocomplate_template-->',\n",
       " '</div>',\n",
       " '</fieldset>',\n",
       " '<!-- //검색창 -->',\n",
       " '</div>',\n",
       " '</div>',\n",
       " '</div>',\n",
       " '<!-- //GNB -->',\n",
       " '<!-- nClicks -->',\n",
       " '<script type=\"text/javascript\">',\n",
       " '</script>',\n",
       " '<script type=\"text/javascript\" src=\"/common/js/clickcr.js\">',\n",
       " '</script>',\n",
       " '<!-- // nClicks -->',\n",
       " '<!-- //GNB -->',\n",
       " '<!-- LNB -->',\n",
       " '<!-- header -->',\n",
       " '<div id=\"header\">',\n",
       " '<h1 class=\"svc_name\">',\n",
       " '<a href=\"http://www.naver.com/\" title=\"naver로 바로가기\" class=\"ci_logo\" id=\"lnb_gonaver\" onclick=\"clickcr(this, \\'LNB.naver\\', \\'\\', \\'\\', event);\">',\n",
       " '<img src=\"https://ssl.pstatic.net/static/movie/2013/07/logo_ci.png\" width=\"62\" height=\"13\" alt=\"NAVER\" />',\n",
       " '</a>',\n",
       " '<a href=\"/\" title=\"영화서비스홈으로 바로가기\" class=\"svc_logo\" onclick=\"clickcr(this, \\'LNB.movie\\', \\'\\', \\'\\', event);\">',\n",
       " '<img src=\"https://ssl.pstatic.net/static/movie/2012/06/logo_svc.png\" width=\"34\" height=\"19\" alt=\"영화\" />',\n",
       " '</a>',\n",
       " '</h1>',\n",
       " '<div id=\"scrollbar\" class=\"scrollbar scrollbar-noscript\">',\n",
       " '<div class=\"scrollbar-box\">',\n",
       " '<div class=\"scrollbar-content\">',\n",
       " '<div class=\"in_scroll\">',\n",
       " '<ul class=\"navi\">',\n",
       " '<li>',\n",
       " '<a href=\"/\" title=\"영화홈\" class=\"menu01\" onclick=\"clickcr(this, \\'LNB.home\\', \\'\\', \\'\\', event);\">',\n",
       " '<strong>',\n",
       " '</strong>',\n",
       " '</a>',\n",
       " '</li>',\n",
       " '<li>',\n",
       " '<a href=\"/movie/running/current.naver\" title=\"상영작·예정작\" class=\"menu02\" onclick=\"clickcr(this, \\'LNB.movies\\', \\'\\', \\'\\', event);\">',\n",
       " '<strong>',\n",
       " '</strong>',\n",
       " '</a>',\n",
       " '<ul class=\"navi_sub\" style=\"display:none\">',\n",
       " '<li>',\n",
       " '<a href=\"/movie/running/current.naver\" title=\"현재 상영영화\" class=\"sub2_1\" onclick=\"clickcr(this, \\'LNB.now\\', \\'\\', \\'\\', event);\">',\n",
       " '<em>',\n",
       " '</em>',\n",
       " '</a>',\n",
       " '</li>',\n",
       " '<li>',\n",
       " '<a href=\"/movie/running/premovie.naver\" title=\"개봉 예정영화\" class=\"sub2_2\" onclick=\"clickcr(this, \\'LNB.soon\\', \\'\\', \\'\\', event);\">',\n",
       " '<em>',\n",
       " '</em>',\n",
       " '</a>',\n",
       " '</li>',\n",
       " '<li>',\n",
       " '<a href=\"/movie/running/movieclip.naver\" title=\"예고편\" class=\"sub2_4\" onclick=\"clickcr(this, \\'LNB.tailer\\', \\'\\', \\'\\', event);\">',\n",
       " '<em>',\n",
       " '</em>',\n",
       " '</a>',\n",
       " '</li>',\n",
       " '</ul>',\n",
       " '</li>',\n",
       " '<li>',\n",
       " '<a href=\"/movie/sdb/rank/rmovie.naver\" title=\"영화랭킹\" class=\"menu03_on\" onclick=\"clickcr(this, \\'LNB.db\\', \\'\\', \\'\\', event);\">',\n",
       " '<strong>',\n",
       " '</strong>',\n",
       " '</a>',\n",
       " '<ul class=\"navi_sub\" style=\"display:block\">',\n",
       " '<li>',\n",
       " '<a href=\"/movie/sdb/rank/rmovie.naver\" title=\"랭킹\" class=\"sub3_1_on\" onclick=\"clickcr(this, \\'LNB.rank\\', \\'\\', \\'\\', event);\">',\n",
       " '<em>',\n",
       " '</em>',\n",
       " '</a>',\n",
       " '</li>',\n",
       " '<li>',\n",
       " '<a href=\"/movie/sdb/browsing/bmovie_nation.naver\" title=\"디렉토리\" class=\"sub3_2\" onclick=\"clickcr(this, \\'LNB.dir\\', \\'\\', \\'\\', event);\">',\n",
       " '<em>',\n",
       " '</em>',\n",
       " '</a>',\n",
       " '</li>',\n",
       " '</ul>',\n",
       " '</li>',\n",
       " '<li>',\n",
       " '<a href=\"/movie/point/af/list.naver\" title=\"평점\" class=\"menu07\" onclick=\"clickcr(this, \\'LNB.comm\\', \\'\\', \\'\\', event);\">',\n",
       " '<strong>',\n",
       " '</strong>',\n",
       " '</a>',\n",
       " '<ul class=\"navi_sub\" style=\"display:none\">',\n",
       " '<li>',\n",
       " '<a href=\"/movie/point/af/list.naver\" title=\"네티즌 평점\" class=\"sub7_1\" onclick=\"clickcr(this, \\'LNB.rating\\', \\'\\', \\'\\', event);\">',\n",
       " '<em>',\n",
       " '</em>',\n",
       " '</a>',\n",
       " '</li>',\n",
       " '<li>',\n",
       " '<a href=\"/movie/board/review/list.naver\" title=\"네티즌 리뷰\" class=\"sub7_2\" onclick=\"clickcr(this, \\'LNB.review\\', \\'\\', \\'\\', event);\">',\n",
       " '<em>',\n",
       " '</em>',\n",
       " '</a>',\n",
       " '</li>',\n",
       " '</ul>',\n",
       " '</li>',\n",
       " '<li>',\n",
       " '<a href=\"http://serieson.naver.com/movie/home.nhn\" title=\"다운로드\" class=\"menu08\" onclick=\"clickcr(this, \\'LNB.download\\', \\'\\', \\'\\', event);\" target=\"_blank\">',\n",
       " '<strong>',\n",
       " '</strong>',\n",
       " '</a>',\n",
       " '</li>',\n",
       " '<li class=\"nav_indi\">',\n",
       " '<a href=\"http://tv.naver.com/indiecinema\" title=\"인디극장 UP\" target=\"_blank\">',\n",
       " '<strong>',\n",
       " '</strong>',\n",
       " '</a>',\n",
       " '<!-- N=a:LNB.indie -->',\n",
       " '</li>',\n",
       " '</ul>',\n",
       " '<!-- div class=\"view_mode\">',\n",
       " '<a href=\"#\" title=\"\" class=\"normal_on\">',\n",
       " '<em>',\n",
       " '</em>',\n",
       " '</a>',\n",
       " '<a href=\"#\" title=\"\" class=\"wide_off\">',\n",
       " '<em>',\n",
       " '</em>',\n",
       " '</a>',\n",
       " '</div -->',\n",
       " '</div>',\n",
       " '</div>',\n",
       " '</div>',\n",
       " '<div class=\"scrollbar-v\">',\n",
       " '<div class=\"scrollbar-button-up\">',\n",
       " '</div>',\n",
       " '<div class=\"scrollbar-track\">',\n",
       " '<div class=\"scrollbar-thumb\">',\n",
       " '</div>',\n",
       " '</div>',\n",
       " '<div class=\"scrollbar-button-down\">',\n",
       " '</div>',\n",
       " '</div>',\n",
       " '</div>',\n",
       " '</div>',\n",
       " '<!-- //header -->',\n",
       " '<!-- //LNB -->',\n",
       " '<div id=\"container\">',\n",
       " '<!-- content -->',\n",
       " '<div id=\"content\">',\n",
       " '<div class=\"article\">',\n",
       " '<div class=\"old_layout old_super_db\">',\n",
       " '<h3 class=\"h_db_rank\">',\n",
       " '<strong class=\"blind\">',\n",
       " '</strong>',\n",
       " '</h3>',\n",
       " '<ul class=\"tab_db_rank\">',\n",
       " '<li>',\n",
       " '<a href=\"/movie/sdb/rank/rmovie.naver\" title=\"영화\" class=\"db_tab01_on\">',\n",
       " '<em>',\n",
       " '</em>',\n",
       " '</a>',\n",
       " '</li>',\n",
       " '<li>',\n",
       " '<a href=\"/movie/sdb/rank/rpeople.naver\" title=\"영화인\" class=\"db_tab02\">',\n",
       " '<em>',\n",
       " '</em>',\n",
       " '</a>',\n",
       " '</li>',\n",
       " '<!-- li>',\n",
       " '<a href=\"/movie/sdb/rank/rfestival.naver\" title=\"영화제\" class=\"db_tab03\">',\n",
       " '<em>',\n",
       " '</em>',\n",
       " '</a>',\n",
       " '</li -->',\n",
       " '<!-- li>',\n",
       " '<a href=\"/movie/sdb/rank/rcompany.naver\" title=\"영화사\" class=\"db_tab04\">',\n",
       " '<em>',\n",
       " '</em>',\n",
       " '</a>',\n",
       " '</li -->',\n",
       " '<!-- li>',\n",
       " '<a href=\"/movie/sdb/rank/rnews.naver\" title=\"기자영화\" class=\"db_tab05\">',\n",
       " '<em>',\n",
       " '</em>',\n",
       " '</a>',\n",
       " '</li -->',\n",
       " '<!-- li>',\n",
       " '<a href=\"/movie/sdb/rank/rreview.naver\" title=\"네티즌리뷰\" class=\"db_tab06\">',\n",
       " '<em>',\n",
       " '</em>',\n",
       " '</a>',\n",
       " '</li -->',\n",
       " '</ul>',\n",
       " '<!-- Content Body -->',\n",
       " '<div id=\"cbody\" class=\"type_1\">',\n",
       " '<div id=\"old_content\">',\n",
       " '<h4 class=\"tlt\">',\n",
       " '<img src=\"https://ssl.pstatic.net/imgmovie/2007/img/super_db/tlt_ranking_movie.gif\" alt=\"영화랭킹\" width=\"65\" height=\"15\">',\n",
       " '<div class=\"form_search\">',\n",
       " '<!-- onChange 걸어야함 -->',\n",
       " '<select size=\"1\" name=\"\" style=\"width:120px;\" class=\"select_type_1\" onChange=\"document.location.href=\\'rmovie.naver?sel=cnt&date=20230108&tg=\\'+this.value\" title=\"카테고리 선택\">',\n",
       " '<option value=\"0\" selected>',\n",
       " '</option>',\n",
       " '<option value=\"1\" >',\n",
       " '</option>',\n",
       " '<option value=\"2\" >',\n",
       " '</option>',\n",
       " '<option value=\"4\" >',\n",
       " '</option>',\n",
       " '<option value=\"5\" >',\n",
       " '</option>',\n",
       " '<option value=\"6\" >',\n",
       " '</option>',\n",
       " '<option value=\"7\" >',\n",
       " '</option>',\n",
       " '<option value=\"8\" >',\n",
       " '</option>',\n",
       " '<option value=\"10\" >',\n",
       " '</option>',\n",
       " '<option value=\"11\" >',\n",
       " '</option>',\n",
       " '<option value=\"12\" >',\n",
       " '</option>',\n",
       " '<option value=\"13\" >',\n",
       " '</option>',\n",
       " '<option value=\"14\" >',\n",
       " '</option>',\n",
       " '<option value=\"15\" >',\n",
       " '</option>',\n",
       " '<option value=\"16\" >',\n",
       " '</option>',\n",
       " '<option value=\"17\" >',\n",
       " '</option>',\n",
       " '<option value=\"18\" >',\n",
       " '</option>',\n",
       " '<option value=\"19\" >',\n",
       " '</option>',\n",
       " '</select>',\n",
       " '</div>',\n",
       " '</h4>',\n",
       " '<!-- 탭메뉴 -->',\n",
       " '<div class=\"tab_type_6\">',\n",
       " '<ul>',\n",
       " '<!--활성화된 탭의 이미지는 _on.gif 입니다-->',\n",
       " '<li>',\n",
       " '<a href=\"rmovie.naver?sel=cnt&date=20230108\">',\n",
       " '<img src=\"https://ssl.pstatic.net/imgmovie/2007/img/super_db/tab_movie_1_on.gif\" alt=\"조회순\" width=\"112\" height=\"28\">',\n",
       " '</a>',\n",
       " '</li>',\n",
       " '<li>',\n",
       " '<a href=\"rmovie.naver?sel=cur&date=20230108\">',\n",
       " '<img src=\"https://ssl.pstatic.net/imgmovie/2007/img/super_db/tab_movie_2_off.gif\" alt=\"평점순(현재상영영화)\" width=\"126\" height=\"28\">',\n",
       " '</a>',\n",
       " '</li>',\n",
       " '<li>',\n",
       " '<a href=\"rmovie.naver?sel=pnt&date=20230108\">',\n",
       " '<img src=\"https://ssl.pstatic.net/imgmovie/2007/img/super_db/tab_movie_3_off.gif\" alt=\"평점순(모든영화)\" width=\"126\" height=\"28\">',\n",
       " '</a>',\n",
       " '</li>',\n",
       " '</ul>',\n",
       " '<p class=\"r_date\">',\n",
       " '<a href=\"rmovie.naver?sel=cnt&tg=0&date=20230107\">',\n",
       " '<img src=\"https://ssl.pstatic.net/imgmovie/2007/img/common/btn_prev.gif\" alt=\"prev\" width=\"13\" height=\"13\" style=\"margin-right:1px;\">',\n",
       " '</a>',\n",
       " '</p>',\n",
       " '</div>',\n",
       " '<!-- //탭메뉴 -->',\n",
       " '<!-- 랭킹 리스트 -->',\n",
       " '<table cellspacing=\"0\" class=\"list_ranking\">',\n",
       " '<caption class=\"blind\">',\n",
       " '</caption>',\n",
       " '<col width=\"6%\">',\n",
       " '<col width=\"*\">',\n",
       " '<col width=\"2%\">',\n",
       " '<col width=\"4%\">',\n",
       " '<thead>',\n",
       " '<tr>',\n",
       " '<th scope=\"col\">',\n",
       " '</th>',\n",
       " '<th scope=\"col\">',\n",
       " '</th>',\n",
       " '<th scope=\"col\" colspan=\"2\">',\n",
       " '</th>',\n",
       " '</tr>',\n",
       " '</thead>',\n",
       " '<tbody>',\n",
       " '<tr>',\n",
       " '<td colspan=\"8\" class=\"blank01\">',\n",
       " '</td>',\n",
       " '</tr>',\n",
       " '<!-- 예제\\t\\t\\t\\t<tr>',\n",
       " '<td class=\"ac\">',\n",
       " '<img src=\"https://ssl.pstatic.net/imgmovie/2007/img/common/bullet_r_g50.gif\" alt=\"50\" width=\"14\" height=\"13\">',\n",
       " '</td>',\n",
       " '<td class=\"title\">',\n",
       " '<a href=\"#\">',\n",
       " '</a>',\n",
       " '</td>',\n",
       " '<td class=\"ac\">',\n",
       " '<img src=\"https://ssl.pstatic.net/imgmovie/2007/img/common/icon_down_1.gif\" alt=\"down\" width=\"7\" height=\"10\">',\n",
       " '</td>',\n",
       " '<td class=\"range ac\">',\n",
       " '</td>',\n",
       " '</tr>',\n",
       " '<tr>',\n",
       " '<td class=\"ac\">',\n",
       " '<img src=\"https://ssl.pstatic.net/imgmovie/2007/img/common/bullet_r_r01.gif\" alt=\"01\" width=\"14\" height=\"13\">',\n",
       " '</td>',\n",
       " '<td class=\"title\">',\n",
       " '<div class=\"tit3\">',\n",
       " '<a href=\"/movie/bi/mi/basic.naver?code=223800\" title=\"더 퍼스트 슬램덩크\">',\n",
       " '</a>',\n",
       " '</div>',\n",
       " '</td>',\n",
       " '<!-- 평점순일 때 평점 추가하기  -->',\n",
       " '<!----------------------------------------->',\n",
       " '<td class=\"ac\">',\n",
       " '<img src=\"https://ssl.pstatic.net/imgmovie/2007/img/common/icon_na_1.gif\" alt=\"na\" width=\"7\" height=\"10\" class=\"arrow\">',\n",
       " '</td>',\n",
       " '<td class=\"range ac\">',\n",
       " '</td>',\n",
       " '</tr>',\n",
       " '<tr>',\n",
       " '<td class=\"ac\">',\n",
       " '<img src=\"https://ssl.pstatic.net/imgmovie/2007/img/common/bullet_r_r02.gif\" alt=\"02\" width=\"14\" height=\"13\">',\n",
       " '</td>',\n",
       " '<td class=\"title\">',\n",
       " '<div class=\"tit3\">',\n",
       " '<a href=\"/movie/bi/mi/basic.naver?code=74977\" title=\"아바타: 물의 길\">',\n",
       " '</a>',\n",
       " '</div>',\n",
       " '</td>',\n",
       " '<!-- 평점순일 때 평점 추가하기  -->',\n",
       " '<!----------------------------------------->',\n",
       " '<td class=\"ac\">',\n",
       " '<img src=\"https://ssl.pstatic.net/imgmovie/2007/img/common/icon_na_1.gif\" alt=\"na\" width=\"7\" height=\"10\" class=\"arrow\">',\n",
       " '</td>',\n",
       " '<td class=\"range ac\">',\n",
       " '</td>',\n",
       " '</tr>',\n",
       " '<tr>',\n",
       " '<td class=\"ac\">',\n",
       " '<img src=\"https://ssl.pstatic.net/imgmovie/2007/img/common/bullet_r_r03.gif\" alt=\"03\" width=\"14\" height=\"13\">',\n",
       " '</td>',\n",
       " '<td class=\"title\">',\n",
       " '<div class=\"tit3\">',\n",
       " '<a href=\"/movie/bi/mi/basic.naver?code=184509\" title=\"영웅\">',\n",
       " '</a>',\n",
       " '</div>',\n",
       " '</td>',\n",
       " '<!-- 평점순일 때 평점 추가하기  -->',\n",
       " '<!----------------------------------------->',\n",
       " '<td class=\"ac\">',\n",
       " '<img src=\"https://ssl.pstatic.net/imgmovie/2007/img/common/icon_na_1.gif\" alt=\"na\" width=\"7\" height=\"10\" class=\"arrow\">',\n",
       " '</td>',\n",
       " '<td class=\"range ac\">',\n",
       " '</td>',\n",
       " '</tr>',\n",
       " '<tr>',\n",
       " '<td class=\"ac\">',\n",
       " '<img src=\"https://ssl.pstatic.net/imgmovie/2007/img/common/bullet_r_r04.gif\" alt=\"04\" width=\"14\" height=\"13\">',\n",
       " '</td>',\n",
       " '<td class=\"title\">',\n",
       " '<div class=\"tit3\">',\n",
       " '<a href=\"/movie/bi/mi/basic.naver?code=201642\" title=\"스위치\">',\n",
       " '</a>',\n",
       " '</div>',\n",
       " '</td>',\n",
       " '<!-- 평점순일 때 평점 추가하기  -->',\n",
       " '<!----------------------------------------->',\n",
       " '<td class=\"ac\">',\n",
       " '<img src=\"https://ssl.pstatic.net/imgmovie/2007/img/common/icon_na_1.gif\" alt=\"na\" width=\"7\" height=\"10\" class=\"arrow\">',\n",
       " '</td>',\n",
       " '<td class=\"range ac\">',\n",
       " '</td>',\n",
       " '</tr>',\n",
       " '<tr>',\n",
       " '<td class=\"ac\">',\n",
       " '<img src=\"https://ssl.pstatic.net/imgmovie/2007/img/common/bullet_r_r05.gif\" alt=\"05\" width=\"14\" height=\"13\">',\n",
       " '</td>',\n",
       " '<td class=\"title\">',\n",
       " '<div class=\"tit3\">',\n",
       " '<a href=\"/movie/bi/mi/basic.naver?code=208508\" title=\"젠틀맨\">',\n",
       " '</a>',\n",
       " '</div>',\n",
       " '</td>',\n",
       " '<!-- 평점순일 때 평점 추가하기  -->',\n",
       " '<!----------------------------------------->',\n",
       " '<td class=\"ac\">',\n",
       " '<img src=\"https://ssl.pstatic.net/imgmovie/2007/img/common/icon_na_1.gif\" alt=\"na\" width=\"7\" height=\"10\" class=\"arrow\">',\n",
       " '</td>',\n",
       " '<td class=\"range ac\">',\n",
       " '</td>',\n",
       " '</tr>',\n",
       " '<tr>',\n",
       " '<td class=\"ac\">',\n",
       " '<img src=\"https://ssl.pstatic.net/imgmovie/2007/img/common/bullet_r_r06.gif\" alt=\"06\" width=\"14\" height=\"13\">',\n",
       " '</td>',\n",
       " '<td class=\"title\">',\n",
       " '<div class=\"tit3\">',\n",
       " '<a href=\"/movie/bi/mi/basic.naver?code=222301\" title=\"올빼미\">',\n",
       " '</a>',\n",
       " '</div>',\n",
       " '</td>',\n",
       " '<!-- 평점순일 때 평점 추가하기  -->',\n",
       " '<!----------------------------------------->',\n",
       " '<td class=\"ac\">',\n",
       " '<img src=\"https://ssl.pstatic.net/imgmovie/2007/img/common/icon_na_1.gif\" alt=\"na\" width=\"7\" height=\"10\" class=\"arrow\">',\n",
       " '</td>',\n",
       " '<td class=\"range ac\">',\n",
       " '</td>',\n",
       " '</tr>',\n",
       " '<tr>',\n",
       " '<td class=\"ac\">',\n",
       " '<img src=\"https://ssl.pstatic.net/imgmovie/2007/img/common/bullet_r_r07.gif\" alt=\"07\" width=\"14\" height=\"13\">',\n",
       " '</td>',\n",
       " '<td class=\"title\">',\n",
       " '<div class=\"tit3\">',\n",
       " '<a href=\"/movie/bi/mi/basic.naver?code=220733\" title=\"오늘 밤, 세계에서 이 사랑이 사라진다 해도\">',\n",
       " '</a>',\n",
       " '</div>',\n",
       " '</td>',\n",
       " '<!-- 평점순일 때 평점 추가하기  -->',\n",
       " '<!----------------------------------------->',\n",
       " '<td class=\"ac\">',\n",
       " '<img src=\"https://ssl.pstatic.net/imgmovie/2007/img/common/icon_na_1.gif\" alt=\"na\" width=\"7\" height=\"10\" class=\"arrow\">',\n",
       " '</td>',\n",
       " '<td class=\"range ac\">',\n",
       " '</td>',\n",
       " '</tr>',\n",
       " '<tr>',\n",
       " '<td class=\"ac\">',\n",
       " '<img src=\"https://ssl.pstatic.net/imgmovie/2007/img/common/bullet_r_r08.gif\" alt=\"08\" width=\"14\" height=\"13\">',\n",
       " '</td>',\n",
       " '<td class=\"title\">',\n",
       " '<div class=\"tit3\">',\n",
       " '<a href=\"/movie/bi/mi/basic.naver?code=212099\" title=\"강남좀비\">',\n",
       " '</a>',\n",
       " '</div>',\n",
       " '</td>',\n",
       " '<!-- 평점순일 때 평점 추가하기  -->',\n",
       " '<!----------------------------------------->',\n",
       " '<td class=\"ac\">',\n",
       " '<img src=\"https://ssl.pstatic.net/imgmovie/2007/img/common/icon_na_1.gif\" alt=\"na\" width=\"7\" height=\"10\" class=\"arrow\">',\n",
       " '</td>',\n",
       " '<td class=\"range ac\">',\n",
       " '</td>',\n",
       " '</tr>',\n",
       " '<tr>',\n",
       " '<td class=\"ac\">',\n",
       " '<img src=\"https://ssl.pstatic.net/imgmovie/2007/img/common/bullet_r_r09.gif\" alt=\"09\" width=\"14\" height=\"13\">',\n",
       " '</td>',\n",
       " '<td class=\"title\">',\n",
       " '<div class=\"tit3\">',\n",
       " '<a href=\"/movie/bi/mi/basic.naver?code=217465\" title=\"3000년의 기다림\">',\n",
       " '</a>',\n",
       " '</div>',\n",
       " '</td>',\n",
       " '<!-- 평점순일 때 평점 추가하기  -->',\n",
       " '<!----------------------------------------->',\n",
       " '<td class=\"ac\">',\n",
       " '<img src=\"https://ssl.pstatic.net/imgmovie/2007/img/common/icon_up_1.gif\" alt=\"up\" width=\"7\" height=\"10\" class=\"arrow\">',\n",
       " '</td>',\n",
       " '<td class=\"range ac\">',\n",
       " '</td>',\n",
       " '</tr>',\n",
       " '<tr>',\n",
       " '<td class=\"ac\">',\n",
       " '<img src=\"https://ssl.pstatic.net/imgmovie/2007/img/common/bullet_r_r10.gif\" alt=\"010\" width=\"14\" height=\"13\">',\n",
       " '</td>',\n",
       " '<td class=\"title\">',\n",
       " '<div class=\"tit3\">',\n",
       " '<a href=\"/movie/bi/mi/basic.naver?code=215466\" title=\"장화신은 고양이: 끝내주는 모험\">',\n",
       " '</a>',\n",
       " '</div>',\n",
       " '</td>',\n",
       " '<!-- 평점순일 때 평점 추가하기  -->',\n",
       " '<!----------------------------------------->',\n",
       " '<td class=\"ac\">',\n",
       " '<img src=\"https://ssl.pstatic.net/imgmovie/2007/img/common/icon_down_1.gif\" alt=\"down\" width=\"7\" height=\"10\" class=\"arrow\">',\n",
       " '</td>',\n",
       " '<td class=\"range ac\">',\n",
       " '</td>',\n",
       " '</tr>',\n",
       " '<tr>',\n",
       " '<td colspan=\"8\" class=\"line01\">',\n",
       " '</td>',\n",
       " '</tr>',\n",
       " '<tr>',\n",
       " '<td class=\"ac\">',\n",
       " '<img src=\"https://ssl.pstatic.net/imgmovie/2007/img/common/bullet_r_g11.gif\" alt=\"11\" width=\"14\" height=\"13\">',\n",
       " '</td>',\n",
       " '<td class=\"title\">',\n",
       " '<div class=\"tit3\">',\n",
       " '<a href=\"/movie/bi/mi/basic.naver?code=184513\" title=\"교섭\">',\n",
       " '</a>',\n",
       " '</div>',\n",
       " '</td>',\n",
       " '<!-- 평점순일 때 평점 추가하기  -->',\n",
       " '<!----------------------------------------->',\n",
       " '<td class=\"ac\">',\n",
       " '<img src=\"https://ssl.pstatic.net/imgmovie/2007/img/common/icon_na_1.gif\" alt=\"na\" width=\"7\" height=\"10\" class=\"arrow\">',\n",
       " '</td>',\n",
       " '<td class=\"range ac\">',\n",
       " '</td>',\n",
       " '</tr>',\n",
       " '<tr>',\n",
       " '<td class=\"ac\">',\n",
       " '<img src=\"https://ssl.pstatic.net/imgmovie/2007/img/common/bullet_r_g12.gif\" alt=\"12\" width=\"14\" height=\"13\">',\n",
       " '</td>',\n",
       " '<td class=\"title\">',\n",
       " '<div class=\"tit3\">',\n",
       " '<a href=\"/movie/bi/mi/basic.naver?code=220853\" title=\"더 메뉴\">',\n",
       " '</a>',\n",
       " '</div>',\n",
       " '</td>',\n",
       " '<!-- 평점순일 때 평점 추가하기  -->',\n",
       " '<!----------------------------------------->',\n",
       " '<td class=\"ac\">',\n",
       " '<img src=\"https://ssl.pstatic.net/imgmovie/2007/img/common/icon_up_1.gif\" alt=\"up\" width=\"7\" height=\"10\" class=\"arrow\">',\n",
       " '</td>',\n",
       " '<td class=\"range ac\">',\n",
       " '</td>',\n",
       " '</tr>',\n",
       " '<tr>',\n",
       " '<td class=\"ac\">',\n",
       " '<img src=\"https://ssl.pstatic.net/imgmovie/2007/img/common/bullet_r_g13.gif\" alt=\"13\" width=\"14\" height=\"13\">',\n",
       " '</td>',\n",
       " '<td class=\"title\">',\n",
       " '<div class=\"tit3\">',\n",
       " '<a href=\"/movie/bi/mi/basic.naver?code=200745\" title=\"유령\">',\n",
       " '</a>',\n",
       " '</div>',\n",
       " '</td>',\n",
       " '<!-- 평점순일 때 평점 추가하기  -->',\n",
       " '<!----------------------------------------->',\n",
       " '<td class=\"ac\">',\n",
       " '<img src=\"https://ssl.pstatic.net/imgmovie/2007/img/common/icon_down_1.gif\" alt=\"down\" width=\"7\" height=\"10\" class=\"arrow\">',\n",
       " '</td>',\n",
       " '<td class=\"range ac\">',\n",
       " '</td>',\n",
       " '</tr>',\n",
       " '<tr>',\n",
       " '<td class=\"ac\">',\n",
       " '<img src=\"https://ssl.pstatic.net/imgmovie/2007/img/common/bullet_r_g14.gif\" alt=\"14\" width=\"14\" height=\"13\">',\n",
       " '</td>',\n",
       " '<td class=\"title\">',\n",
       " '<div class=\"tit3\">',\n",
       " '<a href=\"/movie/bi/mi/basic.naver?code=224922\" title=\"문맨\">',\n",
       " '</a>',\n",
       " '</div>',\n",
       " '</td>',\n",
       " '<!-- 평점순일 때 평점 추가하기  -->',\n",
       " '<!----------------------------------------->',\n",
       " '<td class=\"ac\">',\n",
       " '<img src=\"https://ssl.pstatic.net/imgmovie/2007/img/common/icon_up_1.gif\" alt=\"up\" width=\"7\" height=\"10\" class=\"arrow\">',\n",
       " '</td>',\n",
       " '<td class=\"range ac\">',\n",
       " '</td>',\n",
       " '</tr>',\n",
       " '<tr>',\n",
       " '<td class=\"ac\">',\n",
       " '<img src=\"https://ssl.pstatic.net/imgmovie/2007/img/common/bullet_r_g15.gif\" alt=\"15\" width=\"14\" height=\"13\">',\n",
       " '</td>',\n",
       " '<td class=\"title\">',\n",
       " '<div class=\"tit3\">',\n",
       " '<a href=\"/movie/bi/mi/basic.naver?code=224601\" title=\"10일간의 애인\">',\n",
       " '</a>',\n",
       " '</div>',\n",
       " '</td>',\n",
       " '<!-- 평점순일 때 평점 추가하기  -->',\n",
       " '<!----------------------------------------->',\n",
       " '<td class=\"ac\">',\n",
       " '<img src=\"https://ssl.pstatic.net/imgmovie/2007/img/common/icon_up_1.gif\" alt=\"up\" width=\"7\" height=\"10\" class=\"arrow\">',\n",
       " '</td>',\n",
       " '<td class=\"range ac\">',\n",
       " '</td>',\n",
       " '</tr>',\n",
       " '<tr>',\n",
       " '<td class=\"ac\">',\n",
       " '<img src=\"https://ssl.pstatic.net/imgmovie/2007/img/common/bullet_r_g16.gif\" alt=\"16\" width=\"14\" height=\"13\">',\n",
       " '</td>',\n",
       " '<td class=\"title\">',\n",
       " '<div class=\"tit3\">',\n",
       " '<a href=\"/movie/bi/mi/basic.naver?code=225699\" title=\"마리앙투아네트\">',\n",
       " '</a>',\n",
       " '</div>',\n",
       " '</td>',\n",
       " '<!-- 평점순일 때 평점 추가하기  -->',\n",
       " '<!----------------------------------------->',\n",
       " '<td class=\"ac\">',\n",
       " '<img src=\"https://ssl.pstatic.net/imgmovie/2007/img/common/icon_up_1.gif\" alt=\"up\" width=\"7\" height=\"10\" class=\"arrow\">',\n",
       " '</td>',\n",
       " '<td class=\"range ac\">',\n",
       " '</td>',\n",
       " '</tr>',\n",
       " '<tr>',\n",
       " '<td class=\"ac\">',\n",
       " '<img src=\"https://ssl.pstatic.net/imgmovie/2007/img/common/bullet_r_g17.gif\" alt=\"17\" width=\"14\" height=\"13\">',\n",
       " '</td>',\n",
       " '<td class=\"title\">',\n",
       " '<div class=\"tit3\">',\n",
       " '<a href=\"/movie/bi/mi/basic.naver?code=198413\" title=\"헤어질 결심\">',\n",
       " '</a>',\n",
       " '</div>',\n",
       " '</td>',\n",
       " '<!-- 평점순일 때 평점 추가하기  -->',\n",
       " '<!----------------------------------------->',\n",
       " '<td class=\"ac\">',\n",
       " '<img src=\"https://ssl.pstatic.net/imgmovie/2007/img/common/icon_down_1.gif\" alt=\"down\" width=\"7\" height=\"10\" class=\"arrow\">',\n",
       " '</td>',\n",
       " '<td class=\"range ac\">',\n",
       " '</td>',\n",
       " '</tr>',\n",
       " '<tr>',\n",
       " '<td class=\"ac\">',\n",
       " '<img src=\"https://ssl.pstatic.net/imgmovie/2007/img/common/bullet_r_g18.gif\" alt=\"18\" width=\"14\" height=\"13\">',\n",
       " '</td>',\n",
       " '<td class=\"title\">',\n",
       " '<div class=\"tit3\">',\n",
       " '<a href=\"/movie/bi/mi/basic.naver?code=195973\" title=\"압꾸정\">',\n",
       " '</a>',\n",
       " '</div>',\n",
       " '</td>',\n",
       " '<!-- 평점순일 때 평점 추가하기  -->',\n",
       " '<!----------------------------------------->',\n",
       " '<td class=\"ac\">',\n",
       " '<img src=\"https://ssl.pstatic.net/imgmovie/2007/img/common/icon_down_1.gif\" alt=\"down\" width=\"7\" height=\"10\" class=\"arrow\">',\n",
       " '</td>',\n",
       " '<td class=\"range ac\">',\n",
       " '</td>',\n",
       " '</tr>',\n",
       " '<tr>',\n",
       " '<td class=\"ac\">',\n",
       " '<img src=\"https://ssl.pstatic.net/imgmovie/2007/img/common/bullet_r_g19.gif\" alt=\"19\" width=\"14\" height=\"13\">',\n",
       " '</td>',\n",
       " '<td class=\"title\">',\n",
       " '<div class=\"tit3\">',\n",
       " '<a href=\"/movie/bi/mi/basic.naver?code=220584\" title=\"귀못\">',\n",
       " '</a>',\n",
       " '</div>',\n",
       " '</td>',\n",
       " '<!-- 평점순일 때 평점 추가하기  -->',\n",
       " '<!----------------------------------------->',\n",
       " '<td class=\"ac\">',\n",
       " '<img src=\"https://ssl.pstatic.net/imgmovie/2007/img/common/icon_down_1.gif\" alt=\"down\" width=\"7\" height=\"10\" class=\"arrow\">',\n",
       " '</td>',\n",
       " '<td class=\"range ac\">',\n",
       " '</td>',\n",
       " '</tr>',\n",
       " '<tr>',\n",
       " '<td class=\"ac\">',\n",
       " '<img src=\"https://ssl.pstatic.net/imgmovie/2007/img/common/bullet_r_g20.gif\" alt=\"20\" width=\"14\" height=\"13\">',\n",
       " '</td>',\n",
       " '<td class=\"title\">',\n",
       " '<div class=\"tit3\">',\n",
       " '<a href=\"/movie/bi/mi/basic.naver?code=224929\" title=\"메간\">',\n",
       " '</a>',\n",
       " '</div>',\n",
       " '</td>',\n",
       " '<!-- 평점순일 때 평점 추가하기  -->',\n",
       " '<!----------------------------------------->',\n",
       " '<td class=\"ac\">',\n",
       " '<img src=\"https://ssl.pstatic.net/imgmovie/2007/img/common/icon_up_1.gif\" alt=\"up\" width=\"7\" height=\"10\" class=\"arrow\">',\n",
       " '</td>',\n",
       " '<td class=\"range ac\">',\n",
       " '</td>',\n",
       " '</tr>',\n",
       " '<tr>',\n",
       " '<td colspan=\"8\" class=\"line01\">',\n",
       " '</td>',\n",
       " '</tr>',\n",
       " '<tr>',\n",
       " '<td class=\"ac\">',\n",
       " '<img src=\"https://ssl.pstatic.net/imgmovie/2007/img/common/bullet_r_g21.gif\" alt=\"21\" width=\"14\" height=\"13\">',\n",
       " '</td>',\n",
       " '<td class=\"title\">',\n",
       " '<div class=\"tit3\">',\n",
       " '<a href=\"/movie/bi/mi/basic.naver?code=219402\" title=\"에브리씽 에브리웨어 올 앳 원스\">',\n",
       " '</a>',\n",
       " '</div>',\n",
       " '</td>',\n",
       " '<!-- 평점순일 때 평점 추가하기  -->',\n",
       " '<!----------------------------------------->',\n",
       " '<td class=\"ac\">',\n",
       " '<img src=\"https://ssl.pstatic.net/imgmovie/2007/img/common/icon_down_1.gif\" alt=\"down\" width=\"7\" height=\"10\" class=\"arrow\">',\n",
       " '</td>',\n",
       " '<td class=\"range ac\">',\n",
       " '</td>',\n",
       " '</tr>',\n",
       " '<tr>',\n",
       " '<td class=\"ac\">',\n",
       " '<img src=\"https://ssl.pstatic.net/imgmovie/2007/img/common/bullet_r_g22.gif\" alt=\"22\" width=\"14\" height=\"13\">',\n",
       " '</td>',\n",
       " '<td class=\"title\">',\n",
       " '<div class=\"tit3\">',\n",
       " '<a href=\"/movie/bi/mi/basic.naver?code=219573\" title=\"오펜하이머\">',\n",
       " '</a>',\n",
       " '</div>',\n",
       " '</td>',\n",
       " '<!-- 평점순일 때 평점 추가하기  -->',\n",
       " '<!----------------------------------------->',\n",
       " '<td class=\"ac\">',\n",
       " '<img src=\"https://ssl.pstatic.net/imgmovie/2007/img/common/icon_na_1.gif\" alt=\"na\" width=\"7\" height=\"10\" class=\"arrow\">',\n",
       " '</td>',\n",
       " '<td class=\"range ac\">',\n",
       " '</td>',\n",
       " '</tr>',\n",
       " '<tr>',\n",
       " '<td class=\"ac\">',\n",
       " '<img src=\"https://ssl.pstatic.net/imgmovie/2007/img/common/bullet_r_g23.gif\" alt=\"23\" width=\"14\" height=\"13\">',\n",
       " '</td>',\n",
       " '<td class=\"title\">',\n",
       " '<div class=\"tit3\">',\n",
       " '<a href=\"/movie/bi/mi/basic.naver?code=217479\" title=\"해시태그 시그네\">',\n",
       " '</a>',\n",
       " '</div>',\n",
       " '</td>',\n",
       " '<!-- 평점순일 때 평점 추가하기  -->',\n",
       " '<!----------------------------------------->',\n",
       " '<td class=\"ac\">',\n",
       " '<img src=\"https://ssl.pstatic.net/imgmovie/2007/img/common/icon_na_1.gif\" alt=\"na\" width=\"7\" height=\"10\" class=\"arrow\">',\n",
       " '</td>',\n",
       " '<td class=\"range ac\">',\n",
       " '</td>',\n",
       " '</tr>',\n",
       " '<tr>',\n",
       " '<td class=\"ac\">',\n",
       " '</td>',\n",
       " '<td class=\"title\">',\n",
       " '<div class=\"tit3\">',\n",
       " '<a href=\"/movie/bi/mi/basic.naver?code=216209\" title=\"유랑의 달\">',\n",
       " '</a>',\n",
       " '</div>',\n",
       " '</td>',\n",
       " '<!-- 평점순일 때 평점 추가하기  -->',\n",
       " '<!----------------------------------------->',\n",
       " '<td class=\"ac\">',\n",
       " '<img src=\"https://ssl.pstatic.net/imgmovie/2007/img/common/icon_up_1.gif\" alt=\"up\" width=\"7\" height=\"10\" class=\"arrow\">',\n",
       " '</td>',\n",
       " '<td class=\"range ac\">',\n",
       " '</td>',\n",
       " '</tr>',\n",
       " '<tr>',\n",
       " '<td class=\"ac\">',\n",
       " '<img src=\"https://ssl.pstatic.net/imgmovie/2007/img/common/bullet_r_g25.gif\" alt=\"25\" width=\"14\" height=\"13\">',\n",
       " '</td>',\n",
       " '<td class=\"title\">',\n",
       " '<div class=\"tit3\">',\n",
       " '<a href=\"/movie/bi/mi/basic.naver?code=225818\" title=\"페일 블루 아이\">',\n",
       " '</a>',\n",
       " '</div>',\n",
       " '</td>',\n",
       " '<!-- 평점순일 때 평점 추가하기  -->',\n",
       " '<!----------------------------------------->',\n",
       " '<td class=\"ac\">',\n",
       " '<img src=\"https://ssl.pstatic.net/imgmovie/2007/img/common/icon_up_1.gif\" alt=\"up\" width=\"7\" height=\"10\" class=\"arrow\">',\n",
       " '</td>',\n",
       " '<td class=\"range ac\">',\n",
       " '</td>',\n",
       " '</tr>',\n",
       " '<tr>',\n",
       " '<td class=\"ac\">',\n",
       " '</td>',\n",
       " '<td class=\"title\">',\n",
       " '<div class=\"tit3\">',\n",
       " '<a href=\"/movie/bi/mi/basic.naver?code=223799\" title=\"신비아파트 극장판 차원도깨비와 7개의 세계\">',\n",
       " '</a>',\n",
       " '</div>',\n",
       " '</td>',\n",
       " '<!-- 평점순일 때 평점 추가하기  -->',\n",
       " '<!----------------------------------------->',\n",
       " '<td class=\"ac\">',\n",
       " '<img src=\"https://ssl.pstatic.net/imgmovie/2007/img/common/icon_up_1.gif\" alt=\"up\" width=\"7\" height=\"10\" class=\"arrow\">',\n",
       " '</td>',\n",
       " '<td class=\"range ac\">',\n",
       " '</td>',\n",
       " '</tr>',\n",
       " '<tr>',\n",
       " '<td class=\"ac\">',\n",
       " '<img src=\"https://ssl.pstatic.net/imgmovie/2007/img/common/bullet_r_g27.gif\" alt=\"27\" width=\"14\" height=\"13\">',\n",
       " '</td>',\n",
       " '<td class=\"title\">',\n",
       " '<div class=\"tit3\">',\n",
       " '<a href=\"/movie/bi/mi/basic.naver?code=207938\" title=\"패닉 런\">',\n",
       " '</a>',\n",
       " '</div>',\n",
       " '</td>',\n",
       " '<!-- 평점순일 때 평점 추가하기  -->',\n",
       " '<!----------------------------------------->',\n",
       " '<td class=\"ac\">',\n",
       " '<img src=\"https://ssl.pstatic.net/imgmovie/2007/img/common/icon_down_1.gif\" alt=\"down\" width=\"7\" height=\"10\" class=\"arrow\">',\n",
       " '</td>',\n",
       " '<td class=\"range ac\">',\n",
       " '</td>',\n",
       " '</tr>',\n",
       " '<tr>',\n",
       " '<td class=\"ac\">',\n",
       " '<img src=\"https://ssl.pstatic.net/imgmovie/2007/img/common/bullet_r_g28.gif\" alt=\"28\" width=\"14\" height=\"13\">',\n",
       " '</td>',\n",
       " '<td class=\"title\">',\n",
       " '<div class=\"tit3\">',\n",
       " '<a href=\"/movie/bi/mi/basic.naver?code=206645\" title=\"메모리아\">',\n",
       " '</a>',\n",
       " '</div>',\n",
       " '</td>',\n",
       " '<!-- 평점순일 때 평점 추가하기  -->',\n",
       " '<!----------------------------------------->',\n",
       " '<td class=\"ac\">',\n",
       " '<img src=\"https://ssl.pstatic.net/imgmovie/2007/img/common/icon_na_1.gif\" alt=\"na\" width=\"7\" height=\"10\" class=\"arrow\">',\n",
       " '</td>',\n",
       " '<td class=\"range ac\">',\n",
       " '</td>',\n",
       " '</tr>',\n",
       " '<tr>',\n",
       " '<td class=\"ac\">',\n",
       " '<img src=\"https://ssl.pstatic.net/imgmovie/2007/img/common/bullet_r_g29.gif\" alt=\"29\" width=\"14\" height=\"13\">',\n",
       " '</td>',\n",
       " '<td class=\"title\">',\n",
       " '<div class=\"tit3\">',\n",
       " '<a href=\"/movie/bi/mi/basic.naver?code=216214\" title=\"시간을 꿈꾸는 소녀\">',\n",
       " '</a>',\n",
       " '</div>',\n",
       " '</td>',\n",
       " '<!-- 평점순일 때 평점 추가하기  -->',\n",
       " '<!----------------------------------------->',\n",
       " '<td class=\"ac\">',\n",
       " '<img src=\"https://ssl.pstatic.net/imgmovie/2007/img/common/icon_up_1.gif\" alt=\"up\" width=\"7\" height=\"10\" class=\"arrow\">',\n",
       " '</td>',\n",
       " '<td class=\"range ac\">',\n",
       " '</td>',\n",
       " '</tr>',\n",
       " '<tr>',\n",
       " '<td class=\"ac\">',\n",
       " '</td>',\n",
       " '<td class=\"title\">',\n",
       " '<div class=\"tit3\">',\n",
       " '<a href=\"/movie/bi/mi/basic.naver?code=191613\" title=\"클라우스\">',\n",
       " '</a>',\n",
       " '</div>',\n",
       " '</td>',\n",
       " '<!-- 평점순일 때 평점 추가하기  -->',\n",
       " '<!----------------------------------------->',\n",
       " '<td class=\"ac\">',\n",
       " '<img src=\"https://ssl.pstatic.net/imgmovie/2007/img/common/icon_down_1.gif\" alt=\"down\" width=\"7\" height=\"10\" class=\"arrow\">',\n",
       " '</td>',\n",
       " '<td class=\"range ac\">',\n",
       " '</td>',\n",
       " '</tr>',\n",
       " '<tr>',\n",
       " '<td colspan=\"8\" class=\"line01\">',\n",
       " '</td>',\n",
       " '</tr>',\n",
       " '<tr>',\n",
       " '<td class=\"ac\">',\n",
       " '<img src=\"https://ssl.pstatic.net/imgmovie/2007/img/common/bullet_r_g31.gif\" alt=\"31\" width=\"14\" height=\"13\">',\n",
       " '</td>',\n",
       " '<td class=\"title\">',\n",
       " '<div class=\"tit3\">',\n",
       " '<a href=\"/movie/bi/mi/basic.naver?code=213350\" title=\"매복\">',\n",
       " '</a>',\n",
       " '</div>',\n",
       " '</td>',\n",
       " '<!-- 평점순일 때 평점 추가하기  -->',\n",
       " '<!----------------------------------------->',\n",
       " '<td class=\"ac\">',\n",
       " '<img src=\"https://ssl.pstatic.net/imgmovie/2007/img/common/icon_up_1.gif\" alt=\"up\" width=\"7\" height=\"10\" class=\"arrow\">',\n",
       " '</td>',\n",
       " '<td class=\"range ac\">',\n",
       " '</td>',\n",
       " '</tr>',\n",
       " '<tr>',\n",
       " '<td class=\"ac\">',\n",
       " '<img src=\"https://ssl.pstatic.net/imgmovie/2007/img/common/bullet_r_g32.gif\" alt=\"32\" width=\"14\" height=\"13\">',\n",
       " '</td>',\n",
       " '<td class=\"title\">',\n",
       " '<div class=\"tit3\">',\n",
       " '<a href=\"/movie/bi/mi/basic.naver?code=222541\" title=\"유포자들\">',\n",
       " '</a>',\n",
       " '</div>',\n",
       " '</td>',\n",
       " '<!-- 평점순일 때 평점 추가하기  -->',\n",
       " '<!----------------------------------------->',\n",
       " '<td class=\"ac\">',\n",
       " '<img src=\"https://ssl.pstatic.net/imgmovie/2007/img/common/icon_down_1.gif\" alt=\"down\" width=\"7\" height=\"10\" class=\"arrow\">',\n",
       " '</td>',\n",
       " '<td class=\"range ac\">',\n",
       " '</td>',\n",
       " '</tr>',\n",
       " '<tr>',\n",
       " '<td class=\"ac\">',\n",
       " '</td>',\n",
       " '<td class=\"title\">',\n",
       " '<div class=\"tit3\">',\n",
       " '<a href=\"/movie/bi/mi/basic.naver?code=216494\" title=\"나이브스 아웃: 글래스 어니언\">',\n",
       " '</a>',\n",
       " '</div>',\n",
       " '</td>',\n",
       " '<!-- 평점순일 때 평점 추가하기  -->',\n",
       " '<!----------------------------------------->',\n",
       " '<td class=\"ac\">',\n",
       " '<img src=\"https://ssl.pstatic.net/imgmovie/2007/img/common/icon_down_1.gif\" alt=\"down\" width=\"7\" height=\"10\" class=\"arrow\">',\n",
       " '</td>',\n",
       " '<td class=\"range ac\">',\n",
       " '</td>',\n",
       " '</tr>',\n",
       " '<tr>',\n",
       " '<td class=\"ac\">',\n",
       " '<img src=\"https://ssl.pstatic.net/imgmovie/2007/img/common/bullet_r_g34.gif\" alt=\"34\" width=\"14\" height=\"13\">',\n",
       " '</td>',\n",
       " '<td class=\"title\">',\n",
       " '<div class=\"tit3\">',\n",
       " '<a href=\"/movie/bi/mi/basic.naver?code=81888\" title=\"탑건: 매버릭\">',\n",
       " '</a>',\n",
       " '</div>',\n",
       " ...]"
      ]
     },
     "execution_count": 149,
     "metadata": {},
     "output_type": "execute_result"
    }
   ],
   "source": [
    "import urllib.request\n",
    "import urllib.parse\n",
    "import re\n",
    "\n",
    "url = 'https://movie.naver.com/movie/sdb/rank/rmovie.naver'\n",
    "values = {'sel':'cnt', 'tg':'0','date':'20230108'}\n",
    "data = urllib.parse.urlencode(values)\n",
    "data = data.encode('utf-8')\n",
    "req = urllib.request.Request(url,data)\n",
    "resp = urllib.request.urlopen(req)\n",
    "\n",
    "resData = resp.read().decode('utf-8')\n",
    "resData\n",
    "pattern4 = '\\r\\n'\n",
    "rexgr = re.compile(pattern4)\n",
    "result = rexgr.sub('', resData)\n",
    "re.findall('<.*?>', result)\n",
    "\n"
   ]
  },
  {
   "cell_type": "code",
   "execution_count": 152,
   "id": "b3dc29b9",
   "metadata": {},
   "outputs": [
    {
     "data": {
      "text/plain": [
       "['<!DOCTYPE html>',\n",
       " '<html lang=\"ko\">',\n",
       " '<head>',\n",
       " '<meta http-equiv=\"Content-Type\" content=\"text/html; charset=UTF-8\">',\n",
       " '<meta http-equiv=\"X-UA-Compatible\" content=\"IE=edge\">',\n",
       " '<meta property=\"me2:image\" content=\"http://imgmovie.naver.com/today/naverme/naverme_profile.jpg\"/>',\n",
       " '<meta property=\"me2:post_tag\" content=\"네이버영화 \"/>',\n",
       " '<meta property=\"me2:category1\" content=\"네이버영화\"/>',\n",
       " '<meta property=\"me2:category2\" content=\"\"/>',\n",
       " '<meta property=\"og:title\" content=\"랭킹 : 네이버 영화\"/>',\n",
       " '<meta property=\"og:description\" content=\"영화, 영화인, 예매, 박스오피스 랭킹 정보 제공\" />',\n",
       " '<meta property=\"og:type\" content=\"article\"/>',\n",
       " '<meta property=\"og:url\" content=\"https://movie.naver.com/movie/sdb/rank/rmovie.naver\"/>',\n",
       " '<meta property=\"og:image\" content=\"http://static.naver.net/m/movie/icons/OG_270_270.png\"/>',\n",
       " '<!-- http://static.naver.net/m/movie/im/navermovie.jpg -->',\n",
       " '<meta property=\"og:article:thumbnailUrl\" content=\"http://imgmovie.naver.com/today/naverme/naverme_profile.jpg\"/>',\n",
       " '<meta property=\"og:article:author\" content=\"네이버 영화\"/>',\n",
       " '<meta property=\"og:article:author:url\" content=\"https://movie.naver.com/\"/>',\n",
       " '<link rel=\"shortcut icon\" href=\"https://ssl.pstatic.net/static/m/movie/icons/naver_movie_favicon.ico\" type=\"image/x-icon\">',\n",
       " '<title>',\n",
       " '<link rel=\"stylesheet\" type=\"text/css\" href=\"/common/css/movie_tablet.css?20221208172702\">',\n",
       " '<link rel=\"stylesheet\" type=\"text/css\" href=\"/common/css/common.css?20221208172702\">',\n",
       " '<link rel=\"stylesheet\" type=\"text/css\" href=\"/common/css/layout.css?20221208172702\">',\n",
       " '<link rel=\"stylesheet\" type=\"text/css\" href=\"/common/css/old_default.css?20221208172702\">',\n",
       " '<link rel=\"stylesheet\" type=\"text/css\" href=\"/common/css/old_layout.css?20221208172702\">',\n",
       " '<link rel=\"stylesheet\" type=\"text/css\" href=\"/common/css/old_common.css?20221208172702\">',\n",
       " '<link rel=\"stylesheet\" type=\"text/css\" href=\"/common/css/old_super_db.css?20221208172702\">',\n",
       " '<script type=\"text/javascript\" src=\"/common/js/default-min.js\">',\n",
       " '<body >',\n",
       " '<div id=\"wrap\" class=\"fix\">',\n",
       " '<!-- GNB -->',\n",
       " '<script type=\"text/javascript\">',\n",
       " '< 100) {\\t\\t\\tb = new Date();      \\t}\\t\\t//window.setTimeout(function() {object.submit(); console.log(\\'s\\');}, 300);\\t}}var gnb_service = \\'movie\\';var gnb_logout = \\'http://movie.naver.com/movie/sdb/rank/rmovie.naver\\';var gnb_template = \"gnb_utf8\"; /* https://ssl.pstatic.net/static.gn/templates/gnb_utf8.nhn */var gnb_brightness=3;var gnb_response = true;</script>',\n",
       " '<a name=\"gnb_top\">',\n",
       " '<!-- skip navigation -->',\n",
       " '<div id=\"u_skip\">',\n",
       " '<a href=\"#header\" onclick=\"document.getElementById(\\'header\\').tabIndex=-1;document.getElementById(\\'header\\').focus();return false;\">',\n",
       " '<span>',\n",
       " '<a href=\"#content\" id=\"gnb_goContent\" onclick=\"document.getElementById(\\'content\\').tabIndex=-1;document.getElementById(\\'content\\').focus();return false;\">',\n",
       " '<span>',\n",
       " '<!-- //skip navigation -->',\n",
       " '<!-- GNB -->',\n",
       " '<div class=\"gnb_container\">',\n",
       " '<div class=\"gnb_content\">',\n",
       " '<div class=\"gnb_box\">',\n",
       " '<div class=\"gnb_wrap\">',\n",
       " '<div id=\"gnb\" onload=\"javascript:getGNB();\">',\n",
       " '<script type=\"text/javascript\" charset=\"utf-8\" src=\"https://ssl.pstatic.net/static.gn/templates/gnb_utf8.nhn\">',\n",
       " '<!-- 검색창 -->',\n",
       " '<form id=\"jSearchForm\" action=\"/movie/search/result.naver\" method=\"get\" style=\"margin:0;display:none;\">',\n",
       " '<input type=\"text\" name=\"query\" maxlength=\"100\" title=\"영화검색\" />',\n",
       " '<input type=\"hidden\" name=\"section\" value=\"all\"/>',\n",
       " '<fieldset id=\"jSearchArea\" class=\"srch_area\">',\n",
       " '<legend>',\n",
       " '<span class=\"blind\">',\n",
       " '<div class=\"srch_field_on _view\">',\n",
       " '<span class=\"ipt_srch\">',\n",
       " '<label for=\"ipt_tx_srch\" id=\"search_placeholder\">',\n",
       " '<input type=\"text\" id=\"ipt_tx_srch\" class=\"ipt_tx_srch\" name=\"query\" maxlength=\"100\" accesskey=\"s\" style=\"ime-mode:active;\" autocomplete=\"off\" />',\n",
       " '<span class=\"align\">',\n",
       " '<span class=\"auto_tx\">',\n",
       " '<a href=\"#\" title=\"자동완성 펼치기\">',\n",
       " '<img src=\"https://ssl.pstatic.net/static/movie/2012/06/srch_arrow_down.gif\" width=\"7\" height=\"4\" title=\"자동완성 펼치기\" alt=\"자동완성 펼치기\" />',\n",
       " '<button type=\"submit\" title=\"검색\" class=\"btn_srch\" onclick=\"clickcr(this, \\'GNB.search\\', \\'\\', \\'\\', event); delayed_submit(this);\">',\n",
       " '<span class=\"blind\">',\n",
       " '<!-- 자동 완성 영역임 #autocomplate_template-->',\n",
       " '<!-- //검색창 -->',\n",
       " '<!-- //GNB -->',\n",
       " '<!-- nClicks -->',\n",
       " '<script type=\"text/javascript\">',\n",
       " '<script type=\"text/javascript\" src=\"/common/js/clickcr.js\">',\n",
       " '<!-- // nClicks -->',\n",
       " '<!-- //GNB -->',\n",
       " '<!-- LNB -->',\n",
       " '<!-- header -->',\n",
       " '<div id=\"header\">',\n",
       " '<h1 class=\"svc_name\">',\n",
       " '<a href=\"http://www.naver.com/\" title=\"naver로 바로가기\" class=\"ci_logo\" id=\"lnb_gonaver\" onclick=\"clickcr(this, \\'LNB.naver\\', \\'\\', \\'\\', event);\">',\n",
       " '<img src=\"https://ssl.pstatic.net/static/movie/2013/07/logo_ci.png\" width=\"62\" height=\"13\" alt=\"NAVER\" />',\n",
       " '<a href=\"/\" title=\"영화서비스홈으로 바로가기\" class=\"svc_logo\" onclick=\"clickcr(this, \\'LNB.movie\\', \\'\\', \\'\\', event);\">',\n",
       " '<img src=\"https://ssl.pstatic.net/static/movie/2012/06/logo_svc.png\" width=\"34\" height=\"19\" alt=\"영화\" />',\n",
       " '<div id=\"scrollbar\" class=\"scrollbar scrollbar-noscript\">',\n",
       " '<div class=\"scrollbar-box\">',\n",
       " '<div class=\"scrollbar-content\">',\n",
       " '<div class=\"in_scroll\">',\n",
       " '<ul class=\"navi\">',\n",
       " '<li>',\n",
       " '<a href=\"/\" title=\"영화홈\" class=\"menu01\" onclick=\"clickcr(this, \\'LNB.home\\', \\'\\', \\'\\', event);\">',\n",
       " '<strong>',\n",
       " '<li>',\n",
       " '<a href=\"/movie/running/current.naver\" title=\"상영작·예정작\" class=\"menu02\" onclick=\"clickcr(this, \\'LNB.movies\\', \\'\\', \\'\\', event);\">',\n",
       " '<strong>',\n",
       " '<ul class=\"navi_sub\" style=\"display:none\">',\n",
       " '<li>',\n",
       " '<a href=\"/movie/running/current.naver\" title=\"현재 상영영화\" class=\"sub2_1\" onclick=\"clickcr(this, \\'LNB.now\\', \\'\\', \\'\\', event);\">',\n",
       " '<em>',\n",
       " '<li>',\n",
       " '<a href=\"/movie/running/premovie.naver\" title=\"개봉 예정영화\" class=\"sub2_2\" onclick=\"clickcr(this, \\'LNB.soon\\', \\'\\', \\'\\', event);\">',\n",
       " '<em>',\n",
       " '<li>',\n",
       " '<a href=\"/movie/running/movieclip.naver\" title=\"예고편\" class=\"sub2_4\" onclick=\"clickcr(this, \\'LNB.tailer\\', \\'\\', \\'\\', event);\">',\n",
       " '<em>',\n",
       " '<li>',\n",
       " '<a href=\"/movie/sdb/rank/rmovie.naver\" title=\"영화랭킹\" class=\"menu03_on\" onclick=\"clickcr(this, \\'LNB.db\\', \\'\\', \\'\\', event);\">',\n",
       " '<strong>',\n",
       " '<ul class=\"navi_sub\" style=\"display:block\">',\n",
       " '<li>',\n",
       " '<a href=\"/movie/sdb/rank/rmovie.naver\" title=\"랭킹\" class=\"sub3_1_on\" onclick=\"clickcr(this, \\'LNB.rank\\', \\'\\', \\'\\', event);\">',\n",
       " '<em>',\n",
       " '<li>',\n",
       " '<a href=\"/movie/sdb/browsing/bmovie_nation.naver\" title=\"디렉토리\" class=\"sub3_2\" onclick=\"clickcr(this, \\'LNB.dir\\', \\'\\', \\'\\', event);\">',\n",
       " '<em>',\n",
       " '<li>',\n",
       " '<a href=\"/movie/point/af/list.naver\" title=\"평점\" class=\"menu07\" onclick=\"clickcr(this, \\'LNB.comm\\', \\'\\', \\'\\', event);\">',\n",
       " '<strong>',\n",
       " '<ul class=\"navi_sub\" style=\"display:none\">',\n",
       " '<li>',\n",
       " '<a href=\"/movie/point/af/list.naver\" title=\"네티즌 평점\" class=\"sub7_1\" onclick=\"clickcr(this, \\'LNB.rating\\', \\'\\', \\'\\', event);\">',\n",
       " '<em>',\n",
       " '<li>',\n",
       " '<a href=\"/movie/board/review/list.naver\" title=\"네티즌 리뷰\" class=\"sub7_2\" onclick=\"clickcr(this, \\'LNB.review\\', \\'\\', \\'\\', event);\">',\n",
       " '<em>',\n",
       " '<li>',\n",
       " '<a href=\"http://serieson.naver.com/movie/home.nhn\" title=\"다운로드\" class=\"menu08\" onclick=\"clickcr(this, \\'LNB.download\\', \\'\\', \\'\\', event);\" target=\"_blank\">',\n",
       " '<strong>',\n",
       " '<li class=\"nav_indi\">',\n",
       " '<a href=\"http://tv.naver.com/indiecinema\" title=\"인디극장 UP\" target=\"_blank\">',\n",
       " '<strong>',\n",
       " '<!-- N=a:LNB.indie -->',\n",
       " '<!-- div class=\"view_mode\">',\n",
       " '<a href=\"#\" title=\"\" class=\"normal_on\">',\n",
       " '<em>',\n",
       " '<a href=\"#\" title=\"\" class=\"wide_off\">',\n",
       " '<em>',\n",
       " '<div class=\"scrollbar-v\">',\n",
       " '<div class=\"scrollbar-button-up\">',\n",
       " '<div class=\"scrollbar-track\">',\n",
       " '<div class=\"scrollbar-thumb\">',\n",
       " '<div class=\"scrollbar-button-down\">',\n",
       " '<!-- //header -->',\n",
       " '<!-- //LNB -->',\n",
       " '<div id=\"container\">',\n",
       " '<!-- content -->',\n",
       " '<div id=\"content\">',\n",
       " '<div class=\"article\">',\n",
       " '<div class=\"old_layout old_super_db\">',\n",
       " '<h3 class=\"h_db_rank\">',\n",
       " '<strong class=\"blind\">',\n",
       " '<ul class=\"tab_db_rank\">',\n",
       " '<li>',\n",
       " '<a href=\"/movie/sdb/rank/rmovie.naver\" title=\"영화\" class=\"db_tab01_on\">',\n",
       " '<em>',\n",
       " '<li>',\n",
       " '<a href=\"/movie/sdb/rank/rpeople.naver\" title=\"영화인\" class=\"db_tab02\">',\n",
       " '<em>',\n",
       " '<!-- li>',\n",
       " '<a href=\"/movie/sdb/rank/rfestival.naver\" title=\"영화제\" class=\"db_tab03\">',\n",
       " '<em>',\n",
       " '<!-- li>',\n",
       " '<a href=\"/movie/sdb/rank/rcompany.naver\" title=\"영화사\" class=\"db_tab04\">',\n",
       " '<em>',\n",
       " '<!-- li>',\n",
       " '<a href=\"/movie/sdb/rank/rnews.naver\" title=\"기자영화\" class=\"db_tab05\">',\n",
       " '<em>',\n",
       " '<!-- li>',\n",
       " '<a href=\"/movie/sdb/rank/rreview.naver\" title=\"네티즌리뷰\" class=\"db_tab06\">',\n",
       " '<em>',\n",
       " '<!-- Content Body -->',\n",
       " '<div id=\"cbody\" class=\"type_1\">',\n",
       " '<div id=\"old_content\">',\n",
       " '<h4 class=\"tlt\">',\n",
       " '<img src=\"https://ssl.pstatic.net/imgmovie/2007/img/super_db/tlt_ranking_movie.gif\" alt=\"영화랭킹\" width=\"65\" height=\"15\">',\n",
       " '<div class=\"form_search\">',\n",
       " '<!-- onChange 걸어야함 -->',\n",
       " '<select size=\"1\" name=\"\" style=\"width:120px;\" class=\"select_type_1\" onChange=\"document.location.href=\\'rmovie.naver?sel=cnt&date=20230108&tg=\\'+this.value\" title=\"카테고리 선택\">',\n",
       " '<option value=\"0\" selected>',\n",
       " '<option value=\"1\" >',\n",
       " '<option value=\"2\" >',\n",
       " '<option value=\"4\" >',\n",
       " '<option value=\"5\" >',\n",
       " '<option value=\"6\" >',\n",
       " '<option value=\"7\" >',\n",
       " '<option value=\"8\" >',\n",
       " '<option value=\"10\" >',\n",
       " '<option value=\"11\" >',\n",
       " '<option value=\"12\" >',\n",
       " '<option value=\"13\" >',\n",
       " '<option value=\"14\" >',\n",
       " '<option value=\"15\" >',\n",
       " '<option value=\"16\" >',\n",
       " '<option value=\"17\" >',\n",
       " '<option value=\"18\" >',\n",
       " '<option value=\"19\" >',\n",
       " '<!-- 탭메뉴 -->',\n",
       " '<div class=\"tab_type_6\">',\n",
       " '<ul>',\n",
       " '<!--활성화된 탭의 이미지는 _on.gif 입니다-->',\n",
       " '<li>',\n",
       " '<a href=\"rmovie.naver?sel=cnt&date=20230108\">',\n",
       " '<img src=\"https://ssl.pstatic.net/imgmovie/2007/img/super_db/tab_movie_1_on.gif\" alt=\"조회순\" width=\"112\" height=\"28\">',\n",
       " '<li>',\n",
       " '<a href=\"rmovie.naver?sel=cur&date=20230108\">',\n",
       " '<img src=\"https://ssl.pstatic.net/imgmovie/2007/img/super_db/tab_movie_2_off.gif\" alt=\"평점순(현재상영영화)\" width=\"126\" height=\"28\">',\n",
       " '<li>',\n",
       " '<a href=\"rmovie.naver?sel=pnt&date=20230108\">',\n",
       " '<img src=\"https://ssl.pstatic.net/imgmovie/2007/img/super_db/tab_movie_3_off.gif\" alt=\"평점순(모든영화)\" width=\"126\" height=\"28\">',\n",
       " '<p class=\"r_date\">',\n",
       " '<a href=\"rmovie.naver?sel=cnt&tg=0&date=20230107\">',\n",
       " '<img src=\"https://ssl.pstatic.net/imgmovie/2007/img/common/btn_prev.gif\" alt=\"prev\" width=\"13\" height=\"13\" style=\"margin-right:1px;\">',\n",
       " '<!-- //탭메뉴 -->',\n",
       " '<!-- 랭킹 리스트 -->',\n",
       " '<table cellspacing=\"0\" class=\"list_ranking\">',\n",
       " '<caption class=\"blind\">',\n",
       " '<col width=\"6%\">',\n",
       " '<col width=\"*\">',\n",
       " '<col width=\"2%\">',\n",
       " '<col width=\"4%\">',\n",
       " '<thead>',\n",
       " '<tr>',\n",
       " '<th scope=\"col\">',\n",
       " '<th scope=\"col\">',\n",
       " '<th scope=\"col\" colspan=\"2\">',\n",
       " '<tbody>',\n",
       " '<tr>',\n",
       " '<td colspan=\"8\" class=\"blank01\">',\n",
       " '<!-- 예제\\t\\t\\t\\t<tr>',\n",
       " '<td class=\"ac\">',\n",
       " '<img src=\"https://ssl.pstatic.net/imgmovie/2007/img/common/bullet_r_g50.gif\" alt=\"50\" width=\"14\" height=\"13\">',\n",
       " '<td class=\"title\">',\n",
       " '<a href=\"#\">',\n",
       " '<td class=\"ac\">',\n",
       " '<img src=\"https://ssl.pstatic.net/imgmovie/2007/img/common/icon_down_1.gif\" alt=\"down\" width=\"7\" height=\"10\">',\n",
       " '<td class=\"range ac\">',\n",
       " '<tr>',\n",
       " '<td class=\"ac\">',\n",
       " '<img src=\"https://ssl.pstatic.net/imgmovie/2007/img/common/bullet_r_r01.gif\" alt=\"01\" width=\"14\" height=\"13\">',\n",
       " '<td class=\"title\">',\n",
       " '<div class=\"tit3\">',\n",
       " '<a href=\"/movie/bi/mi/basic.naver?code=223800\" title=\"더 퍼스트 슬램덩크\">',\n",
       " '<!-- 평점순일 때 평점 추가하기  -->',\n",
       " '<!----------------------------------------->',\n",
       " '<td class=\"ac\">',\n",
       " '<img src=\"https://ssl.pstatic.net/imgmovie/2007/img/common/icon_na_1.gif\" alt=\"na\" width=\"7\" height=\"10\" class=\"arrow\">',\n",
       " '<td class=\"range ac\">',\n",
       " '<tr>',\n",
       " '<td class=\"ac\">',\n",
       " '<img src=\"https://ssl.pstatic.net/imgmovie/2007/img/common/bullet_r_r02.gif\" alt=\"02\" width=\"14\" height=\"13\">',\n",
       " '<td class=\"title\">',\n",
       " '<div class=\"tit3\">',\n",
       " '<a href=\"/movie/bi/mi/basic.naver?code=74977\" title=\"아바타: 물의 길\">',\n",
       " '<!-- 평점순일 때 평점 추가하기  -->',\n",
       " '<!----------------------------------------->',\n",
       " '<td class=\"ac\">',\n",
       " '<img src=\"https://ssl.pstatic.net/imgmovie/2007/img/common/icon_na_1.gif\" alt=\"na\" width=\"7\" height=\"10\" class=\"arrow\">',\n",
       " '<td class=\"range ac\">',\n",
       " '<tr>',\n",
       " '<td class=\"ac\">',\n",
       " '<img src=\"https://ssl.pstatic.net/imgmovie/2007/img/common/bullet_r_r03.gif\" alt=\"03\" width=\"14\" height=\"13\">',\n",
       " '<td class=\"title\">',\n",
       " '<div class=\"tit3\">',\n",
       " '<a href=\"/movie/bi/mi/basic.naver?code=184509\" title=\"영웅\">',\n",
       " '<!-- 평점순일 때 평점 추가하기  -->',\n",
       " '<!----------------------------------------->',\n",
       " '<td class=\"ac\">',\n",
       " '<img src=\"https://ssl.pstatic.net/imgmovie/2007/img/common/icon_na_1.gif\" alt=\"na\" width=\"7\" height=\"10\" class=\"arrow\">',\n",
       " '<td class=\"range ac\">',\n",
       " '<tr>',\n",
       " '<td class=\"ac\">',\n",
       " '<img src=\"https://ssl.pstatic.net/imgmovie/2007/img/common/bullet_r_r04.gif\" alt=\"04\" width=\"14\" height=\"13\">',\n",
       " '<td class=\"title\">',\n",
       " '<div class=\"tit3\">',\n",
       " '<a href=\"/movie/bi/mi/basic.naver?code=201642\" title=\"스위치\">',\n",
       " '<!-- 평점순일 때 평점 추가하기  -->',\n",
       " '<!----------------------------------------->',\n",
       " '<td class=\"ac\">',\n",
       " '<img src=\"https://ssl.pstatic.net/imgmovie/2007/img/common/icon_na_1.gif\" alt=\"na\" width=\"7\" height=\"10\" class=\"arrow\">',\n",
       " '<td class=\"range ac\">',\n",
       " '<tr>',\n",
       " '<td class=\"ac\">',\n",
       " '<img src=\"https://ssl.pstatic.net/imgmovie/2007/img/common/bullet_r_r05.gif\" alt=\"05\" width=\"14\" height=\"13\">',\n",
       " '<td class=\"title\">',\n",
       " '<div class=\"tit3\">',\n",
       " '<a href=\"/movie/bi/mi/basic.naver?code=208508\" title=\"젠틀맨\">',\n",
       " '<!-- 평점순일 때 평점 추가하기  -->',\n",
       " '<!----------------------------------------->',\n",
       " '<td class=\"ac\">',\n",
       " '<img src=\"https://ssl.pstatic.net/imgmovie/2007/img/common/icon_na_1.gif\" alt=\"na\" width=\"7\" height=\"10\" class=\"arrow\">',\n",
       " '<td class=\"range ac\">',\n",
       " '<tr>',\n",
       " '<td class=\"ac\">',\n",
       " '<img src=\"https://ssl.pstatic.net/imgmovie/2007/img/common/bullet_r_r06.gif\" alt=\"06\" width=\"14\" height=\"13\">',\n",
       " '<td class=\"title\">',\n",
       " '<div class=\"tit3\">',\n",
       " '<a href=\"/movie/bi/mi/basic.naver?code=222301\" title=\"올빼미\">',\n",
       " '<!-- 평점순일 때 평점 추가하기  -->',\n",
       " '<!----------------------------------------->',\n",
       " '<td class=\"ac\">',\n",
       " '<img src=\"https://ssl.pstatic.net/imgmovie/2007/img/common/icon_na_1.gif\" alt=\"na\" width=\"7\" height=\"10\" class=\"arrow\">',\n",
       " '<td class=\"range ac\">',\n",
       " '<tr>',\n",
       " '<td class=\"ac\">',\n",
       " '<img src=\"https://ssl.pstatic.net/imgmovie/2007/img/common/bullet_r_r07.gif\" alt=\"07\" width=\"14\" height=\"13\">',\n",
       " '<td class=\"title\">',\n",
       " '<div class=\"tit3\">',\n",
       " '<a href=\"/movie/bi/mi/basic.naver?code=220733\" title=\"오늘 밤, 세계에서 이 사랑이 사라진다 해도\">',\n",
       " '<!-- 평점순일 때 평점 추가하기  -->',\n",
       " '<!----------------------------------------->',\n",
       " '<td class=\"ac\">',\n",
       " '<img src=\"https://ssl.pstatic.net/imgmovie/2007/img/common/icon_na_1.gif\" alt=\"na\" width=\"7\" height=\"10\" class=\"arrow\">',\n",
       " '<td class=\"range ac\">',\n",
       " '<tr>',\n",
       " '<td class=\"ac\">',\n",
       " '<img src=\"https://ssl.pstatic.net/imgmovie/2007/img/common/bullet_r_r08.gif\" alt=\"08\" width=\"14\" height=\"13\">',\n",
       " '<td class=\"title\">',\n",
       " '<div class=\"tit3\">',\n",
       " '<a href=\"/movie/bi/mi/basic.naver?code=212099\" title=\"강남좀비\">',\n",
       " '<!-- 평점순일 때 평점 추가하기  -->',\n",
       " '<!----------------------------------------->',\n",
       " '<td class=\"ac\">',\n",
       " '<img src=\"https://ssl.pstatic.net/imgmovie/2007/img/common/icon_na_1.gif\" alt=\"na\" width=\"7\" height=\"10\" class=\"arrow\">',\n",
       " '<td class=\"range ac\">',\n",
       " '<tr>',\n",
       " '<td class=\"ac\">',\n",
       " '<img src=\"https://ssl.pstatic.net/imgmovie/2007/img/common/bullet_r_r09.gif\" alt=\"09\" width=\"14\" height=\"13\">',\n",
       " '<td class=\"title\">',\n",
       " '<div class=\"tit3\">',\n",
       " '<a href=\"/movie/bi/mi/basic.naver?code=217465\" title=\"3000년의 기다림\">',\n",
       " '<!-- 평점순일 때 평점 추가하기  -->',\n",
       " '<!----------------------------------------->',\n",
       " '<td class=\"ac\">',\n",
       " '<img src=\"https://ssl.pstatic.net/imgmovie/2007/img/common/icon_up_1.gif\" alt=\"up\" width=\"7\" height=\"10\" class=\"arrow\">',\n",
       " '<td class=\"range ac\">',\n",
       " '<tr>',\n",
       " '<td class=\"ac\">',\n",
       " '<img src=\"https://ssl.pstatic.net/imgmovie/2007/img/common/bullet_r_r10.gif\" alt=\"010\" width=\"14\" height=\"13\">',\n",
       " '<td class=\"title\">',\n",
       " '<div class=\"tit3\">',\n",
       " '<a href=\"/movie/bi/mi/basic.naver?code=215466\" title=\"장화신은 고양이: 끝내주는 모험\">',\n",
       " '<!-- 평점순일 때 평점 추가하기  -->',\n",
       " '<!----------------------------------------->',\n",
       " '<td class=\"ac\">',\n",
       " '<img src=\"https://ssl.pstatic.net/imgmovie/2007/img/common/icon_down_1.gif\" alt=\"down\" width=\"7\" height=\"10\" class=\"arrow\">',\n",
       " '<td class=\"range ac\">',\n",
       " '<tr>',\n",
       " '<td colspan=\"8\" class=\"line01\">',\n",
       " '<tr>',\n",
       " '<td class=\"ac\">',\n",
       " '<img src=\"https://ssl.pstatic.net/imgmovie/2007/img/common/bullet_r_g11.gif\" alt=\"11\" width=\"14\" height=\"13\">',\n",
       " '<td class=\"title\">',\n",
       " '<div class=\"tit3\">',\n",
       " '<a href=\"/movie/bi/mi/basic.naver?code=184513\" title=\"교섭\">',\n",
       " '<!-- 평점순일 때 평점 추가하기  -->',\n",
       " '<!----------------------------------------->',\n",
       " '<td class=\"ac\">',\n",
       " '<img src=\"https://ssl.pstatic.net/imgmovie/2007/img/common/icon_na_1.gif\" alt=\"na\" width=\"7\" height=\"10\" class=\"arrow\">',\n",
       " '<td class=\"range ac\">',\n",
       " '<tr>',\n",
       " '<td class=\"ac\">',\n",
       " '<img src=\"https://ssl.pstatic.net/imgmovie/2007/img/common/bullet_r_g12.gif\" alt=\"12\" width=\"14\" height=\"13\">',\n",
       " '<td class=\"title\">',\n",
       " '<div class=\"tit3\">',\n",
       " '<a href=\"/movie/bi/mi/basic.naver?code=220853\" title=\"더 메뉴\">',\n",
       " '<!-- 평점순일 때 평점 추가하기  -->',\n",
       " '<!----------------------------------------->',\n",
       " '<td class=\"ac\">',\n",
       " '<img src=\"https://ssl.pstatic.net/imgmovie/2007/img/common/icon_up_1.gif\" alt=\"up\" width=\"7\" height=\"10\" class=\"arrow\">',\n",
       " '<td class=\"range ac\">',\n",
       " '<tr>',\n",
       " '<td class=\"ac\">',\n",
       " '<img src=\"https://ssl.pstatic.net/imgmovie/2007/img/common/bullet_r_g13.gif\" alt=\"13\" width=\"14\" height=\"13\">',\n",
       " '<td class=\"title\">',\n",
       " '<div class=\"tit3\">',\n",
       " '<a href=\"/movie/bi/mi/basic.naver?code=200745\" title=\"유령\">',\n",
       " '<!-- 평점순일 때 평점 추가하기  -->',\n",
       " '<!----------------------------------------->',\n",
       " '<td class=\"ac\">',\n",
       " '<img src=\"https://ssl.pstatic.net/imgmovie/2007/img/common/icon_down_1.gif\" alt=\"down\" width=\"7\" height=\"10\" class=\"arrow\">',\n",
       " '<td class=\"range ac\">',\n",
       " '<tr>',\n",
       " '<td class=\"ac\">',\n",
       " '<img src=\"https://ssl.pstatic.net/imgmovie/2007/img/common/bullet_r_g14.gif\" alt=\"14\" width=\"14\" height=\"13\">',\n",
       " '<td class=\"title\">',\n",
       " '<div class=\"tit3\">',\n",
       " '<a href=\"/movie/bi/mi/basic.naver?code=224922\" title=\"문맨\">',\n",
       " '<!-- 평점순일 때 평점 추가하기  -->',\n",
       " '<!----------------------------------------->',\n",
       " '<td class=\"ac\">',\n",
       " '<img src=\"https://ssl.pstatic.net/imgmovie/2007/img/common/icon_up_1.gif\" alt=\"up\" width=\"7\" height=\"10\" class=\"arrow\">',\n",
       " '<td class=\"range ac\">',\n",
       " '<tr>',\n",
       " '<td class=\"ac\">',\n",
       " '<img src=\"https://ssl.pstatic.net/imgmovie/2007/img/common/bullet_r_g15.gif\" alt=\"15\" width=\"14\" height=\"13\">',\n",
       " '<td class=\"title\">',\n",
       " '<div class=\"tit3\">',\n",
       " '<a href=\"/movie/bi/mi/basic.naver?code=224601\" title=\"10일간의 애인\">',\n",
       " '<!-- 평점순일 때 평점 추가하기  -->',\n",
       " '<!----------------------------------------->',\n",
       " '<td class=\"ac\">',\n",
       " '<img src=\"https://ssl.pstatic.net/imgmovie/2007/img/common/icon_up_1.gif\" alt=\"up\" width=\"7\" height=\"10\" class=\"arrow\">',\n",
       " '<td class=\"range ac\">',\n",
       " '<tr>',\n",
       " '<td class=\"ac\">',\n",
       " '<img src=\"https://ssl.pstatic.net/imgmovie/2007/img/common/bullet_r_g16.gif\" alt=\"16\" width=\"14\" height=\"13\">',\n",
       " '<td class=\"title\">',\n",
       " '<div class=\"tit3\">',\n",
       " '<a href=\"/movie/bi/mi/basic.naver?code=225699\" title=\"마리앙투아네트\">',\n",
       " '<!-- 평점순일 때 평점 추가하기  -->',\n",
       " '<!----------------------------------------->',\n",
       " '<td class=\"ac\">',\n",
       " '<img src=\"https://ssl.pstatic.net/imgmovie/2007/img/common/icon_up_1.gif\" alt=\"up\" width=\"7\" height=\"10\" class=\"arrow\">',\n",
       " '<td class=\"range ac\">',\n",
       " '<tr>',\n",
       " '<td class=\"ac\">',\n",
       " '<img src=\"https://ssl.pstatic.net/imgmovie/2007/img/common/bullet_r_g17.gif\" alt=\"17\" width=\"14\" height=\"13\">',\n",
       " '<td class=\"title\">',\n",
       " '<div class=\"tit3\">',\n",
       " '<a href=\"/movie/bi/mi/basic.naver?code=198413\" title=\"헤어질 결심\">',\n",
       " '<!-- 평점순일 때 평점 추가하기  -->',\n",
       " '<!----------------------------------------->',\n",
       " '<td class=\"ac\">',\n",
       " '<img src=\"https://ssl.pstatic.net/imgmovie/2007/img/common/icon_down_1.gif\" alt=\"down\" width=\"7\" height=\"10\" class=\"arrow\">',\n",
       " '<td class=\"range ac\">',\n",
       " '<tr>',\n",
       " '<td class=\"ac\">',\n",
       " '<img src=\"https://ssl.pstatic.net/imgmovie/2007/img/common/bullet_r_g18.gif\" alt=\"18\" width=\"14\" height=\"13\">',\n",
       " '<td class=\"title\">',\n",
       " '<div class=\"tit3\">',\n",
       " '<a href=\"/movie/bi/mi/basic.naver?code=195973\" title=\"압꾸정\">',\n",
       " '<!-- 평점순일 때 평점 추가하기  -->',\n",
       " '<!----------------------------------------->',\n",
       " '<td class=\"ac\">',\n",
       " '<img src=\"https://ssl.pstatic.net/imgmovie/2007/img/common/icon_down_1.gif\" alt=\"down\" width=\"7\" height=\"10\" class=\"arrow\">',\n",
       " '<td class=\"range ac\">',\n",
       " '<tr>',\n",
       " '<td class=\"ac\">',\n",
       " '<img src=\"https://ssl.pstatic.net/imgmovie/2007/img/common/bullet_r_g19.gif\" alt=\"19\" width=\"14\" height=\"13\">',\n",
       " '<td class=\"title\">',\n",
       " '<div class=\"tit3\">',\n",
       " '<a href=\"/movie/bi/mi/basic.naver?code=220584\" title=\"귀못\">',\n",
       " '<!-- 평점순일 때 평점 추가하기  -->',\n",
       " '<!----------------------------------------->',\n",
       " '<td class=\"ac\">',\n",
       " '<img src=\"https://ssl.pstatic.net/imgmovie/2007/img/common/icon_down_1.gif\" alt=\"down\" width=\"7\" height=\"10\" class=\"arrow\">',\n",
       " '<td class=\"range ac\">',\n",
       " '<tr>',\n",
       " '<td class=\"ac\">',\n",
       " '<img src=\"https://ssl.pstatic.net/imgmovie/2007/img/common/bullet_r_g20.gif\" alt=\"20\" width=\"14\" height=\"13\">',\n",
       " '<td class=\"title\">',\n",
       " '<div class=\"tit3\">',\n",
       " '<a href=\"/movie/bi/mi/basic.naver?code=224929\" title=\"메간\">',\n",
       " '<!-- 평점순일 때 평점 추가하기  -->',\n",
       " '<!----------------------------------------->',\n",
       " '<td class=\"ac\">',\n",
       " '<img src=\"https://ssl.pstatic.net/imgmovie/2007/img/common/icon_up_1.gif\" alt=\"up\" width=\"7\" height=\"10\" class=\"arrow\">',\n",
       " '<td class=\"range ac\">',\n",
       " '<tr>',\n",
       " '<td colspan=\"8\" class=\"line01\">',\n",
       " '<tr>',\n",
       " '<td class=\"ac\">',\n",
       " '<img src=\"https://ssl.pstatic.net/imgmovie/2007/img/common/bullet_r_g21.gif\" alt=\"21\" width=\"14\" height=\"13\">',\n",
       " '<td class=\"title\">',\n",
       " '<div class=\"tit3\">',\n",
       " '<a href=\"/movie/bi/mi/basic.naver?code=219402\" title=\"에브리씽 에브리웨어 올 앳 원스\">',\n",
       " '<!-- 평점순일 때 평점 추가하기  -->',\n",
       " '<!----------------------------------------->',\n",
       " '<td class=\"ac\">',\n",
       " '<img src=\"https://ssl.pstatic.net/imgmovie/2007/img/common/icon_down_1.gif\" alt=\"down\" width=\"7\" height=\"10\" class=\"arrow\">',\n",
       " '<td class=\"range ac\">',\n",
       " '<tr>',\n",
       " '<td class=\"ac\">',\n",
       " '<img src=\"https://ssl.pstatic.net/imgmovie/2007/img/common/bullet_r_g22.gif\" alt=\"22\" width=\"14\" height=\"13\">',\n",
       " '<td class=\"title\">',\n",
       " '<div class=\"tit3\">',\n",
       " '<a href=\"/movie/bi/mi/basic.naver?code=219573\" title=\"오펜하이머\">',\n",
       " '<!-- 평점순일 때 평점 추가하기  -->',\n",
       " '<!----------------------------------------->',\n",
       " '<td class=\"ac\">',\n",
       " '<img src=\"https://ssl.pstatic.net/imgmovie/2007/img/common/icon_na_1.gif\" alt=\"na\" width=\"7\" height=\"10\" class=\"arrow\">',\n",
       " '<td class=\"range ac\">',\n",
       " '<tr>',\n",
       " '<td class=\"ac\">',\n",
       " '<img src=\"https://ssl.pstatic.net/imgmovie/2007/img/common/bullet_r_g23.gif\" alt=\"23\" width=\"14\" height=\"13\">',\n",
       " '<td class=\"title\">',\n",
       " '<div class=\"tit3\">',\n",
       " '<a href=\"/movie/bi/mi/basic.naver?code=217479\" title=\"해시태그 시그네\">',\n",
       " '<!-- 평점순일 때 평점 추가하기  -->',\n",
       " '<!----------------------------------------->',\n",
       " '<td class=\"ac\">',\n",
       " '<img src=\"https://ssl.pstatic.net/imgmovie/2007/img/common/icon_na_1.gif\" alt=\"na\" width=\"7\" height=\"10\" class=\"arrow\">',\n",
       " '<td class=\"range ac\">',\n",
       " '<tr>',\n",
       " '<td class=\"ac\">',\n",
       " '<td class=\"title\">',\n",
       " '<div class=\"tit3\">',\n",
       " '<a href=\"/movie/bi/mi/basic.naver?code=216209\" title=\"유랑의 달\">',\n",
       " '<!-- 평점순일 때 평점 추가하기  -->',\n",
       " '<!----------------------------------------->',\n",
       " '<td class=\"ac\">',\n",
       " '<img src=\"https://ssl.pstatic.net/imgmovie/2007/img/common/icon_up_1.gif\" alt=\"up\" width=\"7\" height=\"10\" class=\"arrow\">',\n",
       " '<td class=\"range ac\">',\n",
       " '<tr>',\n",
       " '<td class=\"ac\">',\n",
       " '<img src=\"https://ssl.pstatic.net/imgmovie/2007/img/common/bullet_r_g25.gif\" alt=\"25\" width=\"14\" height=\"13\">',\n",
       " '<td class=\"title\">',\n",
       " '<div class=\"tit3\">',\n",
       " '<a href=\"/movie/bi/mi/basic.naver?code=225818\" title=\"페일 블루 아이\">',\n",
       " '<!-- 평점순일 때 평점 추가하기  -->',\n",
       " '<!----------------------------------------->',\n",
       " '<td class=\"ac\">',\n",
       " '<img src=\"https://ssl.pstatic.net/imgmovie/2007/img/common/icon_up_1.gif\" alt=\"up\" width=\"7\" height=\"10\" class=\"arrow\">',\n",
       " '<td class=\"range ac\">',\n",
       " '<tr>',\n",
       " '<td class=\"ac\">',\n",
       " '<td class=\"title\">',\n",
       " '<div class=\"tit3\">',\n",
       " '<a href=\"/movie/bi/mi/basic.naver?code=223799\" title=\"신비아파트 극장판 차원도깨비와 7개의 세계\">',\n",
       " '<!-- 평점순일 때 평점 추가하기  -->',\n",
       " '<!----------------------------------------->',\n",
       " '<td class=\"ac\">',\n",
       " '<img src=\"https://ssl.pstatic.net/imgmovie/2007/img/common/icon_up_1.gif\" alt=\"up\" width=\"7\" height=\"10\" class=\"arrow\">',\n",
       " '<td class=\"range ac\">',\n",
       " '<tr>',\n",
       " '<td class=\"ac\">',\n",
       " '<img src=\"https://ssl.pstatic.net/imgmovie/2007/img/common/bullet_r_g27.gif\" alt=\"27\" width=\"14\" height=\"13\">',\n",
       " '<td class=\"title\">',\n",
       " '<div class=\"tit3\">',\n",
       " '<a href=\"/movie/bi/mi/basic.naver?code=207938\" title=\"패닉 런\">',\n",
       " '<!-- 평점순일 때 평점 추가하기  -->',\n",
       " '<!----------------------------------------->',\n",
       " '<td class=\"ac\">',\n",
       " '<img src=\"https://ssl.pstatic.net/imgmovie/2007/img/common/icon_down_1.gif\" alt=\"down\" width=\"7\" height=\"10\" class=\"arrow\">',\n",
       " '<td class=\"range ac\">',\n",
       " '<tr>',\n",
       " '<td class=\"ac\">',\n",
       " '<img src=\"https://ssl.pstatic.net/imgmovie/2007/img/common/bullet_r_g28.gif\" alt=\"28\" width=\"14\" height=\"13\">',\n",
       " '<td class=\"title\">',\n",
       " '<div class=\"tit3\">',\n",
       " '<a href=\"/movie/bi/mi/basic.naver?code=206645\" title=\"메모리아\">',\n",
       " '<!-- 평점순일 때 평점 추가하기  -->',\n",
       " '<!----------------------------------------->',\n",
       " '<td class=\"ac\">',\n",
       " '<img src=\"https://ssl.pstatic.net/imgmovie/2007/img/common/icon_na_1.gif\" alt=\"na\" width=\"7\" height=\"10\" class=\"arrow\">',\n",
       " '<td class=\"range ac\">',\n",
       " '<tr>',\n",
       " '<td class=\"ac\">',\n",
       " '<img src=\"https://ssl.pstatic.net/imgmovie/2007/img/common/bullet_r_g29.gif\" alt=\"29\" width=\"14\" height=\"13\">',\n",
       " '<td class=\"title\">',\n",
       " '<div class=\"tit3\">',\n",
       " '<a href=\"/movie/bi/mi/basic.naver?code=216214\" title=\"시간을 꿈꾸는 소녀\">',\n",
       " '<!-- 평점순일 때 평점 추가하기  -->',\n",
       " '<!----------------------------------------->',\n",
       " '<td class=\"ac\">',\n",
       " '<img src=\"https://ssl.pstatic.net/imgmovie/2007/img/common/icon_up_1.gif\" alt=\"up\" width=\"7\" height=\"10\" class=\"arrow\">',\n",
       " '<td class=\"range ac\">',\n",
       " '<tr>',\n",
       " '<td class=\"ac\">',\n",
       " '<td class=\"title\">',\n",
       " '<div class=\"tit3\">',\n",
       " '<a href=\"/movie/bi/mi/basic.naver?code=191613\" title=\"클라우스\">',\n",
       " '<!-- 평점순일 때 평점 추가하기  -->',\n",
       " '<!----------------------------------------->',\n",
       " '<td class=\"ac\">',\n",
       " '<img src=\"https://ssl.pstatic.net/imgmovie/2007/img/common/icon_down_1.gif\" alt=\"down\" width=\"7\" height=\"10\" class=\"arrow\">',\n",
       " '<td class=\"range ac\">',\n",
       " '<tr>',\n",
       " '<td colspan=\"8\" class=\"line01\">',\n",
       " '<tr>',\n",
       " '<td class=\"ac\">',\n",
       " '<img src=\"https://ssl.pstatic.net/imgmovie/2007/img/common/bullet_r_g31.gif\" alt=\"31\" width=\"14\" height=\"13\">',\n",
       " '<td class=\"title\">',\n",
       " '<div class=\"tit3\">',\n",
       " '<a href=\"/movie/bi/mi/basic.naver?code=213350\" title=\"매복\">',\n",
       " '<!-- 평점순일 때 평점 추가하기  -->',\n",
       " '<!----------------------------------------->',\n",
       " '<td class=\"ac\">',\n",
       " '<img src=\"https://ssl.pstatic.net/imgmovie/2007/img/common/icon_up_1.gif\" alt=\"up\" width=\"7\" height=\"10\" class=\"arrow\">',\n",
       " '<td class=\"range ac\">',\n",
       " '<tr>',\n",
       " '<td class=\"ac\">',\n",
       " '<img src=\"https://ssl.pstatic.net/imgmovie/2007/img/common/bullet_r_g32.gif\" alt=\"32\" width=\"14\" height=\"13\">',\n",
       " '<td class=\"title\">',\n",
       " '<div class=\"tit3\">',\n",
       " '<a href=\"/movie/bi/mi/basic.naver?code=222541\" title=\"유포자들\">',\n",
       " '<!-- 평점순일 때 평점 추가하기  -->',\n",
       " '<!----------------------------------------->',\n",
       " '<td class=\"ac\">',\n",
       " '<img src=\"https://ssl.pstatic.net/imgmovie/2007/img/common/icon_down_1.gif\" alt=\"down\" width=\"7\" height=\"10\" class=\"arrow\">',\n",
       " '<td class=\"range ac\">',\n",
       " '<tr>',\n",
       " '<td class=\"ac\">',\n",
       " '<td class=\"title\">',\n",
       " '<div class=\"tit3\">',\n",
       " '<a href=\"/movie/bi/mi/basic.naver?code=216494\" title=\"나이브스 아웃: 글래스 어니언\">',\n",
       " '<!-- 평점순일 때 평점 추가하기  -->',\n",
       " '<!----------------------------------------->',\n",
       " '<td class=\"ac\">',\n",
       " '<img src=\"https://ssl.pstatic.net/imgmovie/2007/img/common/icon_down_1.gif\" alt=\"down\" width=\"7\" height=\"10\" class=\"arrow\">',\n",
       " '<td class=\"range ac\">',\n",
       " '<tr>',\n",
       " '<td class=\"ac\">',\n",
       " '<img src=\"https://ssl.pstatic.net/imgmovie/2007/img/common/bullet_r_g34.gif\" alt=\"34\" width=\"14\" height=\"13\">',\n",
       " '<td class=\"title\">',\n",
       " '<div class=\"tit3\">',\n",
       " '<a href=\"/movie/bi/mi/basic.naver?code=81888\" title=\"탑건: 매버릭\">',\n",
       " '<!-- 평점순일 때 평점 추가하기  -->',\n",
       " '<!----------------------------------------->',\n",
       " '<td class=\"ac\">',\n",
       " '<img src=\"https://ssl.pstatic.net/imgmovie/2007/img/common/icon_down_1.gif\" alt=\"down\" width=\"7\" height=\"10\" class=\"arrow\">',\n",
       " '<td class=\"range ac\">',\n",
       " '<tr>',\n",
       " '<td class=\"ac\">',\n",
       " '<img src=\"https://ssl.pstatic.net/imgmovie/2007/img/common/bullet_r_g35.gif\" alt=\"35\" width=\"14\" height=\"13\">',\n",
       " '<td class=\"title\">',\n",
       " '<div class=\"tit3\">',\n",
       " '<a href=\"/movie/bi/mi/basic.naver?code=196854\" title=\"브로커\">',\n",
       " '<!-- 평점순일 때 평점 추가하기  -->',\n",
       " '<!----------------------------------------->',\n",
       " '<td class=\"ac\">',\n",
       " '<img src=\"https://ssl.pstatic.net/imgmovie/2007/img/common/icon_up_1.gif\" alt=\"up\" width=\"7\" height=\"10\" class=\"arrow\">',\n",
       " '<td class=\"range ac\">',\n",
       " '<tr>',\n",
       " '<td class=\"ac\">',\n",
       " '<td class=\"title\">',\n",
       " '<div class=\"tit3\">',\n",
       " '<a href=\"/movie/bi/mi/basic.naver?code=217514\" title=\"아마겟돈 타임\">',\n",
       " '<!-- 평점순일 때 평점 추가하기  -->',\n",
       " '<!----------------------------------------->',\n",
       " '<td class=\"ac\">',\n",
       " '<img src=\"https://ssl.pstatic.net/imgmovie/2007/img/common/icon_up_1.gif\" alt=\"up\" width=\"7\" height=\"10\" class=\"arrow\">',\n",
       " '<td class=\"range ac\">',\n",
       " '<tr>',\n",
       " '<td class=\"ac\">',\n",
       " '<img src=\"https://ssl.pstatic.net/imgmovie/2007/img/common/bullet_r_g37.gif\" alt=\"37\" width=\"14\" height=\"13\">',\n",
       " '<td class=\"title\">',\n",
       " '<div class=\"tit3\">',\n",
       " '<a href=\"/movie/bi/mi/basic.naver?code=205027\" title=\"데시벨\">',\n",
       " '<!-- 평점순일 때 평점 추가하기  -->',\n",
       " '<!----------------------------------------->',\n",
       " '<td class=\"ac\">',\n",
       " '<img src=\"https://ssl.pstatic.net/imgmovie/2007/img/common/icon_down_1.gif\" alt=\"down\" width=\"7\" height=\"10\" class=\"arrow\">',\n",
       " '<td class=\"range ac\">',\n",
       " '<tr>',\n",
       " '<td class=\"ac\">',\n",
       " '<img src=\"https://ssl.pstatic.net/imgmovie/2007/img/common/bullet_r_g38.gif\" alt=\"38\" width=\"14\" height=\"13\">',\n",
       " '<td class=\"title\">',\n",
       " '<div class=\"tit3\">',\n",
       " '<a href=\"/movie/bi/mi/basic.naver?code=210832\" title=\"살수\">',\n",
       " '<!-- 평점순일 때 평점 추가하기  -->',\n",
       " '<!----------------------------------------->',\n",
       " '<td class=\"ac\">',\n",
       " '<img src=\"https://ssl.pstatic.net/imgmovie/2007/img/common/icon_down_1.gif\" alt=\"down\" width=\"7\" height=\"10\" class=\"arrow\">',\n",
       " '<td class=\"range ac\">',\n",
       " '<tr>',\n",
       " '<td class=\"ac\">',\n",
       " '<img src=\"https://ssl.pstatic.net/imgmovie/2007/img/common/bullet_r_g39.gif\" alt=\"39\" width=\"14\" height=\"13\">',\n",
       " '<td class=\"title\">',\n",
       " '<div class=\"tit3\">',\n",
       " '<a href=\"/movie/bi/mi/basic.naver?code=193855\" title=\"앤트맨과 와스프: 퀀텀매니아\">',\n",
       " '<!-- 평점순일 때 평점 추가하기  -->',\n",
       " '<!----------------------------------------->',\n",
       " '<td class=\"ac\">',\n",
       " '<img src=\"https://ssl.pstatic.net/imgmovie/2007/img/common/icon_na_1.gif\" alt=\"na\" width=\"7\" height=\"10\" class=\"arrow\">',\n",
       " '<td class=\"range ac\">',\n",
       " '<tr>',\n",
       " '<td class=\"ac\">',\n",
       " '<img src=\"https://ssl.pstatic.net/imgmovie/2007/img/common/bullet_r_g40.gif\" alt=\"40\" width=\"14\" height=\"13\">',\n",
       " '<td class=\"title\">',\n",
       " '<div class=\"tit3\">',\n",
       " '<a href=\"/movie/bi/mi/basic.naver?code=224788\" title=\"눈의 여왕5: 스노우 프린세스와 미러랜드의 비밀\">',\n",
       " '<!-- 평점순일 때 평점 추가하기  -->',\n",
       " '<!----------------------------------------->',\n",
       " '<td class=\"ac\">',\n",
       " '<img src=\"https://ssl.pstatic.net/imgmovie/2007/img/common/icon_down_1.gif\" alt=\"down\" width=\"7\" height=\"10\" class=\"arrow\">',\n",
       " '<td class=\"range ac\">',\n",
       " '<tr>',\n",
       " '<td colspan=\"8\" class=\"line01\">',\n",
       " '<tr>',\n",
       " '<td class=\"ac\">',\n",
       " '<td class=\"title\">',\n",
       " '<div class=\"tit3\">',\n",
       " '<a href=\"/movie/bi/mi/basic.naver?code=209280\" title=\"탄생\">',\n",
       " '<!-- 평점순일 때 평점 추가하기  -->',\n",
       " '<!----------------------------------------->',\n",
       " '<td class=\"ac\">',\n",
       " '<img src=\"https://ssl.pstatic.net/imgmovie/2007/img/common/icon_down_1.gif\" alt=\"down\" width=\"7\" height=\"10\" class=\"arrow\">',\n",
       " '<td class=\"range ac\">',\n",
       " '<tr>',\n",
       " '<td class=\"ac\">',\n",
       " '<img src=\"https://ssl.pstatic.net/imgmovie/2007/img/common/bullet_r_g42.gif\" alt=\"42\" width=\"14\" height=\"13\">',\n",
       " '<td class=\"title\">',\n",
       " '<div class=\"tit3\">',\n",
       " '<a href=\"/movie/bi/mi/basic.naver?code=191523\" title=\"후미코의 발\">',\n",
       " '<!-- 평점순일 때 평점 추가하기  -->',\n",
       " '<!----------------------------------------->',\n",
       " '<td colspan=\"2\" class=\"new_icon\">',\n",
       " '<img width=\"20\" height=\"5\" alt=\"new\" src=\"https://ssl.pstatic.net/imgmovie/2007/img/common/icon_new_1.gif\">',\n",
       " '<tr>',\n",
       " '<td class=\"ac\">',\n",
       " '<td class=\"title\">',\n",
       " '<div class=\"tit3\">',\n",
       " '<a href=\"/movie/bi/mi/basic.naver?code=192151\" title=\"외계+인 1부\">',\n",
       " '<!-- 평점순일 때 평점 추가하기  -->',\n",
       " '<!----------------------------------------->',\n",
       " '<td class=\"ac\">',\n",
       " '<img src=\"https://ssl.pstatic.net/imgmovie/2007/img/common/icon_down_1.gif\" alt=\"down\" width=\"7\" height=\"10\" class=\"arrow\">',\n",
       " '<td class=\"range ac\">',\n",
       " '<tr>',\n",
       " '<td class=\"ac\">',\n",
       " '<img src=\"https://ssl.pstatic.net/imgmovie/2007/img/common/bullet_r_g44.gif\" alt=\"44\" width=\"14\" height=\"13\">',\n",
       " '<td class=\"title\">',\n",
       " '<div class=\"tit3\">',\n",
       " '<a href=\"/movie/bi/mi/basic.naver?code=221031\" title=\"아바타 리마스터링\">',\n",
       " '<!-- 평점순일 때 평점 추가하기  -->',\n",
       " '<!----------------------------------------->',\n",
       " '<td class=\"ac\">',\n",
       " '<img src=\"https://ssl.pstatic.net/imgmovie/2007/img/common/icon_down_1.gif\" alt=\"down\" width=\"7\" height=\"10\" class=\"arrow\">',\n",
       " '<td class=\"range ac\">',\n",
       " '<tr>',\n",
       " '<td class=\"ac\">',\n",
       " '<img src=\"https://ssl.pstatic.net/imgmovie/2007/img/common/bullet_r_g45.gif\" alt=\"45\" width=\"14\" height=\"13\">',\n",
       " '<td class=\"title\">',\n",
       " '<div class=\"tit3\">',\n",
       " '<a href=\"/movie/bi/mi/basic.naver?code=187338\" title=\"대무가\">',\n",
       " '<!-- 평점순일 때 평점 추가하기  -->',\n",
       " '<!----------------------------------------->',\n",
       " '<td class=\"ac\">',\n",
       " '<img src=\"https://ssl.pstatic.net/imgmovie/2007/img/common/icon_up_1.gif\" alt=\"up\" width=\"7\" height=\"10\" class=\"arrow\">',\n",
       " '<td class=\"range ac\">',\n",
       " '<tr>',\n",
       " '<td class=\"ac\">',\n",
       " '<td class=\"title\">',\n",
       " '<div class=\"tit3\">',\n",
       " '<a href=\"/movie/bi/mi/basic.naver?code=207926\" title=\"크레이지 컴페티션\">',\n",
       " '<!-- 평점순일 때 평점 추가하기  -->',\n",
       " '<!----------------------------------------->',\n",
       " '<td class=\"ac\">',\n",
       " '<img src=\"https://ssl.pstatic.net/imgmovie/2007/img/common/icon_down_1.gif\" alt=\"down\" width=\"7\" height=\"10\" class=\"arrow\">',\n",
       " '<td class=\"range ac\">',\n",
       " '<tr>',\n",
       " '<td class=\"ac\">',\n",
       " '<td class=\"title\">',\n",
       " '<div class=\"tit3\">',\n",
       " '<a href=\"/movie/bi/mi/basic.naver?code=191430\" title=\"자백\">',\n",
       " '<!-- 평점순일 때 평점 추가하기  -->',\n",
       " '<!----------------------------------------->',\n",
       " '<td class=\"ac\">',\n",
       " '<img src=\"https://ssl.pstatic.net/imgmovie/2007/img/common/icon_down_1.gif\" alt=\"down\" width=\"7\" height=\"10\" class=\"arrow\">',\n",
       " '<td class=\"range ac\">',\n",
       " '<tr>',\n",
       " '<td class=\"ac\">',\n",
       " '<td class=\"title\">',\n",
       " '<div class=\"tit3\">',\n",
       " '<a href=\"/movie/bi/mi/basic.naver?code=222543\" title=\"극장판 뽀로로와 친구들: 바이러스를 없애줘!\">',\n",
       " '<!-- 평점순일 때 평점 추가하기  -->',\n",
       " '<!----------------------------------------->',\n",
       " '<td class=\"ac\">',\n",
       " '<img src=\"https://ssl.pstatic.net/imgmovie/2007/img/common/icon_down_1.gif\" alt=\"down\" width=\"7\" height=\"10\" class=\"arrow\">',\n",
       " '<td class=\"range ac\">',\n",
       " '<tr>',\n",
       " '<td class=\"ac\">',\n",
       " '<img src=\"https://ssl.pstatic.net/imgmovie/2007/img/common/bullet_r_g49.gif\" alt=\"49\" width=\"14\" height=\"13\">',\n",
       " '<td class=\"title\">',\n",
       " '<div class=\"tit3\">',\n",
       " '<a href=\"/movie/bi/mi/basic.naver?code=201641\" title=\"공조2: 인터내셔날\">',\n",
       " '<!-- 평점순일 때 평점 추가하기  -->',\n",
       " '<!----------------------------------------->',\n",
       " '<td class=\"ac\">',\n",
       " '<img src=\"https://ssl.pstatic.net/imgmovie/2007/img/common/icon_down_1.gif\" alt=\"down\" width=\"7\" height=\"10\" class=\"arrow\">',\n",
       " '<td class=\"range ac\">',\n",
       " '<tr>',\n",
       " '<td class=\"ac\">',\n",
       " '<img src=\"https://ssl.pstatic.net/imgmovie/2007/img/common/bullet_r_g50.gif\" alt=\"50\" width=\"14\" height=\"13\">',\n",
       " '<td class=\"title\">',\n",
       " '<div class=\"tit3\">',\n",
       " '<a href=\"/movie/bi/mi/basic.naver?code=209732\" title=\"그 겨울, 나는\">',\n",
       " '<!-- 평점순일 때 평점 추가하기  -->',\n",
       " '<!----------------------------------------->',\n",
       " '<td class=\"ac\">',\n",
       " '<img src=\"https://ssl.pstatic.net/imgmovie/2007/img/common/icon_up_1.gif\" alt=\"up\" width=\"7\" height=\"10\" class=\"arrow\">',\n",
       " '<td class=\"range ac\">',\n",
       " '<tr>',\n",
       " '<td colspan=\"8\" class=\"blank01\">',\n",
       " '<!-- 페이지 네비게이션 시작 -->',\n",
       " '<!-- 페이지 네비게이션 끝 -->',\n",
       " '<!-- //랭킹 리스트 -->',\n",
       " '<span class=\"txt_mark\">',\n",
       " '<span class=\"txt_term\">',\n",
       " '<strong>',\n",
       " '<img src=\"https://ssl.pstatic.net/imgmovie/2007/img/common/gn_bg_division_2.gif\" alt=\"\" width=\"1\" height=\"10\">',\n",
       " '<strong>',\n",
       " '<!-- 탑버튼 -->',\n",
       " '<div class=\"go_top\">',\n",
       " '<a href=\"#gnb_top\">',\n",
       " '<img src=\"https://ssl.pstatic.net/imgmovie/2007/img/common/btn_top.gif\" alt=\"TOP\" width=\"30\" height=\"11\">',\n",
       " '<!-- //탑버튼 -->',\n",
       " '<img src=\"https://ssl.pstatic.net/imgmovie/2007/img/common/blank.gif\" alt=\"\" class=\"clear\">',\n",
       " '<!-- //Content Body -->',\n",
       " '<script type=\"text/javascript\" src=\"/common/js/jindo2.js\">',\n",
       " '<div id=\"assistant\">',\n",
       " '<!-- 우측 메뉴 -->',\n",
       " '<!-- 영화 인기검색어 -->',\n",
       " '<div class=\"box_type_1 mb_8\">',\n",
       " '<h3>',\n",
       " '<img src=\"https://ssl.pstatic.net/imgmovie/2007/img/super_db/tlt_r_best_movie.gif\" alt=\"영화 인기검색어\" width=\"75\" height=\"11\">',\n",
       " '<ul class=\"r_ranking\">',\n",
       " '<li class=\"ranking01\">',\n",
       " '<a href=\"/movie/bi/mi/basic.naver?code=223800\" onclick=\"clickcr(this,\\'pop.list\\',\\'223800\\',\\'1\\',event);\" class=\\'b\\' title=\"더 퍼스트 슬램덩크\">',\n",
       " '<span class=\"blind\">',\n",
       " '<span class=\"rank\">',\n",
       " '<img src=\"https://ssl.pstatic.net/imgmovie/2007/img/common/icon_na_1.gif\"\\t\\t\\t\\t\\t alt=\"순위 변동 없음\"\\t\\t\\t\\t\\t width=\"7\" height=\"10\">',\n",
       " '<li class=\"ranking02\">',\n",
       " '<a href=\"/movie/bi/mi/basic.naver?code=74977\" onclick=\"clickcr(this,\\'pop.list\\',\\'74977\\',\\'2\\',event);\"  title=\"아바타: 물의 길\">',\n",
       " '<span class=\"blind\">',\n",
       " '<span class=\"rank\">',\n",
       " '<img src=\"https://ssl.pstatic.net/imgmovie/2007/img/common/icon_na_1.gif\"\\t\\t\\t\\t\\t alt=\"순위 변동 없음\"\\t\\t\\t\\t\\t width=\"7\" height=\"10\">',\n",
       " '<li class=\"ranking03\">',\n",
       " '<a href=\"/movie/bi/mi/basic.naver?code=184509\" onclick=\"clickcr(this,\\'pop.list\\',\\'184509\\',\\'3\\',event);\"  title=\"영웅\">',\n",
       " '<span class=\"blind\">',\n",
       " '<span class=\"rank\">',\n",
       " '<img src=\"https://ssl.pstatic.net/imgmovie/2007/img/common/icon_na_1.gif\"\\t\\t\\t\\t\\t alt=\"순위 변동 없음\"\\t\\t\\t\\t\\t width=\"7\" height=\"10\">',\n",
       " '<li class=\"ranking04\">',\n",
       " '<a href=\"/movie/bi/mi/basic.naver?code=201642\" onclick=\"clickcr(this,\\'pop.list\\',\\'201642\\',\\'4\\',event);\"  title=\"스위치\">',\n",
       " '<span class=\"blind\">',\n",
       " '<span class=\"rank\">',\n",
       " '<img src=\"https://ssl.pstatic.net/imgmovie/2007/img/common/icon_na_1.gif\"\\t\\t\\t\\t\\t alt=\"순위 변동 없음\"\\t\\t\\t\\t\\t width=\"7\" height=\"10\">',\n",
       " '<li class=\"ranking05\">',\n",
       " '<a href=\"/movie/bi/mi/basic.naver?code=208508\" onclick=\"clickcr(this,\\'pop.list\\',\\'208508\\',\\'5\\',event);\"  title=\"젠틀맨\">',\n",
       " '<span class=\"blind\">',\n",
       " '<span class=\"rank\">',\n",
       " '<img src=\"https://ssl.pstatic.net/imgmovie/2007/img/common/icon_na_1.gif\"\\t\\t\\t\\t\\t alt=\"순위 변동 없음\"\\t\\t\\t\\t\\t width=\"7\" height=\"10\">',\n",
       " '<!--[D] 더보기 위치 이동 -->',\n",
       " '<a href=\"/movie/sdb/rank/rmovie.naver\" onclick=\"clickcr(this,\\'pop.more\\',\\'\\',\\'\\',event);\" class=\"more\">',\n",
       " '<p class=\"term\">',\n",
       " '<!-- 영화인 인기검색어 -->',\n",
       " '<div class=\"box_type_1 mb_8\">',\n",
       " '<h3>',\n",
       " '<img src=\"https://ssl.pstatic.net/imgmovie/2007/img/super_db/tlt_r_best_star.gif\" alt=\"영화인 인기검색어\" width=\"85\" height=\"11\">',\n",
       " '<ul class=\"r_ranking\">',\n",
       " '<li class=\"ranking01\">',\n",
       " '<a href=\"/movie/bi/pi/basic.naver?st=1&code=621\" onclick=\"clickcr(this,\\'peo.list\\',\\'621\\',\\'1\\',event);\" class=\\'b\\' title=\"제임스 카메론\">',\n",
       " '<span class=\"blind\">',\n",
       " '<span class=\"rank\">',\n",
       " '<img src=\"https://ssl.pstatic.net/imgmovie/2007/img/common/icon_na_1.gif\"\\t\\t\\t\\t\\t alt=\"\"\\t\\t\\t\\t\\t width=\"7\" height=\"10\">',\n",
       " '<li class=\"ranking02\">',\n",
       " '<a href=\"/movie/bi/pi/basic.naver?st=1&code=4210\" onclick=\"clickcr(this,\\'peo.list\\',\\'4210\\',\\'2\\',event);\"  title=\"윤제균\">',\n",
       " '<span class=\"blind\">',\n",
       " '<span class=\"rank\">',\n",
       " '<img src=\"https://ssl.pstatic.net/imgmovie/2007/img/common/icon_na_1.gif\"\\t\\t\\t\\t\\t alt=\"\"\\t\\t\\t\\t\\t width=\"7\" height=\"10\">',\n",
       " '<li class=\"ranking03\">',\n",
       " '<a href=\"/movie/bi/pi/basic.naver?st=1&code=52361\" onclick=\"clickcr(this,\\'peo.list\\',\\'52361\\',\\'3\\',event);\"  title=\"이수성\">',\n",
       " '<span class=\"blind\">',\n",
       " '<span class=\"rank\">',\n",
       " '<img src=\"https://ssl.pstatic.net/imgmovie/2007/img/common/icon_na_1.gif\"\\t\\t\\t\\t\\t alt=\"\"\\t\\t\\t\\t\\t width=\"7\" height=\"10\">',\n",
       " '<li class=\"ranking04\">',\n",
       " '<a href=\"/movie/bi/pi/basic.naver?st=1&code=435221\" onclick=\"clickcr(this,\\'peo.list\\',\\'435221\\',\\'4\\',event);\"  title=\"최성은\">',\n",
       " '<span class=\"blind\">',\n",
       " '<span class=\"rank\">',\n",
       " '<img src=\"https://ssl.pstatic.net/imgmovie/2007/img/common/icon_down_1.gif\"\\t\\t\\t\\t\\t alt=\"\"\\t\\t\\t\\t\\t width=\"7\" height=\"10\">',\n",
       " '<li class=\"ranking05\">',\n",
       " '<a href=\"/movie/bi/pi/basic.naver?st=1&code=1934\" onclick=\"clickcr(this,\\'peo.list\\',\\'1934\\',\\'5\\',event);\"  title=\"임순례\">',\n",
       " '<span class=\"blind\">',\n",
       " '<span class=\"rank\">',\n",
       " '<img src=\"https://ssl.pstatic.net/imgmovie/2007/img/common/icon_na_1.gif\"\\t\\t\\t\\t\\t alt=\"\"\\t\\t\\t\\t\\t width=\"7\" height=\"10\">',\n",
       " '<a href=\"/movie/sdb/rank/rpeople.naver\" onclick=\"clickcr(this,\\'peo.more\\',\\'\\',\\'\\',event);\" class=\"more\">',\n",
       " '<p class=\"term\">',\n",
       " '<!--박스오피스-->',\n",
       " '<div class=\"box_type_1 mb_8\">',\n",
       " '<h3>',\n",
       " '<img src=\"https://ssl.pstatic.net/imgmovie/2007/img/running/tlt_r_boxoffice.gif\" alt=\"박스오피스\" width=\"51\" height=\"11\">',\n",
       " '<ul class=\"r_ranking box\">',\n",
       " '<li class=\"ranking01\">',\n",
       " '<a href=\"/movie/bi/mi/basic.naver?code=74977\" onclick=\"clickcr(this,\\'box.list\\',\\'74977\\',\\'1\\',event);\" class=\"b\" title=\"아바타: 물의 길\">',\n",
       " '<span class=\"blind\">',\n",
       " '<span class=\"ratio  check\"\">',\n",
       " '<em>',\n",
       " '<li class=\"ranking02\">',\n",
       " '<a href=\"/movie/bi/mi/basic.naver?code=184509\" onclick=\"clickcr(this,\\'box.list\\',\\'184509\\',\\'2\\',event);\" title=\"영웅\">',\n",
       " '<span class=\"blind\">',\n",
       " '<span class=\"ratio \">',\n",
       " '<em>',\n",
       " '<li class=\"ranking03\">',\n",
       " '<a href=\"/movie/bi/mi/basic.naver?code=223800\" onclick=\"clickcr(this,\\'box.list\\',\\'223800\\',\\'3\\',event);\" title=\"더 퍼스트 슬램덩크\">',\n",
       " '<span class=\"blind\">',\n",
       " '<span class=\"ratio \">',\n",
       " '<em>',\n",
       " '<li class=\"ranking04\">',\n",
       " '<a href=\"/movie/bi/mi/basic.naver?code=215466\" onclick=\"clickcr(this,\\'box.list\\',\\'215466\\',\\'4\\',event);\" title=\"장화신은 고양이: 끝내주는 모험\">',\n",
       " '<span class=\"blind\">',\n",
       " '<span class=\"ratio \">',\n",
       " '<em>',\n",
       " '<li class=\"ranking05\">',\n",
       " '<a href=\"/movie/bi/mi/basic.naver?code=201642\" onclick=\"clickcr(this,\\'box.list\\',\\'201642\\',\\'5\\',event);\" title=\"스위치\">',\n",
       " '<span class=\"blind\">',\n",
       " '<span class=\"ratio \">',\n",
       " '<em>',\n",
       " '<a href=\"/movie/sdb/rank/rboxoffice.naver\" onclick=\"clickcr(this,\\'box.more\\',\\'\\',\\'\\',event);\" class=\"more\">',\n",
       " '<div class=\"term_1\">',\n",
       " '<span class=\"cnt\">',\n",
       " '<div class=\"date\">',\n",
       " '<!--//박스오피스-->',\n",
       " '<img src=\"https://ssl.pstatic.net/imgmovie/2007/img/common/blank.gif\" alt=\"\" class=\"clear\">',\n",
       " '<!-- //Content Body -->',\n",
       " '<!-- //content -->',\n",
       " '<!-- //container -->',\n",
       " '<!-- Footer -->',\n",
       " '<script type=\"text/javascript\" src=\"/common/js/jindo/component/1.0.2/jindo.Component.js\">',\n",
       " '<script type=\"text/javascript\" src=\"/common/js/jindo/component/1.0.2/jindo.UIComponent.js\">',\n",
       " '<!-- footer -->',\n",
       " '<div id=\"footer\">',\n",
       " '<div class=\"in_footer\">',\n",
       " '<div class=\"foot_con\">',\n",
       " '<ul>',\n",
       " '<li class=\"first\">',\n",
       " '<a href=\"http://www.naver.com/rules/service.html\" target=\"_blank\" onclick=\"clickcr(this, \\'fot.agreement\\', \\'\\', \\'\\', event);\">',\n",
       " '<li>',\n",
       " '<a href=\"http://www.naver.com/rules/privacy.html\" target=\"_blank\"  onclick=\"clickcr(this, \\'fot.privacy\\', \\'\\', \\'\\', event);\">',\n",
       " '<strong>',\n",
       " '<li>',\n",
       " '<a href=\"http://www.naver.com/rules/disclaimer.html\" target=\"_blank\" onclick=\"clickcr(this, \\'fot.disclaimer\\', \\'\\', \\'\\', event);\">',\n",
       " '<li>',\n",
       " '<a href=\"https://help.naver.com/support/service/main.nhn?serviceNo=800\" target=\"_blank\" onclick=\"clickcr(this, \\'fot.help\\', \\'\\', \\'\\', event);\">',\n",
       " '<p class=\"info\">',\n",
       " '<p class=\"info\">',\n",
       " '<span>',\n",
       " '<span>',\n",
       " '<span>',\n",
       " '<a href=\"http://www.ftc.go.kr/info/bizinfo/communicationList.jsp\" onclick=\"clickcr(this, \\'fot.bizinfo\\', \\'\\', \\'\\', event);\">',\n",
       " '<br>',\n",
       " '<span>',\n",
       " '<address>',\n",
       " '<a href=\"https://www.navercorp.com\" target=\"_blank\" class=\"logo\" onclick=\"clickcr(this, \\'fot.nhn\\', \\'\\', \\'\\', event);\">',\n",
       " '<img src=\"https://ssl.pstatic.net/static/movie/2013/07/logo_naver.png\" width=\"63\" height=\"11\" alt=\"NAVER\">',\n",
       " '<em>',\n",
       " '<a href=\"https://www.navercorp.com\" target=\"_blank\" onclick=\"clickcr(this, \\'fot.corp\\', \\'\\', \\'\\', event);\">',\n",
       " '<span>',\n",
       " '<!-- //footer -->',\n",
       " '<script type=\"text/javascript\">',\n",
       " '<script type=\"text/javascript\">',\n",
       " '<script type=\"text/javascript\" src=\"/common/js/lcslog.js\">',\n",
       " '<script type=\"text/javascript\" src=\"/common/js/jindo/component/1.0.2/jindo.Component.min.js\">',\n",
       " '<script type=\"text/javascript\" src=\"/common/js/vendor/jindo.WatchInput.js\" charset=\"UTF-8\">',\n",
       " '<script type=\"text/javascript\" src=\"/common/js/lib/Core.js?20221208172702\" charset=\"UTF-8\">',\n",
       " '<script type=\"text/javascript\" src=\"/common/js/lib/LNB.js?20221208172702\" charset=\"UTF-8\">',\n",
       " '<script type=\"text/javascript\" src=\"/common/js/lib/Search.js?20221208172702\" charset=\"UTF-8\">',\n",
       " '<script type=\"text/javascript\">',\n",
       " '<!-- //Footer -->']"
      ]
     },
     "execution_count": 152,
     "metadata": {},
     "output_type": "execute_result"
    }
   ],
   "source": [
    "re.findall('<[^/>][^>]+>', result)"
   ]
  },
  {
   "cell_type": "code",
   "execution_count": null,
   "id": "8d125892",
   "metadata": {},
   "outputs": [],
   "source": []
  },
  {
   "cell_type": "code",
   "execution_count": null,
   "id": "2098816c",
   "metadata": {},
   "outputs": [],
   "source": []
  },
  {
   "cell_type": "code",
   "execution_count": null,
   "id": "88809c47",
   "metadata": {},
   "outputs": [],
   "source": []
  }
 ],
 "metadata": {
  "kernelspec": {
   "display_name": "Python 3 (ipykernel)",
   "language": "python",
   "name": "python3"
  },
  "language_info": {
   "codemirror_mode": {
    "name": "ipython",
    "version": 3
   },
   "file_extension": ".py",
   "mimetype": "text/x-python",
   "name": "python",
   "nbconvert_exporter": "python",
   "pygments_lexer": "ipython3",
   "version": "3.9.13"
  }
 },
 "nbformat": 4,
 "nbformat_minor": 5
}
