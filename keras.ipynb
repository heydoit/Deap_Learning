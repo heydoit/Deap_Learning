{
 "cells": [
  {
   "cell_type": "code",
   "execution_count": 1,
   "id": "7dd96ba0",
   "metadata": {},
   "outputs": [],
   "source": [
    "import numpy as np\n",
    "from tensorflow.keras.utils import plot_model\n",
    "from keras import *\n",
    "from keras.models import *\n",
    "from keras.layers import *\n",
    "\n",
    "model = Sequential()\n",
    "model.add(Dense(10, activation='relu', input_dim=2))"
   ]
  },
  {
   "cell_type": "code",
   "execution_count": 2,
   "id": "e522204d",
   "metadata": {},
   "outputs": [
    {
     "data": {
      "text/plain": [
       "[array([[-0.38220802, -0.3435388 , -0.60184586,  0.3942241 , -0.29788464,\n",
       "          0.37077445, -0.5339987 ,  0.02420765, -0.13291699,  0.11794376],\n",
       "        [ 0.4939682 ,  0.200724  ,  0.49568337,  0.03775769, -0.21382529,\n",
       "         -0.27475244,  0.43850452, -0.17507225,  0.4897185 ,  0.0333904 ]],\n",
       "       dtype=float32),\n",
       " array([0., 0., 0., 0., 0., 0., 0., 0., 0., 0.], dtype=float32)]"
      ]
     },
     "execution_count": 2,
     "metadata": {},
     "output_type": "execute_result"
    }
   ],
   "source": [
    "model.get_weights()"
   ]
  },
  {
   "cell_type": "code",
   "execution_count": 3,
   "id": "0c74b4ee",
   "metadata": {},
   "outputs": [
    {
     "data": {
      "text/plain": [
       "[<tf.Variable 'dense/kernel:0' shape=(2, 10) dtype=float32, numpy=\n",
       " array([[-0.38220802, -0.3435388 , -0.60184586,  0.3942241 , -0.29788464,\n",
       "          0.37077445, -0.5339987 ,  0.02420765, -0.13291699,  0.11794376],\n",
       "        [ 0.4939682 ,  0.200724  ,  0.49568337,  0.03775769, -0.21382529,\n",
       "         -0.27475244,  0.43850452, -0.17507225,  0.4897185 ,  0.0333904 ]],\n",
       "       dtype=float32)>,\n",
       " <tf.Variable 'dense/bias:0' shape=(10,) dtype=float32, numpy=array([0., 0., 0., 0., 0., 0., 0., 0., 0., 0.], dtype=float32)>]"
      ]
     },
     "execution_count": 3,
     "metadata": {},
     "output_type": "execute_result"
    }
   ],
   "source": [
    "model.weights"
   ]
  },
  {
   "cell_type": "code",
   "execution_count": null,
   "id": "81c820b8",
   "metadata": {},
   "outputs": [],
   "source": []
  },
  {
   "cell_type": "code",
   "execution_count": null,
   "id": "4a500130",
   "metadata": {},
   "outputs": [],
   "source": []
  },
  {
   "cell_type": "code",
   "execution_count": 4,
   "id": "9a0c575e",
   "metadata": {},
   "outputs": [],
   "source": [
    "import numpy as np\n",
    "import tensorflow as tf"
   ]
  },
  {
   "cell_type": "code",
   "execution_count": 5,
   "id": "249fe877",
   "metadata": {},
   "outputs": [
    {
     "name": "stdout",
     "output_type": "stream",
     "text": [
      "tf.Tensor(1, shape=(), dtype=int32)\n",
      "tf.Tensor(0, shape=(), dtype=int32)\n"
     ]
    }
   ],
   "source": [
    "t0 = tf.constant(1) # 1 이란 값을 가지는 텐서 출력\n",
    "print(t0) # 1 의 값을 가지는 텐서\n",
    "print(tf.rank(t0)) # rank 가 0인 텐서"
   ]
  },
  {
   "cell_type": "code",
   "execution_count": 6,
   "id": "8f7057d6",
   "metadata": {},
   "outputs": [
    {
     "name": "stdout",
     "output_type": "stream",
     "text": [
      "tf.Tensor([1 2 3], shape=(3,), dtype=int32)\n",
      "tf.Tensor(1, shape=(), dtype=int32)\n"
     ]
    }
   ],
   "source": [
    "t1 = tf.constant([1,2,3])\n",
    "print(t1) # 리스트 출력, shape 이 (3, )\n",
    "print(tf.rank(t1)) # rank 값 1로 출력 (행 만 존재) "
   ]
  },
  {
   "cell_type": "code",
   "execution_count": 7,
   "id": "66077353",
   "metadata": {},
   "outputs": [
    {
     "name": "stdout",
     "output_type": "stream",
     "text": [
      "tf.Tensor(\n",
      "[[1 2 3]\n",
      " [4 5 6]\n",
      " [7 8 9]], shape=(3, 3), dtype=int32)\n",
      "tf.Tensor(2, shape=(), dtype=int32)\n"
     ]
    }
   ],
   "source": [
    "t2 = tf.constant([[1,2,3],\n",
    "                [4,5,6],\n",
    "                [7,8,9]])\n",
    "print(t2)\n",
    "print(tf.rank(t2)) # rank 행, 과 열 이 존재 => 2\n"
   ]
  },
  {
   "cell_type": "code",
   "execution_count": 8,
   "id": "ae016a82",
   "metadata": {},
   "outputs": [
    {
     "name": "stdout",
     "output_type": "stream",
     "text": [
      "tf.Tensor(\n",
      "[[[1 2 3]\n",
      "  [4 5 6]\n",
      "  [7 8 9]]\n",
      "\n",
      " [[1 2 3]\n",
      "  [4 5 6]\n",
      "  [7 8 9]]\n",
      "\n",
      " [[1 2 3]\n",
      "  [4 5 6]\n",
      "  [7 8 9]]], shape=(3, 3, 3), dtype=int32)\n",
      "tf.Tensor(3, shape=(), dtype=int32)\n"
     ]
    }
   ],
   "source": [
    "t3 = tf.constant([[[1,2,3],\n",
    "                 [4,5,6],\n",
    "                  [7,8,9]],\n",
    "                 \n",
    "                [[1,2,3],\n",
    "                 [4,5,6],\n",
    "                  [7,8,9]],\n",
    "                 \n",
    "                 [[1,2,3],\n",
    "                 [4,5,6],\n",
    "                  [7,8,9]]])\n",
    "print(t3)\n",
    "print(tf.rank(t3))"
   ]
  },
  {
   "cell_type": "code",
   "execution_count": 9,
   "id": "d768e474",
   "metadata": {},
   "outputs": [
    {
     "name": "stdout",
     "output_type": "stream",
     "text": [
      "tf.Tensor(2.0, shape=(), dtype=float16)\n"
     ]
    }
   ],
   "source": [
    "f16 = tf.constant(2., dtype = tf.float16)\n",
    "print(f16)"
   ]
  },
  {
   "cell_type": "code",
   "execution_count": 10,
   "id": "36f7e7d2",
   "metadata": {},
   "outputs": [
    {
     "name": "stdout",
     "output_type": "stream",
     "text": [
      "tf.Tensor(2, shape=(), dtype=int8)\n"
     ]
    }
   ],
   "source": [
    "i8 = tf.constant(2, dtype = tf.int8)\n",
    "print(i8)"
   ]
  },
  {
   "cell_type": "code",
   "execution_count": 11,
   "id": "7ecec944",
   "metadata": {},
   "outputs": [
    {
     "name": "stdout",
     "output_type": "stream",
     "text": [
      "tf.Tensor(4.0, shape=(), dtype=float32)\n"
     ]
    }
   ],
   "source": [
    "f32 = tf.constant(4., dtype = tf.float32)\n",
    "print(f32)"
   ]
  },
  {
   "cell_type": "code",
   "execution_count": 12,
   "id": "b3b4570b",
   "metadata": {},
   "outputs": [
    {
     "name": "stdout",
     "output_type": "stream",
     "text": [
      "tf.Tensor(34, shape=(), dtype=int32)\n"
     ]
    }
   ],
   "source": [
    "i32 = tf.constant(34, dtype = tf.int32)\n",
    "print(i32)"
   ]
  },
  {
   "cell_type": "code",
   "execution_count": 13,
   "id": "3baefb9a",
   "metadata": {},
   "outputs": [
    {
     "name": "stdout",
     "output_type": "stream",
     "text": [
      "tf.Tensor(3, shape=(), dtype=int32)\n",
      "tf.Tensor(1, shape=(), dtype=int32)\n",
      "tf.Tensor(6, shape=(), dtype=int32)\n",
      "tf.Tensor(0, shape=(), dtype=int32)\n"
     ]
    }
   ],
   "source": [
    "print(tf.constant(2) + tf.constant(1))\n",
    "print(tf.constant(2) - tf.constant(1))\n",
    "print(tf.add(tf.constant(3), tf.constant(3)))\n",
    "print(tf.subtract(tf.constant(3), tf.constant(3)))"
   ]
  },
  {
   "cell_type": "code",
   "execution_count": 14,
   "id": "7ec933a6",
   "metadata": {},
   "outputs": [
    {
     "name": "stdout",
     "output_type": "stream",
     "text": [
      "tf.Tensor(2, shape=(), dtype=int32)\n",
      "tf.Tensor(2.0, shape=(), dtype=float64)\n",
      "tf.Tensor(9, shape=(), dtype=int32)\n",
      "tf.Tensor(1.0, shape=(), dtype=float64)\n"
     ]
    }
   ],
   "source": [
    "print(tf.constant(2) * tf.constant(1))\n",
    "print(tf.constant(2) / tf.constant(1))\n",
    "print(tf.multiply(tf.constant(3), tf.constant(3)))\n",
    "print(tf.divide(tf.constant(3), tf.constant(3)))"
   ]
  },
  {
   "cell_type": "code",
   "execution_count": 15,
   "id": "13202086",
   "metadata": {},
   "outputs": [
    {
     "name": "stdout",
     "output_type": "stream",
     "text": [
      "tf.Tensor(5.4, shape=(), dtype=float32)\n"
     ]
    }
   ],
   "source": [
    "# 정수 + 실수 계산은 안됨\n",
    "# cast 로 타입변환하여 더해주기\n",
    "\n",
    "print(tf.cast(tf.constant(2), tf.float32) + tf.constant(3.4))"
   ]
  },
  {
   "cell_type": "code",
   "execution_count": 16,
   "id": "4d276cf5",
   "metadata": {},
   "outputs": [],
   "source": [
    "# tenserflow 의 주요 layer (신경망을 구성해주는 층)\n",
    "\n",
    "# Dense, Activation, input, Flatten"
   ]
  },
  {
   "cell_type": "code",
   "execution_count": 17,
   "id": "79401f28",
   "metadata": {},
   "outputs": [],
   "source": [
    "from tensorflow.keras.layers import Dense, Activation, Flatten, Input"
   ]
  },
  {
   "cell_type": "markdown",
   "id": "6f7fb67a",
   "metadata": {},
   "source": [
    "## Dense"
   ]
  },
  {
   "cell_type": "markdown",
   "id": "5c111cb2",
   "metadata": {},
   "source": [
    "### Dense 완전 연결 계층, 노드들이 완전 연결"
   ]
  },
  {
   "cell_type": "code",
   "execution_count": 18,
   "id": "ed4863ef",
   "metadata": {},
   "outputs": [
    {
     "data": {
      "text/plain": [
       "<keras.layers.core.dense.Dense at 0x27838f285e0>"
      ]
     },
     "execution_count": 18,
     "metadata": {},
     "output_type": "execute_result"
    }
   ],
   "source": [
    "Dense(10, activation='softmax') # 유닛(계층)은 10개, 소프트맥스 사용"
   ]
  },
  {
   "cell_type": "code",
   "execution_count": 19,
   "id": "908436e7",
   "metadata": {},
   "outputs": [
    {
     "data": {
      "text/plain": [
       "<keras.layers.core.dense.Dense at 0x27838f28850>"
      ]
     },
     "execution_count": 19,
     "metadata": {},
     "output_type": "execute_result"
    }
   ],
   "source": [
    "Dense(10, activation='relu', name='Dense Layer')"
   ]
  },
  {
   "cell_type": "code",
   "execution_count": 20,
   "id": "2ce47c1e",
   "metadata": {},
   "outputs": [
    {
     "data": {
      "text/plain": [
       "<keras.layers.core.dense.Dense at 0x27838f2c220>"
      ]
     },
     "execution_count": 20,
     "metadata": {},
     "output_type": "execute_result"
    }
   ],
   "source": [
    "Dense(10, kernel_initializer='he_normal', name='Dense Layer')"
   ]
  },
  {
   "cell_type": "markdown",
   "id": "62b1c9dc",
   "metadata": {},
   "source": [
    "## Activation"
   ]
  },
  {
   "cell_type": "markdown",
   "id": "8f2bf5ce",
   "metadata": {},
   "source": [
    "### ACrivation : 미리 활성화 함수를 지정할 수 있지만, 별도 레이어르 만들 수 있음\n",
    "#### sigmoid, tanh, relu(0->양), leaky relu(음-> 양), maxout, Elu(음-> 양 이지만 부드러운 relu)\n"
   ]
  },
  {
   "cell_type": "code",
   "execution_count": 21,
   "id": "bb4e3b3c",
   "metadata": {},
   "outputs": [
    {
     "name": "stdout",
     "output_type": "stream",
     "text": [
      "<keras.layers.core.activation.Activation object at 0x0000027838F2CE50>\n"
     ]
    }
   ],
   "source": [
    "dense = Dense(10, activation='relu', name = 'Dense Layer')\n",
    "print(Activation(dense))"
   ]
  },
  {
   "cell_type": "markdown",
   "id": "52b0ba42",
   "metadata": {},
   "source": [
    "## Flatten"
   ]
  },
  {
   "cell_type": "markdown",
   "id": "0f953871",
   "metadata": {},
   "source": [
    "### Flatten ==> 배치 크기를 제외하고 데이터를 1차원으로 쭉 펼치는 작업"
   ]
  },
  {
   "cell_type": "code",
   "execution_count": 22,
   "id": "d22c31d5",
   "metadata": {},
   "outputs": [
    {
     "data": {
      "text/plain": [
       "<keras.layers.reshaping.flatten.Flatten at 0x27838f2c820>"
      ]
     },
     "execution_count": 22,
     "metadata": {},
     "output_type": "execute_result"
    }
   ],
   "source": [
    "Flatten(input_shape=(128,3,3,2))\n",
    "\n",
    "# (128,3,3,2) ==> (128,12)"
   ]
  },
  {
   "cell_type": "markdown",
   "id": "0eff4565",
   "metadata": {},
   "source": [
    "## Input"
   ]
  },
  {
   "cell_type": "markdown",
   "id": "3b6454a7",
   "metadata": {},
   "source": [
    "#### 모델의 입력을 정의\n",
    "#### shape, dtype 을 포함\n",
    "#### 하나의 모델은 여러 개의 입력을 가질 수 있다\n",
    "#### summary() 메소드를 통해서는 보이지 않음"
   ]
  },
  {
   "cell_type": "code",
   "execution_count": 23,
   "id": "d9a9721f",
   "metadata": {},
   "outputs": [
    {
     "data": {
      "text/plain": [
       "<KerasTensor: shape=(None, 28, 28) dtype=float32 (created by layer 'input_1')>"
      ]
     },
     "execution_count": 23,
     "metadata": {},
     "output_type": "execute_result"
    }
   ],
   "source": [
    "Input(shape=(28,28), dtype=tf.float32)"
   ]
  },
  {
   "cell_type": "markdown",
   "id": "5fc2fcd7",
   "metadata": {},
   "source": [
    "# model\n",
    "### 레이어로 만들어진 방향이 있는 비순환 그래프(DAG) 구조"
   ]
  },
  {
   "cell_type": "markdown",
   "id": "25b53bc9",
   "metadata": {},
   "source": [
    "### 모델 구성 : Sequential(), 서브클래싱, 함수형 API"
   ]
  },
  {
   "cell_type": "markdown",
   "id": "c24fc14e",
   "metadata": {},
   "source": [
    "## Sequential => 모델이 순차적인 구조로 진행할 때 사용 (다중 입력 및 출력이 존재하는 등 복잡한 모델을 구성할 순 없음)\n",
    "#### 1. 객체 생성 후 add() 이용\n",
    "#### 2. 인자에 한번에 추가하는 방법"
   ]
  },
  {
   "cell_type": "code",
   "execution_count": 24,
   "id": "ee8d0356",
   "metadata": {},
   "outputs": [],
   "source": [
    "from tensorflow.keras.layers import Dense, Input, Flatten\n",
    "from tensorflow.keras.models import Sequential,Model\n",
    "from tensorflow.keras.utils import plot_model"
   ]
  },
  {
   "cell_type": "code",
   "execution_count": 25,
   "id": "740d6ada",
   "metadata": {},
   "outputs": [
    {
     "name": "stdout",
     "output_type": "stream",
     "text": [
      "Model: \"sequential_1\"\n",
      "_________________________________________________________________\n",
      " Layer (type)                Output Shape              Param #   \n",
      "=================================================================\n",
      " dense_2 (Dense)             (None, 28, 300)           8700      \n",
      "                                                                 \n",
      " dense_3 (Dense)             (None, 28, 100)           30100     \n",
      "                                                                 \n",
      " dense_4 (Dense)             (None, 28, 10)            1010      \n",
      "                                                                 \n",
      "=================================================================\n",
      "Total params: 39,810\n",
      "Trainable params: 39,810\n",
      "Non-trainable params: 0\n",
      "_________________________________________________________________\n"
     ]
    }
   ],
   "source": [
    "model = Sequential()\n",
    "model.add(Input(shape=(28,28)))\n",
    "model.add(Dense(300, activation='relu'))\n",
    "model.add(Dense(100, activation='relu'))\n",
    "model.add(Dense(10, activation='softmax'))\n",
    "model.summary()"
   ]
  },
  {
   "cell_type": "code",
   "execution_count": 26,
   "id": "cb9a3a42",
   "metadata": {},
   "outputs": [
    {
     "data": {
      "image/png": "[encoded data removed]",
      "text/plain": [
       "<IPython.core.display.Image object>"
      ]
     },
     "execution_count": 26,
     "metadata": {},
     "output_type": "execute_result"
    }
   ],
   "source": [
    "plot_model(model)"
   ]
  },
  {
   "cell_type": "code",
   "execution_count": 27,
   "id": "9cdb023b",
   "metadata": {},
   "outputs": [
    {
     "name": "stdout",
     "output_type": "stream",
     "text": [
      "Model: \"sequential_2\"\n",
      "_________________________________________________________________\n",
      " Layer (type)                Output Shape              Param #   \n",
      "=================================================================\n",
      " Dense_1 (Dense)             (None, 29, 300)           8700      \n",
      "                                                                 \n",
      " Dense_2 (Dense)             (None, 29, 100)           30100     \n",
      "                                                                 \n",
      " output (Dense)              (None, 29, 10)            1010      \n",
      "                                                                 \n",
      "=================================================================\n",
      "Total params: 39,810\n",
      "Trainable params: 39,810\n",
      "Non-trainable params: 0\n",
      "_________________________________________________________________\n"
     ]
    }
   ],
   "source": [
    "model = Sequential([Input(shape=(29,28), name = 'input'),\n",
    "                   Dense(300, activation='relu', name = 'Dense_1'),\n",
    "                   Dense(100, activation='relu', name = 'Dense_2'),\n",
    "                   Dense(10, activation='softmax', name = 'output')])\n",
    "model.summary()"
   ]
  },
  {
   "cell_type": "markdown",
   "id": "723cdfb5",
   "metadata": {},
   "source": [
    "## 함수형 API : 가장 권장, 모델을 복잡하고 유연하게 구성 가능, 다중 입출력 가능"
   ]
  },
  {
   "cell_type": "code",
   "execution_count": 28,
   "id": "23d5c914",
   "metadata": {},
   "outputs": [
    {
     "name": "stdout",
     "output_type": "stream",
     "text": [
      "Model: \"model\"\n",
      "_________________________________________________________________\n",
      " Layer (type)                Output Shape              Param #   \n",
      "=================================================================\n",
      " input_3 (InputLayer)        [(None, 28, 28, 1)]       0         \n",
      "                                                                 \n",
      " flatten_1 (Flatten)         (None, 784)               0         \n",
      "                                                                 \n",
      " dense_5 (Dense)             (None, 300)               235500    \n",
      "                                                                 \n",
      " dense_6 (Dense)             (None, 100)               30100     \n",
      "                                                                 \n",
      " dense_7 (Dense)             (None, 10)                1010      \n",
      "                                                                 \n",
      "=================================================================\n",
      "Total params: 266,610\n",
      "Trainable params: 266,610\n",
      "Non-trainable params: 0\n",
      "_________________________________________________________________\n"
     ]
    }
   ],
   "source": [
    "inputs = Input(shape=(28,28,1))\n",
    "x = Flatten(input_shape=(28,28,1))(inputs)\n",
    "x = Dense(300, activation='relu')(x)\n",
    "x = Dense(100, activation='relu')(x)\n",
    "x = Dense(10, activation='softmax')(x)\n",
    "\n",
    "model = Model(inputs = inputs, outputs=x)\n",
    "model.summary()"
   ]
  },
  {
   "cell_type": "code",
   "execution_count": 29,
   "id": "8cb3179c",
   "metadata": {},
   "outputs": [
    {
     "name": "stdout",
     "output_type": "stream",
     "text": [
      "Model: \"model_1\"\n",
      "__________________________________________________________________________________________________\n",
      " Layer (type)                   Output Shape         Param #     Connected to                     \n",
      "==================================================================================================\n",
      " input_4 (InputLayer)           [(None, 28, 28)]     0           []                               \n",
      "                                                                                                  \n",
      " dense_8 (Dense)                (None, 28, 100)      2900        ['input_4[0][0]']                \n",
      "                                                                                                  \n",
      " dense_9 (Dense)                (None, 28, 10)       1010        ['dense_8[0][0]']                \n",
      "                                                                                                  \n",
      " concatenate (Concatenate)      (None, 28, 38)       0           ['input_4[0][0]',                \n",
      "                                                                  'dense_9[0][0]']                \n",
      "                                                                                                  \n",
      " dense_10 (Dense)               (None, 28, 1)        39          ['concatenate[0][0]']            \n",
      "                                                                                                  \n",
      "==================================================================================================\n",
      "Total params: 3,949\n",
      "Trainable params: 3,949\n",
      "Non-trainable params: 0\n",
      "__________________________________________________________________________________________________\n"
     ]
    }
   ],
   "source": [
    "from tensorflow.keras.layers import Concatenate\n",
    "input_layer = Input(shape=(28,28))\n",
    "hidden1 = Dense(100, activation='relu')(input_layer)\n",
    "hidden2 = Dense(10, activation='relu')(hidden1)\n",
    "concat = Concatenate()([input_layer, hidden2])\n",
    "output = Dense(1)(concat)\n",
    "\n",
    "model = Model(inputs = input_layer, outputs=output)\n",
    "model.summary()\n",
    "\n"
   ]
  },
  {
   "cell_type": "code",
   "execution_count": 30,
   "id": "3ba91edc",
   "metadata": {},
   "outputs": [
    {
     "data": {
      "image/png": "[encoded data removed]",
      "text/plain": [
       "<IPython.core.display.Image object>"
      ]
     },
     "execution_count": 30,
     "metadata": {},
     "output_type": "execute_result"
    }
   ],
   "source": [
    "plot_model(model)"
   ]
  },
  {
   "cell_type": "code",
   "execution_count": 31,
   "id": "a6b2062c",
   "metadata": {},
   "outputs": [
    {
     "name": "stdout",
     "output_type": "stream",
     "text": [
      "Model: \"model_2\"\n",
      "__________________________________________________________________________________________________\n",
      " Layer (type)                   Output Shape         Param #     Connected to                     \n",
      "==================================================================================================\n",
      " input_2 (InputLayer)           [(None, 10, 24)]     0           []                               \n",
      "                                                                                                  \n",
      " dense_11 (Dense)               (None, 10, 100)      2500        ['input_2[0][0]']                \n",
      "                                                                                                  \n",
      " input_1 (InputLayer)           [(None, 10, 10)]     0           []                               \n",
      "                                                                                                  \n",
      " dense_12 (Dense)               (None, 10, 10)       1010        ['dense_11[0][0]']               \n",
      "                                                                                                  \n",
      " concatenate_1 (Concatenate)    (None, 10, 20)       0           ['input_1[0][0]',                \n",
      "                                                                  'dense_12[0][0]']               \n",
      "                                                                                                  \n",
      " output (Dense)                 (None, 10, 1)        21          ['concatenate_1[0][0]']          \n",
      "                                                                                                  \n",
      "==================================================================================================\n",
      "Total params: 3,531\n",
      "Trainable params: 3,531\n",
      "Non-trainable params: 0\n",
      "__________________________________________________________________________________________________\n"
     ]
    }
   ],
   "source": [
    "input_1 = Input(shape=(10,10), name='input_1')\n",
    "input_2 = Input(shape=(10,24), name='input_2')\n",
    "\n",
    "hidden1 = Dense(100, activation='relu')(input_2)\n",
    "hidden2 = Dense(10, activation='relu')(hidden1)\n",
    "concat = Concatenate()([input_1, hidden2])\n",
    "output = Dense(1, activation='softmax', name = 'output')(concat)\n",
    "\n",
    "model = Model(inputs = [input_1, input_2], outputs = [output])\n",
    "model.summary()"
   ]
  },
  {
   "cell_type": "code",
   "execution_count": 32,
   "id": "c6ac5eaf",
   "metadata": {},
   "outputs": [
    {
     "data": {
      "image/png": "[encoded data removed]",
      "text/plain": [
       "<IPython.core.display.Image object>"
      ]
     },
     "execution_count": 32,
     "metadata": {},
     "output_type": "execute_result"
    }
   ],
   "source": [
    "plot_model(model)"
   ]
  },
  {
   "cell_type": "code",
   "execution_count": 33,
   "id": "6f4570ec",
   "metadata": {},
   "outputs": [
    {
     "data": {
      "image/png": "[encoded data removed]",
      "text/plain": [
       "<IPython.core.display.Image object>"
      ]
     },
     "execution_count": 33,
     "metadata": {},
     "output_type": "execute_result"
    }
   ],
   "source": [
    "input_ = Input(shape=(10,10), name = 'input_layer')\n",
    "hidden1 = Dense(300, activation='relu')(input_)\n",
    "hidden2 = Dense(100, activation='relu')(hidden1)\n",
    "output1 = Dense(1, activation='sigmoid', name='main_output')(hidden2)\n",
    "output2 = Dense(1, name = 'sub_output')(hidden2)\n",
    "model = Model(inputs = [input_], outputs = [output1, output2])\n",
    "plot_model(model)"
   ]
  },
  {
   "cell_type": "code",
   "execution_count": 34,
   "id": "f14b01e6",
   "metadata": {},
   "outputs": [
    {
     "name": "stdout",
     "output_type": "stream",
     "text": [
      "Model: \"model_3\"\n",
      "__________________________________________________________________________________________________\n",
      " Layer (type)                   Output Shape         Param #     Connected to                     \n",
      "==================================================================================================\n",
      " input_layer (InputLayer)       [(None, 10, 10)]     0           []                               \n",
      "                                                                                                  \n",
      " dense_13 (Dense)               (None, 10, 300)      3300        ['input_layer[0][0]']            \n",
      "                                                                                                  \n",
      " dense_14 (Dense)               (None, 10, 100)      30100       ['dense_13[0][0]']               \n",
      "                                                                                                  \n",
      " main_output (Dense)            (None, 10, 1)        101         ['dense_14[0][0]']               \n",
      "                                                                                                  \n",
      " sub_output (Dense)             (None, 10, 1)        101         ['dense_14[0][0]']               \n",
      "                                                                                                  \n",
      "==================================================================================================\n",
      "Total params: 33,602\n",
      "Trainable params: 33,602\n",
      "Non-trainable params: 0\n",
      "__________________________________________________________________________________________________\n"
     ]
    }
   ],
   "source": [
    "model.summary()"
   ]
  },
  {
   "cell_type": "code",
   "execution_count": 35,
   "id": "96c9bce0",
   "metadata": {},
   "outputs": [
    {
     "data": {
      "image/png": "[encoded data removed]",
      "text/plain": [
       "<IPython.core.display.Image object>"
      ]
     },
     "execution_count": 35,
     "metadata": {},
     "output_type": "execute_result"
    }
   ],
   "source": [
    "input_1 = Input(shape=(10,10), name = 'main_input')\n",
    "input_2 = Input(shape=(10,10), name='sub_input')\n",
    "\n",
    "hidden1 = Dense(300, activation='relu')(input_2)\n",
    "hidden4 = Dense(100, activation= 'relu')(hidden1)\n",
    "\n",
    "hidden2 = Dense(200, activation = 'relu')(input_1)\n",
    "hidden3 = Dense(150, activation= 'relu')(hidden2)\n",
    "\n",
    "hidden5 = Dense(100, activation= 'relu')(hidden3)\n",
    "\n",
    "concat = Concatenate()([hidden4, hidden5])\n",
    "\n",
    "output_1 = Dense(1, activation='softmax')(concat)\n",
    "output_2 = Dense(1, activation='softmax')(concat)\n",
    "\n",
    "model = Model(inputs = [input_1, input_2], outputs = [output_1, output_2])\n",
    "plot_model(model)"
   ]
  },
  {
   "cell_type": "markdown",
   "id": "f084a168",
   "metadata": {},
   "source": [
    "## 서브클래싱\n",
    "* 커스터 마이징에 최적화 됨\n",
    "* Model 클래스를 상속받아 Model이 포함하는 기능을 사용할 수 있음\n",
    "* fit(), evaluate(), predict(), save(), load()\n",
    "* call 매소드 안에서 원하는 계산 가능. for, if, 저수준 연산\n"
   ]
  },
  {
   "cell_type": "code",
   "execution_count": 36,
   "id": "80cbb791",
   "metadata": {},
   "outputs": [],
   "source": [
    "class MyModel(Model):\n",
    "    def __init__(self, units = 30, activation='relu', **kwargs):\n",
    "        super(MyModel, self).__init__(**kwargs)\n",
    "        self.dense_layer1 = Dense(300, activation=activation)\n",
    "        self.dense_layer2 = Dense(100, activation=activation)\n",
    "        self.dense_layer3 = Dense(units, activation=activation)\n",
    "        self.output_layer = Dense(10, activation='softmax')\n",
    "        \n",
    "    def call(self, inputs):\n",
    "        x = self.dense_layer1(inputs)\n",
    "        x = self.dense_layer2(x)\n",
    "        x = self.dense_layer3(x)\n",
    "        x = self.output_layer(x)\n",
    "        return x\n",
    "        "
   ]
  },
  {
   "cell_type": "markdown",
   "id": "89e30d26",
   "metadata": {},
   "source": [
    "## 모델 가중치 확인"
   ]
  },
  {
   "cell_type": "code",
   "execution_count": 37,
   "id": "34424b05",
   "metadata": {},
   "outputs": [
    {
     "name": "stdout",
     "output_type": "stream",
     "text": [
      "Model: \"model_5\"\n",
      "_________________________________________________________________\n",
      " Layer (type)                Output Shape              Param #   \n",
      "=================================================================\n",
      " input_5 (InputLayer)        [(None, 28, 28, 1)]       0         \n",
      "                                                                 \n",
      " flatten_2 (Flatten)         (None, 784)               0         \n",
      "                                                                 \n",
      " dense_22 (Dense)            (None, 300)               235500    \n",
      "                                                                 \n",
      " dense_23 (Dense)            (None, 100)               30100     \n",
      "                                                                 \n",
      " dense_24 (Dense)            (None, 10)                1010      \n",
      "                                                                 \n",
      "=================================================================\n",
      "Total params: 266,610\n",
      "Trainable params: 266,610\n",
      "Non-trainable params: 0\n",
      "_________________________________________________________________\n"
     ]
    }
   ],
   "source": [
    "inputs = Input(shape=(28,28,1))\n",
    "x = Flatten(input_shape=(28,28,1))(inputs)\n",
    "x = Dense(300, activation='relu')(x)\n",
    "x = Dense(100, activation='relu')(x)\n",
    "x = Dense(10, activation='softmax')(x)\n",
    "\n",
    "model = Model(inputs = inputs, outputs=x)\n",
    "model.summary()\n"
   ]
  },
  {
   "cell_type": "code",
   "execution_count": 38,
   "id": "a84a6db8",
   "metadata": {},
   "outputs": [
    {
     "data": {
      "text/plain": [
       "[<keras.engine.input_layer.InputLayer at 0x2783a070e50>,\n",
       " <keras.layers.reshaping.flatten.Flatten at 0x27838fd0490>,\n",
       " <keras.layers.core.dense.Dense at 0x2783a035640>,\n",
       " <keras.layers.core.dense.Dense at 0x2783a035220>,\n",
       " <keras.layers.core.dense.Dense at 0x2783a06d940>]"
      ]
     },
     "execution_count": 38,
     "metadata": {},
     "output_type": "execute_result"
    }
   ],
   "source": [
    "model.layers"
   ]
  },
  {
   "cell_type": "code",
   "execution_count": 39,
   "id": "e355effd",
   "metadata": {},
   "outputs": [
    {
     "data": {
      "text/plain": [
       "'dense_22'"
      ]
     },
     "execution_count": 39,
     "metadata": {},
     "output_type": "execute_result"
    }
   ],
   "source": [
    "hidden_2 = model.layers[2]\n",
    "hidden_2.name"
   ]
  },
  {
   "cell_type": "code",
   "execution_count": 40,
   "id": "16f0b2f9",
   "metadata": {},
   "outputs": [
    {
     "data": {
      "text/plain": [
       "True"
      ]
     },
     "execution_count": 40,
     "metadata": {},
     "output_type": "execute_result"
    }
   ],
   "source": [
    "model.get_layer('dense_22') is hidden_2"
   ]
  },
  {
   "cell_type": "code",
   "execution_count": 41,
   "id": "3eb41ca3",
   "metadata": {},
   "outputs": [
    {
     "name": "stdout",
     "output_type": "stream",
     "text": [
      "(784, 300)\n",
      "(300,)\n"
     ]
    }
   ],
   "source": [
    "weights, biases = hidden_2.get_weights()\n",
    "print(weights.shape)\n",
    "print(biases.shape)"
   ]
  },
  {
   "cell_type": "code",
   "execution_count": 42,
   "id": "e43bf949",
   "metadata": {
    "scrolled": true
   },
   "outputs": [
    {
     "name": "stdout",
     "output_type": "stream",
     "text": [
      "[[ 0.05827987 -0.03487423 -0.03710624 ...  0.03838655 -0.05858602\n",
      "  -0.0687533 ]\n",
      " [ 0.06553283 -0.02014422 -0.03580629 ...  0.05424942  0.03635802\n",
      "   0.06797914]\n",
      " [ 0.03975697 -0.02452657 -0.03136287 ... -0.04673123 -0.02496168\n",
      "   0.01914556]\n",
      " ...\n",
      " [ 0.00913052 -0.04206172 -0.06582716 ... -0.03661735  0.03840864\n",
      "   0.06215076]\n",
      " [ 0.02046788  0.04067659  0.02768867 ...  0.04316217 -0.06164571\n",
      "   0.03201819]\n",
      " [ 0.02083155  0.00431073  0.01026802 ... -0.02194289 -0.0527579\n",
      "  -0.03872457]]\n"
     ]
    }
   ],
   "source": [
    "print(weights)"
   ]
  },
  {
   "cell_type": "code",
   "execution_count": 43,
   "id": "0238e8fa",
   "metadata": {},
   "outputs": [
    {
     "name": "stdout",
     "output_type": "stream",
     "text": [
      "[0. 0. 0. 0. 0. 0. 0. 0. 0. 0. 0. 0. 0. 0. 0. 0. 0. 0. 0. 0. 0. 0. 0. 0.\n",
      " 0. 0. 0. 0. 0. 0. 0. 0. 0. 0. 0. 0. 0. 0. 0. 0. 0. 0. 0. 0. 0. 0. 0. 0.\n",
      " 0. 0. 0. 0. 0. 0. 0. 0. 0. 0. 0. 0. 0. 0. 0. 0. 0. 0. 0. 0. 0. 0. 0. 0.\n",
      " 0. 0. 0. 0. 0. 0. 0. 0. 0. 0. 0. 0. 0. 0. 0. 0. 0. 0. 0. 0. 0. 0. 0. 0.\n",
      " 0. 0. 0. 0. 0. 0. 0. 0. 0. 0. 0. 0. 0. 0. 0. 0. 0. 0. 0. 0. 0. 0. 0. 0.\n",
      " 0. 0. 0. 0. 0. 0. 0. 0. 0. 0. 0. 0. 0. 0. 0. 0. 0. 0. 0. 0. 0. 0. 0. 0.\n",
      " 0. 0. 0. 0. 0. 0. 0. 0. 0. 0. 0. 0. 0. 0. 0. 0. 0. 0. 0. 0. 0. 0. 0. 0.\n",
      " 0. 0. 0. 0. 0. 0. 0. 0. 0. 0. 0. 0. 0. 0. 0. 0. 0. 0. 0. 0. 0. 0. 0. 0.\n",
      " 0. 0. 0. 0. 0. 0. 0. 0. 0. 0. 0. 0. 0. 0. 0. 0. 0. 0. 0. 0. 0. 0. 0. 0.\n",
      " 0. 0. 0. 0. 0. 0. 0. 0. 0. 0. 0. 0. 0. 0. 0. 0. 0. 0. 0. 0. 0. 0. 0. 0.\n",
      " 0. 0. 0. 0. 0. 0. 0. 0. 0. 0. 0. 0. 0. 0. 0. 0. 0. 0. 0. 0. 0. 0. 0. 0.\n",
      " 0. 0. 0. 0. 0. 0. 0. 0. 0. 0. 0. 0. 0. 0. 0. 0. 0. 0. 0. 0. 0. 0. 0. 0.\n",
      " 0. 0. 0. 0. 0. 0. 0. 0. 0. 0. 0. 0.]\n"
     ]
    }
   ],
   "source": [
    "print(biases)"
   ]
  },
  {
   "cell_type": "markdown",
   "id": "6c1294eb",
   "metadata": {},
   "source": [
    "## 모델 컴파일\n",
    "* 모델을 구성한 후 사용할 손실함수, 옵티마이저 지정"
   ]
  },
  {
   "cell_type": "code",
   "execution_count": 44,
   "id": "940c33b1",
   "metadata": {},
   "outputs": [],
   "source": [
    "model.compile(loss='sparse_categorical_crossentropy',\n",
    "             optimizer = 'sgd',\n",
    "             metrics = ['accuracy'])"
   ]
  },
  {
   "cell_type": "markdown",
   "id": "ecce596e",
   "metadata": {},
   "source": [
    "* <손실함수>\n",
    "* 학습이 진행되면서 해당 과정이 얼마나 잘 되고 있는지 나타내는 지표\n",
    "* 모델이 훈련되는 동안 최소화될 값으로 주어진 문제에 대한 성공 지표\n",
    "* 손실 함수 결과를 통해 학습 파라미터 조정\n",
    "* 최적화 이론에서 최소화하고자 하는 함수\n",
    "* 미분 가능한 함수 사용\n",
    "* keras 에서 주요 손실 함수 제공\n",
    "* spares_categorical_crossentropy : 클래스가 배타적 방식으로 구분(01,2,3,4,...)\n",
    "   categorical_cross_entropy : 클래스가 원-핫 인코딩 방식으로 되어 있을 때\n",
    "   binary_crossentropy : 이진 분류를 수행할 때 사용"
   ]
  },
  {
   "cell_type": "markdown",
   "id": "00b63998",
   "metadata": {},
   "source": [
    "* 평균 절대 오차 (Mean Absolute Error, MAE)\n",
    "* 오차가 커져도 손실함수가 일정하게 증가\n",
    "* 이상치에 강건함(입력-정답 관계가 적절치 않은 경우 좋은 추정을 해도 오차가 발생하는 경우가 있음. 해당 이상치에 해당하는 지점에 손실 함수의 최소값으로 가는 정도의 영향력이 크지 않음\n",
    "* 회귀에 많이 사용"
   ]
  },
  {
   "cell_type": "markdown",
   "id": "b56164f2",
   "metadata": {},
   "source": [
    "* 평균 제곱 오차 (Mean Squared Error, MSE)\n",
    "* 가장 많이 쓰임\n",
    "* 오차가 커질수록 손실함수가 빠르게 증가 (정답과 예측한 값의 차이가 클수록 더 많은 패널티 부여)\n",
    "* 회귀에 사용"
   ]
  },
  {
   "cell_type": "markdown",
   "id": "d5eea327",
   "metadata": {},
   "source": [
    "* 교차 엔트로피 오차(CEE)\n",
    "* 이진 분류, 다중 클래스 분류\n",
    "* 소프트맥스, 원-핫 인코딩 사이의 출력 간 거리를 비교\n",
    "* 정답인 클래스에 대해서만 오차 계산\n",
    "* 정답을 맞추면 0, 틀리면 차이가 클수록 오차가 커짐"
   ]
  },
  {
   "cell_type": "markdown",
   "id": "f675455e",
   "metadata": {},
   "source": [
    "* 이진 분류 문제의 교차 크로스 엔트로피(binary cross entropy, BCE)\n",
    "* 이진 분류 문제에서도 크로스 엔트로피 오차를 손실함수로 사용 가능\n",
    "\n",
    "\n",
    "* 옵티마이저(optimizer)\n",
    "* 손실 함수를 기반으로 모델이 어떻게 업데이트 되어야 하는지 결정(특정 종류의 확률적 경사 하강법 구현)\n",
    "* keras 에서 여러 옵티마이저 제공\n",
    "    keras.optimizer.SGD(): 기본적인 확률적 경사 하강법\n",
    "    keras.optimizer.Adam(): 자주 사용되는 옵티마이저\n",
    "* 보통 옵티마이저의 튜닝을 위해 따로 객체를 생성하여 컴파일"
   ]
  },
  {
   "cell_type": "markdown",
   "id": "24c3eb8f",
   "metadata": {},
   "source": [
    "## 모델 학습, 평가, 예측"
   ]
  },
  {
   "cell_type": "markdown",
   "id": "bcf2ba85",
   "metadata": {},
   "source": [
    "* fit\n",
    "    x : 학습 데이터\n",
    "    y: 정답 레이블\n",
    "    epochs : 학습 회수\n",
    "    batchh_size : 단일 배치에 있는 학습 데이터 크기\n",
    "    validation_data : 검증을 위한 데이터\n",
    "* evaluate()\n",
    "    테스트 데이터를 이용한 평가\n",
    "*predict()\n",
    "    임의의 데이터를 사용해 예측"
   ]
  },
  {
   "cell_type": "code",
   "execution_count": 45,
   "id": "6c795a81",
   "metadata": {},
   "outputs": [],
   "source": [
    "import tensorflow as ft\n",
    "from tensorflow.keras.datasets.mnist import load_data\n",
    "from tensorflow.keras.models import Sequential\n",
    "from tensorflow.keras import models\n",
    "from tensorflow.keras.layers import Dense, Input, Flatten\n",
    "from tensorflow.keras.utils import to_categorical, plot_model\n",
    "\n",
    "from sklearn.model_selection import train_test_split\n",
    "import numpy as np\n",
    "import matplotlib.pyplot as plt\n",
    "plt.style.use('seaborn-white')"
   ]
  },
  {
   "cell_type": "code",
   "execution_count": 46,
   "id": "13abacfc",
   "metadata": {},
   "outputs": [],
   "source": [
    "tf.random.set_seed(111)\n",
    "(x_train_full, y_train_full), (x_test, y_test) = load_data(path='mnist.npz')\n",
    "\n",
    "x_train, x_val, y_train, y_val = train_test_split(x_train_full, y_train_full, test_size=0.3, random_state=111)"
   ]
  },
  {
   "cell_type": "code",
   "execution_count": 47,
   "id": "99c13aaf",
   "metadata": {},
   "outputs": [
    {
     "name": "stdout",
     "output_type": "stream",
     "text": [
      "본래데이터: (60000, 28, 28)레이블: (60000,)\n",
      "학습데이터: (42000, 28, 28)레이블: (42000,)\n",
      "검증데이터: (18000, 28, 28)레이블: (18000,)\n",
      "테스트데이터: (10000, 28, 28)레이블: (10000,)\n"
     ]
    }
   ],
   "source": [
    "num_x_train = (x_train.shape[0])\n",
    "num_x_val = x_val.shape[0]\n",
    "num_x_test = x_test.shape[0]\n",
    "\n",
    "print('본래데이터: {}레이블: {}'.format(x_train_full.shape, y_train_full.shape))\n",
    "print('학습데이터: {}레이블: {}'.format(x_train.shape, y_train.shape))\n",
    "print('검증데이터: {}레이블: {}'.format(x_val.shape, y_val.shape))\n",
    "print('테스트데이터: {}레이블: {}'.format(x_test.shape, y_test.shape))"
   ]
  },
  {
   "cell_type": "code",
   "execution_count": 48,
   "id": "128f129b",
   "metadata": {},
   "outputs": [
    {
     "data": {
      "image/png": "[encoded data removed]",
      "text/plain": [
       "<Figure size 1500x1300 with 5 Axes>"
      ]
     },
     "metadata": {},
     "output_type": "display_data"
    }
   ],
   "source": [
    "num_sample = 5\n",
    "random_idxs = np.random.randint(60000, size = num_sample)\n",
    "\n",
    "plt.figure(figsize = (15,13))\n",
    "for i, idx in enumerate(random_idxs):\n",
    "    img = x_train_full[idx, :]\n",
    "    label = y_train_full[idx]\n",
    "    \n",
    "    plt.subplot(1, len(random_idxs), i+1)\n",
    "    plt.imshow(img)\n",
    "    plt.title('index: {}, label:{}'.format(idx, label))"
   ]
  },
  {
   "cell_type": "code",
   "execution_count": 49,
   "id": "53f122e6",
   "metadata": {},
   "outputs": [
    {
     "data": {
      "text/plain": [
       "array([46606,  8971, 51417,  4931, 30271])"
      ]
     },
     "execution_count": 49,
     "metadata": {},
     "output_type": "execute_result"
    }
   ],
   "source": [
    "random_idxs"
   ]
  },
  {
   "cell_type": "code",
   "execution_count": 50,
   "id": "5a558d9d",
   "metadata": {},
   "outputs": [],
   "source": [
    "# 0~1 사이의 숫자로 바꿈\n",
    "\n",
    "x_train = x_train/255.\n",
    "x_val = x_val/255.\n",
    "x_test = x_test/255.\n",
    "\n",
    "y_train = to_categorical(y_train)\n",
    "y_val = to_categorical(y_val)\n",
    "y_test = to_categorical(y_test)\n"
   ]
  },
  {
   "cell_type": "markdown",
   "id": "697989da",
   "metadata": {},
   "source": [
    "## 모델 구성"
   ]
  },
  {
   "cell_type": "code",
   "execution_count": 51,
   "id": "93894632",
   "metadata": {},
   "outputs": [
    {
     "name": "stdout",
     "output_type": "stream",
     "text": [
      "Model: \"sequential_3\"\n",
      "_________________________________________________________________\n",
      " Layer (type)                Output Shape              Param #   \n",
      "=================================================================\n",
      " flatten (Flatten)           (None, 784)               0         \n",
      "                                                                 \n",
      " dense1 (Dense)              (None, 100)               78500     \n",
      "                                                                 \n",
      " dense2 (Dense)              (None, 64)                6464      \n",
      "                                                                 \n",
      " dense3 (Dense)              (None, 32)                2080      \n",
      "                                                                 \n",
      " dense4 (Dense)              (None, 10)                330       \n",
      "                                                                 \n",
      "=================================================================\n",
      "Total params: 87,374\n",
      "Trainable params: 87,374\n",
      "Non-trainable params: 0\n",
      "_________________________________________________________________\n"
     ]
    }
   ],
   "source": [
    "model = Sequential([Input(shape=(28,28), name='input'),\n",
    "                  Flatten(input_shape=(28,28), name='flatten'),\n",
    "                  Dense(100, activation='relu', name = 'dense1'),\n",
    "                  Dense(64, activation='relu', name = 'dense2'),\n",
    "                  Dense(32, activation='relu', name = 'dense3'),\n",
    "                  Dense(10, activation='softmax', name = 'dense4')])\n",
    "model.summary()"
   ]
  },
  {
   "cell_type": "code",
   "execution_count": 52,
   "id": "41fed411",
   "metadata": {},
   "outputs": [
    {
     "data": {
      "image/png": "[encoded data removed]",
      "text/plain": [
       "<IPython.core.display.Image object>"
      ]
     },
     "execution_count": 52,
     "metadata": {},
     "output_type": "execute_result"
    }
   ],
   "source": [
    "plot_model(model)"
   ]
  },
  {
   "cell_type": "markdown",
   "id": "2b5e8c7b",
   "metadata": {},
   "source": [
    "* shpae까지 모두 나타낼때"
   ]
  },
  {
   "cell_type": "code",
   "execution_count": 53,
   "id": "e1d90b26",
   "metadata": {
    "scrolled": true
   },
   "outputs": [
    {
     "data": {
      "image/png": "[encoded data removed]",
      "text/plain": [
       "<IPython.core.display.Image object>"
      ]
     },
     "execution_count": 53,
     "metadata": {},
     "output_type": "execute_result"
    }
   ],
   "source": [
    "plot_model(model, show_shapes=True)"
   ]
  },
  {
   "cell_type": "markdown",
   "id": "e44e1679",
   "metadata": {},
   "source": [
    "## 모델 컴파일 및 학습"
   ]
  },
  {
   "cell_type": "code",
   "execution_count": 54,
   "id": "5519aeed",
   "metadata": {},
   "outputs": [],
   "source": [
    "model.compile(loss = 'categorical_crossentropy',\n",
    "             optimizer = 'sgd',\n",
    "             metrics = 'accuracy')\n"
   ]
  },
  {
   "cell_type": "code",
   "execution_count": 55,
   "id": "ff60b5ae",
   "metadata": {},
   "outputs": [
    {
     "name": "stdout",
     "output_type": "stream",
     "text": [
      "Epoch 1/50\n",
      "329/329 [==============================] - 1s 2ms/step - loss: 2.0068 - accuracy: 0.3945 - val_loss: 1.4905 - val_accuracy: 0.6155\n",
      "Epoch 2/50\n",
      "329/329 [==============================] - 1s 2ms/step - loss: 0.9437 - accuracy: 0.7664 - val_loss: 0.6196 - val_accuracy: 0.8391\n",
      "Epoch 3/50\n",
      "329/329 [==============================] - 1s 2ms/step - loss: 0.5140 - accuracy: 0.8622 - val_loss: 0.4454 - val_accuracy: 0.8778\n",
      "Epoch 4/50\n",
      "329/329 [==============================] - 1s 2ms/step - loss: 0.4093 - accuracy: 0.8859 - val_loss: 0.3873 - val_accuracy: 0.8873\n",
      "Epoch 5/50\n",
      "329/329 [==============================] - 1s 2ms/step - loss: 0.3613 - accuracy: 0.8981 - val_loss: 0.3506 - val_accuracy: 0.9004\n",
      "Epoch 6/50\n",
      "329/329 [==============================] - 1s 2ms/step - loss: 0.3308 - accuracy: 0.9061 - val_loss: 0.3249 - val_accuracy: 0.9067\n",
      "Epoch 7/50\n",
      "329/329 [==============================] - 1s 2ms/step - loss: 0.3082 - accuracy: 0.9119 - val_loss: 0.3210 - val_accuracy: 0.9069\n",
      "Epoch 8/50\n",
      "329/329 [==============================] - 1s 2ms/step - loss: 0.2902 - accuracy: 0.9168 - val_loss: 0.2845 - val_accuracy: 0.9182\n",
      "Epoch 9/50\n",
      "329/329 [==============================] - 1s 2ms/step - loss: 0.2747 - accuracy: 0.9217 - val_loss: 0.2802 - val_accuracy: 0.9179\n",
      "Epoch 10/50\n",
      "329/329 [==============================] - 1s 2ms/step - loss: 0.2613 - accuracy: 0.9250 - val_loss: 0.2653 - val_accuracy: 0.9232\n",
      "Epoch 11/50\n",
      "329/329 [==============================] - 1s 2ms/step - loss: 0.2496 - accuracy: 0.9289 - val_loss: 0.2559 - val_accuracy: 0.9239\n",
      "Epoch 12/50\n",
      "329/329 [==============================] - 1s 2ms/step - loss: 0.2388 - accuracy: 0.9324 - val_loss: 0.2694 - val_accuracy: 0.9198\n",
      "Epoch 13/50\n",
      "329/329 [==============================] - 1s 2ms/step - loss: 0.2290 - accuracy: 0.9348 - val_loss: 0.2340 - val_accuracy: 0.9329\n",
      "Epoch 14/50\n",
      "329/329 [==============================] - 1s 2ms/step - loss: 0.2198 - accuracy: 0.9378 - val_loss: 0.2289 - val_accuracy: 0.9329\n",
      "Epoch 15/50\n",
      "329/329 [==============================] - 1s 2ms/step - loss: 0.2111 - accuracy: 0.9403 - val_loss: 0.2251 - val_accuracy: 0.9323\n",
      "Epoch 16/50\n",
      "329/329 [==============================] - 1s 2ms/step - loss: 0.2032 - accuracy: 0.9423 - val_loss: 0.2177 - val_accuracy: 0.9372\n",
      "Epoch 17/50\n",
      "329/329 [==============================] - 1s 2ms/step - loss: 0.1953 - accuracy: 0.9447 - val_loss: 0.2093 - val_accuracy: 0.9402\n",
      "Epoch 18/50\n",
      "329/329 [==============================] - 1s 2ms/step - loss: 0.1880 - accuracy: 0.9466 - val_loss: 0.2032 - val_accuracy: 0.9411\n",
      "Epoch 19/50\n",
      "329/329 [==============================] - 1s 2ms/step - loss: 0.1817 - accuracy: 0.9484 - val_loss: 0.1953 - val_accuracy: 0.9423\n",
      "Epoch 20/50\n",
      "329/329 [==============================] - 1s 2ms/step - loss: 0.1755 - accuracy: 0.9493 - val_loss: 0.2411 - val_accuracy: 0.9278\n",
      "Epoch 21/50\n",
      "329/329 [==============================] - 1s 2ms/step - loss: 0.1701 - accuracy: 0.9513 - val_loss: 0.1840 - val_accuracy: 0.9462\n",
      "Epoch 22/50\n",
      "329/329 [==============================] - 1s 2ms/step - loss: 0.1641 - accuracy: 0.9538 - val_loss: 0.1860 - val_accuracy: 0.9446\n",
      "Epoch 23/50\n",
      "329/329 [==============================] - 1s 2ms/step - loss: 0.1592 - accuracy: 0.9542 - val_loss: 0.1739 - val_accuracy: 0.9492\n",
      "Epoch 24/50\n",
      "329/329 [==============================] - 1s 2ms/step - loss: 0.1540 - accuracy: 0.9561 - val_loss: 0.1799 - val_accuracy: 0.9465\n",
      "Epoch 25/50\n",
      "329/329 [==============================] - 1s 2ms/step - loss: 0.1498 - accuracy: 0.9570 - val_loss: 0.1705 - val_accuracy: 0.9494\n",
      "Epoch 26/50\n",
      "329/329 [==============================] - 1s 2ms/step - loss: 0.1448 - accuracy: 0.9586 - val_loss: 0.1652 - val_accuracy: 0.9509\n",
      "Epoch 27/50\n",
      "329/329 [==============================] - 1s 2ms/step - loss: 0.1411 - accuracy: 0.9600 - val_loss: 0.1613 - val_accuracy: 0.9511\n",
      "Epoch 28/50\n",
      "329/329 [==============================] - 1s 2ms/step - loss: 0.1372 - accuracy: 0.9613 - val_loss: 0.1587 - val_accuracy: 0.9527\n",
      "Epoch 29/50\n",
      "329/329 [==============================] - 1s 2ms/step - loss: 0.1336 - accuracy: 0.9619 - val_loss: 0.1589 - val_accuracy: 0.9521\n",
      "Epoch 30/50\n",
      "329/329 [==============================] - 1s 2ms/step - loss: 0.1300 - accuracy: 0.9628 - val_loss: 0.1533 - val_accuracy: 0.9537\n",
      "Epoch 31/50\n",
      "329/329 [==============================] - 1s 2ms/step - loss: 0.1265 - accuracy: 0.9637 - val_loss: 0.1511 - val_accuracy: 0.9550\n",
      "Epoch 32/50\n",
      "329/329 [==============================] - 1s 2ms/step - loss: 0.1236 - accuracy: 0.9650 - val_loss: 0.1517 - val_accuracy: 0.9545\n",
      "Epoch 33/50\n",
      "329/329 [==============================] - 1s 2ms/step - loss: 0.1203 - accuracy: 0.9658 - val_loss: 0.1481 - val_accuracy: 0.9557\n",
      "Epoch 34/50\n",
      "329/329 [==============================] - 1s 2ms/step - loss: 0.1173 - accuracy: 0.9670 - val_loss: 0.1582 - val_accuracy: 0.9531\n",
      "Epoch 35/50\n",
      "329/329 [==============================] - 1s 2ms/step - loss: 0.1145 - accuracy: 0.9672 - val_loss: 0.1438 - val_accuracy: 0.9566\n",
      "Epoch 36/50\n",
      "329/329 [==============================] - 1s 2ms/step - loss: 0.1118 - accuracy: 0.9683 - val_loss: 0.1445 - val_accuracy: 0.9570\n",
      "Epoch 37/50\n",
      "329/329 [==============================] - 1s 2ms/step - loss: 0.1090 - accuracy: 0.9693 - val_loss: 0.1391 - val_accuracy: 0.9587\n",
      "Epoch 38/50\n",
      "329/329 [==============================] - 1s 2ms/step - loss: 0.1066 - accuracy: 0.9697 - val_loss: 0.1363 - val_accuracy: 0.9588\n",
      "Epoch 39/50\n",
      "329/329 [==============================] - 1s 2ms/step - loss: 0.1040 - accuracy: 0.9707 - val_loss: 0.1368 - val_accuracy: 0.9589\n",
      "Epoch 40/50\n",
      "329/329 [==============================] - 1s 2ms/step - loss: 0.1016 - accuracy: 0.9711 - val_loss: 0.1391 - val_accuracy: 0.9583\n",
      "Epoch 41/50\n",
      "329/329 [==============================] - 1s 2ms/step - loss: 0.0997 - accuracy: 0.9720 - val_loss: 0.1321 - val_accuracy: 0.9602\n",
      "Epoch 42/50\n",
      "329/329 [==============================] - 1s 2ms/step - loss: 0.0972 - accuracy: 0.9726 - val_loss: 0.1479 - val_accuracy: 0.9563\n",
      "Epoch 43/50\n",
      "329/329 [==============================] - 1s 2ms/step - loss: 0.0947 - accuracy: 0.9735 - val_loss: 0.1279 - val_accuracy: 0.9614\n",
      "Epoch 44/50\n",
      "329/329 [==============================] - 1s 2ms/step - loss: 0.0930 - accuracy: 0.9738 - val_loss: 0.1259 - val_accuracy: 0.9618\n",
      "Epoch 45/50\n",
      "329/329 [==============================] - 1s 2ms/step - loss: 0.0909 - accuracy: 0.9747 - val_loss: 0.1444 - val_accuracy: 0.9558\n",
      "Epoch 46/50\n",
      "329/329 [==============================] - 1s 2ms/step - loss: 0.0889 - accuracy: 0.9749 - val_loss: 0.1252 - val_accuracy: 0.9634\n",
      "Epoch 47/50\n",
      "329/329 [==============================] - 1s 2ms/step - loss: 0.0870 - accuracy: 0.9760 - val_loss: 0.1244 - val_accuracy: 0.9630\n",
      "Epoch 48/50\n",
      "329/329 [==============================] - 1s 2ms/step - loss: 0.0849 - accuracy: 0.9761 - val_loss: 0.1218 - val_accuracy: 0.9639\n",
      "Epoch 49/50\n",
      "329/329 [==============================] - 1s 2ms/step - loss: 0.0831 - accuracy: 0.9769 - val_loss: 0.1194 - val_accuracy: 0.9644\n",
      "Epoch 50/50\n",
      "329/329 [==============================] - 1s 2ms/step - loss: 0.0814 - accuracy: 0.9771 - val_loss: 0.1216 - val_accuracy: 0.9642\n"
     ]
    }
   ],
   "source": [
    "history = model.fit(x_train, y_train,\n",
    "                   epochs=50,\n",
    "                   batch_size = 128,\n",
    "                   validation_data = (x_val,y_val))"
   ]
  },
  {
   "cell_type": "code",
   "execution_count": 56,
   "id": "0a48e709",
   "metadata": {},
   "outputs": [
    {
     "data": {
      "text/plain": [
       "dict_keys(['loss', 'accuracy', 'val_loss', 'val_accuracy'])"
      ]
     },
     "execution_count": 56,
     "metadata": {},
     "output_type": "execute_result"
    }
   ],
   "source": [
    "history.history.keys()"
   ]
  },
  {
   "cell_type": "markdown",
   "id": "bb9e4758",
   "metadata": {},
   "source": [
    "### 모델 학습 시각화"
   ]
  },
  {
   "cell_type": "code",
   "execution_count": 60,
   "id": "fa733e2e",
   "metadata": {},
   "outputs": [
    {
     "data": {
      "image/png": "[encoded data removed]",
      "text/plain": [
       "<Figure size 1200x500 with 2 Axes>"
      ]
     },
     "metadata": {},
     "output_type": "display_data"
    }
   ],
   "source": [
    "history_dict = history.history\n",
    "\n",
    "loss = history_dict['loss']\n",
    "val_loss = history_dict['val_loss']\n",
    "\n",
    "epochs = range(1, len(loss) + 1)\n",
    "fig = plt.figure(figsize=(12,5))\n",
    "\n",
    "ax1 = fig.add_subplot(1,2,1)\n",
    "ax1.plot(epochs, loss, color='blue', label='train_loss')\n",
    "ax1.plot(epochs, val_loss, color='red', label='val_loss')\n",
    "ax1.set_title('Train and Validation Loss')\n",
    "ax1.set_xlabel('Epochs')\n",
    "ax1.set_ylabel('Loss')\n",
    "ax1.grid()\n",
    "ax1.legend()\n",
    "\n",
    "accuracy = history_dict['accuracy']\n",
    "val_accuracy = history_dict['val_accuracy']\n",
    "\n",
    "\n",
    "ax2 = fig.add_subplot(1,2,2)\n",
    "ax2.plot(epochs, accuracy, color='blue', label='train_accuracy')\n",
    "ax2.plot(epochs, val_loss, color='red', label='val_accuracy')\n",
    "ax2.set_title('Train and Validation accuracy')\n",
    "ax2.set_xlabel('Epochs')\n",
    "ax2.set_ylabel('accuracy')\n",
    "ax2.grid()\n",
    "ax2.legend()\n",
    "\n",
    "plt.show()"
   ]
  },
  {
   "cell_type": "markdown",
   "id": "1085c104",
   "metadata": {},
   "source": [
    "## 모델 평가 및 예측"
   ]
  },
  {
   "cell_type": "code",
   "execution_count": 62,
   "id": "97c9dc52",
   "metadata": {},
   "outputs": [
    {
     "name": "stdout",
     "output_type": "stream",
     "text": [
      "313/313 [==============================] - 0s 795us/step - loss: 0.1187 - accuracy: 0.9648\n"
     ]
    },
    {
     "data": {
      "text/plain": [
       "[0.11874759197235107, 0.9648000001907349]"
      ]
     },
     "execution_count": 62,
     "metadata": {},
     "output_type": "execute_result"
    }
   ],
   "source": [
    "model.evaluate(x_test, y_test)"
   ]
  },
  {
   "cell_type": "code",
   "execution_count": 63,
   "id": "8b6cde0a",
   "metadata": {},
   "outputs": [
    {
     "name": "stdout",
     "output_type": "stream",
     "text": [
      "313/313 [==============================] - 0s 750us/step\n",
      "(10000, 10)\n",
      "[8.9712495e-07 5.1684723e-09 1.1182634e-04 1.8664271e-03 1.7552113e-08\n",
      " 6.4547680e-06 1.0772292e-11 9.9799901e-01 5.5089486e-06 9.8213150e-06]\n"
     ]
    }
   ],
   "source": [
    "pred_ys = model.predict(x_test)\n",
    "print(pred_ys.shape)\n",
    "\n",
    "np.set_printoptions(precision=7)\n",
    "print(pred_ys[0])\n",
    "\n",
    "# 실제 예측한 결과값들 출력"
   ]
  },
  {
   "cell_type": "code",
   "execution_count": 64,
   "id": "81ec220f",
   "metadata": {},
   "outputs": [
    {
     "data": {
      "image/png": "[encoded data removed]",
      "text/plain": [
       "<Figure size 640x480 with 1 Axes>"
      ]
     },
     "metadata": {},
     "output_type": "display_data"
    }
   ],
   "source": [
    "arg_pred_y = np.argmax(pred_ys, axis = 1)\n",
    "plt.imshow(x_test[0])\n",
    "plt.title('predicted label: {}'.format(arg_pred_y[0]))\n",
    "plt.show()"
   ]
  },
  {
   "cell_type": "markdown",
   "id": "d307b148",
   "metadata": {},
   "source": [
    "### 혼동행렬"
   ]
  },
  {
   "cell_type": "code",
   "execution_count": 66,
   "id": "846e6271",
   "metadata": {},
   "outputs": [
    {
     "data": {
      "image/png": "[encoded data removed]",
      "text/plain": [
       "<Figure size 800x800 with 2 Axes>"
      ]
     },
     "metadata": {},
     "output_type": "display_data"
    }
   ],
   "source": [
    "from sklearn.metrics import classification_report, confusion_matrix\n",
    "import seaborn as sns\n",
    "sns.set(style='white')\n",
    "\n",
    "plt.figure(figsize=(8,8))\n",
    "cm = confusion_matrix(np.argmax(y_test, axis =1), np.argmax(pred_ys, axis = 1))\n",
    "sns.heatmap(cm, annot=True, fmt='d', cmap='Blues')\n",
    "plt.xlabel('predicted Label')\n",
    "plt.ylabel('True Label')\n",
    "plt.show()\n",
    "\n",
    "# 실제와 예측값이 얼마나 맞는가??"
   ]
  },
  {
   "cell_type": "markdown",
   "id": "aafb4707",
   "metadata": {},
   "source": [
    "## 분류 보고서"
   ]
  },
  {
   "cell_type": "code",
   "execution_count": 67,
   "id": "5ac9c864",
   "metadata": {},
   "outputs": [
    {
     "name": "stdout",
     "output_type": "stream",
     "text": [
      "              precision    recall  f1-score   support\n",
      "\n",
      "           0       0.97      0.98      0.98       980\n",
      "           1       0.99      0.99      0.99      1135\n",
      "           2       0.98      0.96      0.97      1032\n",
      "           3       0.93      0.98      0.95      1010\n",
      "           4       0.97      0.97      0.97       982\n",
      "           5       0.97      0.93      0.95       892\n",
      "           6       0.97      0.97      0.97       958\n",
      "           7       0.96      0.97      0.96      1028\n",
      "           8       0.96      0.95      0.95       974\n",
      "           9       0.96      0.95      0.96      1009\n",
      "\n",
      "    accuracy                           0.96     10000\n",
      "   macro avg       0.96      0.96      0.96     10000\n",
      "weighted avg       0.97      0.96      0.96     10000\n",
      "\n"
     ]
    }
   ],
   "source": [
    "print(classification_report(np.argmax(y_test, axis = 1), np.argmax(pred_ys, axis = 1)))"
   ]
  },
  {
   "cell_type": "markdown",
   "id": "e7a4d514",
   "metadata": {},
   "source": [
    "## 모델 저장과 복원 \n",
    "\n",
    "* save()\n",
    "* load_medel()\n",
    "* sequncial API, 함수형 API에서는 모델 저장 및 로드가 가능하지만 서브클래싱 방식으로는 할 수 없다\n",
    "* 서브클래싱 방식은 save_weights()와 load_weights()을 이용해 모델의 파라미터만 저장, 로드\n",
    "* JSON 형식\n",
    "    * model.to_json() : 저장 \n",
    "    * tf.keras.models.model_from_json(file_path) : 복원\n",
    "* YAML 로 직렬화\n",
    "    * model.to_yaml() : 저장\n",
    "    * tf.keras.models.model_from_yaml(file_path) : 복원\n",
    "    \n"
   ]
  },
  {
   "cell_type": "code",
   "execution_count": 68,
   "id": "33dc7939",
   "metadata": {},
   "outputs": [],
   "source": [
    "model.save('mnist_model.h5')"
   ]
  },
  {
   "cell_type": "code",
   "execution_count": 70,
   "id": "82f0a881",
   "metadata": {},
   "outputs": [
    {
     "name": "stdout",
     "output_type": "stream",
     "text": [
      "Model: \"sequential_3\"\n",
      "_________________________________________________________________\n",
      " Layer (type)                Output Shape              Param #   \n",
      "=================================================================\n",
      " flatten (Flatten)           (None, 784)               0         \n",
      "                                                                 \n",
      " dense1 (Dense)              (None, 100)               78500     \n",
      "                                                                 \n",
      " dense2 (Dense)              (None, 64)                6464      \n",
      "                                                                 \n",
      " dense3 (Dense)              (None, 32)                2080      \n",
      "                                                                 \n",
      " dense4 (Dense)              (None, 10)                330       \n",
      "                                                                 \n",
      "=================================================================\n",
      "Total params: 87,374\n",
      "Trainable params: 87,374\n",
      "Non-trainable params: 0\n",
      "_________________________________________________________________\n"
     ]
    }
   ],
   "source": [
    "# 잘 저장되었나 확인 1\n",
    "loaded_model = models.load_model('mnist_model.h5')\n",
    "loaded_model.summary()"
   ]
  },
  {
   "cell_type": "code",
   "execution_count": 73,
   "id": "5b569f6b",
   "metadata": {},
   "outputs": [
    {
     "name": "stdout",
     "output_type": "stream",
     "text": [
      "313/313 [==============================] - 0s 764us/step\n",
      "(10000, 10)\n",
      "[8.9712495e-07 5.1684723e-09 1.1182634e-04 1.8664271e-03 1.7552113e-08\n",
      " 6.4547680e-06 1.0772292e-11 9.9799901e-01 5.5089486e-06 9.8213150e-06]\n"
     ]
    }
   ],
   "source": [
    "# 잘 저장되었나 확인 2\n",
    "pred_ys2 = loaded_model.predict(x_test)\n",
    "print(pred_ys2.shape)\n",
    "\n",
    "np.set_printoptions(precision=7)\n",
    "print(pred_ys2[0])"
   ]
  },
  {
   "cell_type": "code",
   "execution_count": 74,
   "id": "47134e73",
   "metadata": {},
   "outputs": [
    {
     "data": {
      "image/png": "[encoded data removed]",
      "text/plain": [
       "<Figure size 640x480 with 1 Axes>"
      ]
     },
     "metadata": {},
     "output_type": "display_data"
    }
   ],
   "source": [
    "arg_pred_y2 = np.argmax(pred_ys2, axis = 1)\n",
    "plt.imshow(x_test[0])\n",
    "plt.title('predicted label: {}'.format(arg_pred_y2[0]))\n",
    "plt.show()"
   ]
  },
  {
   "cell_type": "markdown",
   "id": "b578706b",
   "metadata": {},
   "source": [
    "## 콜백(callbacks)\n",
    "\n",
    "* 모델의 중간값 저장, 학습이 잘 돼 중간에 중단할 때\n",
    "* fit() 함수의 callbacks 매개변수를 사용하여 케라스가 훈련의 시작이나 끝에 호출할 때 객체 리스트를 저장할 수 있음\n",
    "* 여러 개 사용 가능\n",
    "* modelcheckpoint(대표적) : 정기적으로 모델의 체크포인트를 저장하고 문제가 발생할 때 복구하는데 사용\n",
    "    * tf.keras.callbacks.ModelCheckpoint\n",
    "* EarlyStopping : 검증 성능이 한동안 개선되지 않을 경우 학습을 중단할 때 사용\n",
    "    * tf.keras.callbacks.EarlyStopping\n",
    "* LearningRateScheduler : 최적화를 하는 동안 학습률을 동적으로 변경할 때 사용\n",
    "    * tf.keras.callbacks.LearningRateScheduler\n",
    "* TensorBoard : 모델의 경과를 모니터링할 때 사용\n",
    "    * tf.keras.callbacks.TensorBoard"
   ]
  },
  {
   "cell_type": "code",
   "execution_count": 75,
   "id": "2a750bf1",
   "metadata": {},
   "outputs": [],
   "source": [
    "from tensorflow.keras.callbacks import ModelCheckpoint, EarlyStopping, LearningRateScheduler, TensorBoard"
   ]
  },
  {
   "cell_type": "markdown",
   "id": "a2b9f120",
   "metadata": {},
   "source": [
    "#### ModelCheckPoint"
   ]
  },
  {
   "cell_type": "code",
   "execution_count": 76,
   "id": "921b4d9c",
   "metadata": {},
   "outputs": [
    {
     "name": "stdout",
     "output_type": "stream",
     "text": [
      "Epoch 1/10\n",
      "1313/1313 [==============================] - 2s 1ms/step - loss: 0.0887 - accuracy: 0.9739\n",
      "Epoch 2/10\n",
      "1313/1313 [==============================] - 2s 1ms/step - loss: 0.0822 - accuracy: 0.9761\n",
      "Epoch 3/10\n",
      "1313/1313 [==============================] - 2s 1ms/step - loss: 0.0761 - accuracy: 0.9781\n",
      "Epoch 4/10\n",
      "1313/1313 [==============================] - 2s 1ms/step - loss: 0.0702 - accuracy: 0.9797\n",
      "Epoch 5/10\n",
      "1313/1313 [==============================] - 2s 1ms/step - loss: 0.0642 - accuracy: 0.9814\n",
      "Epoch 6/10\n",
      "1313/1313 [==============================] - 2s 1ms/step - loss: 0.0600 - accuracy: 0.9827\n",
      "Epoch 7/10\n",
      "1313/1313 [==============================] - 2s 1ms/step - loss: 0.0555 - accuracy: 0.9837\n",
      "Epoch 8/10\n",
      "1313/1313 [==============================] - 2s 1ms/step - loss: 0.0519 - accuracy: 0.9848\n",
      "Epoch 9/10\n",
      "1313/1313 [==============================] - 2s 1ms/step - loss: 0.0477 - accuracy: 0.9861\n",
      "Epoch 10/10\n",
      "1313/1313 [==============================] - 2s 1ms/step - loss: 0.0447 - accuracy: 0.9873\n"
     ]
    }
   ],
   "source": [
    "check_point_cb = ModelCheckpoint('keras_,mnist_model.h5')\n",
    "history = model.fit(x_train, y_train, epochs = 10, callbacks = [check_point_cb])"
   ]
  },
  {
   "cell_type": "markdown",
   "id": "6aafa0e2",
   "metadata": {},
   "source": [
    "* 최상의 모델만 저장 => save_best_only = True"
   ]
  },
  {
   "cell_type": "code",
   "execution_count": 79,
   "id": "fd56f844",
   "metadata": {},
   "outputs": [
    {
     "name": "stdout",
     "output_type": "stream",
     "text": [
      "Epoch 1/10\n",
      "1313/1313 [==============================] - 2s 1ms/step - loss: 0.0193 - accuracy: 0.9959 - val_loss: 0.1078 - val_accuracy: 0.9710\n",
      "Epoch 2/10\n",
      "1313/1313 [==============================] - 2s 1ms/step - loss: 0.0177 - accuracy: 0.9964 - val_loss: 0.1071 - val_accuracy: 0.9717\n",
      "Epoch 3/10\n",
      "1313/1313 [==============================] - 2s 1ms/step - loss: 0.0162 - accuracy: 0.9965 - val_loss: 0.1085 - val_accuracy: 0.9708\n",
      "Epoch 4/10\n",
      "1313/1313 [==============================] - 2s 1ms/step - loss: 0.0151 - accuracy: 0.9970 - val_loss: 0.1182 - val_accuracy: 0.9695\n",
      "Epoch 5/10\n",
      "1313/1313 [==============================] - 2s 1ms/step - loss: 0.0134 - accuracy: 0.9979 - val_loss: 0.1119 - val_accuracy: 0.9706\n",
      "Epoch 6/10\n",
      "1313/1313 [==============================] - 2s 1ms/step - loss: 0.0129 - accuracy: 0.9977 - val_loss: 0.1124 - val_accuracy: 0.9719\n",
      "Epoch 7/10\n",
      "1313/1313 [==============================] - 2s 1ms/step - loss: 0.0118 - accuracy: 0.9981 - val_loss: 0.1117 - val_accuracy: 0.9714\n",
      "Epoch 8/10\n",
      "1313/1313 [==============================] - 2s 1ms/step - loss: 0.0111 - accuracy: 0.9982 - val_loss: 0.1112 - val_accuracy: 0.9709\n",
      "Epoch 9/10\n",
      "1313/1313 [==============================] - 2s 1ms/step - loss: 0.0100 - accuracy: 0.9986 - val_loss: 0.1129 - val_accuracy: 0.9707\n",
      "Epoch 10/10\n",
      "1313/1313 [==============================] - 2s 1ms/step - loss: 0.0094 - accuracy: 0.9989 - val_loss: 0.1163 - val_accuracy: 0.9704\n"
     ]
    }
   ],
   "source": [
    "check_point_cb = ModelCheckpoint('keras_,mnist_model.h5', save_best_only=True)\n",
    "history = model.fit(x_train, y_train, epochs = 10, \n",
    "                    validation_data = (x_val, y_val),\n",
    "                    callbacks = [check_point_cb])"
   ]
  },
  {
   "cell_type": "code",
   "execution_count": null,
   "id": "e80c4557",
   "metadata": {},
   "outputs": [],
   "source": [
    "### EarlyStopping\n",
    "* 일정 patience 동안 검증 세트에 대한 점수가 오르지 않으면 학습을 멈춤\n",
    "* 모델이 향상되지 않으면 학습이 자동으로 중지되므로 에포크 숫자를 크게 해도 무방\n",
    "* 학습이 끝난 후의 최상의 가중치를 복원하기 때문에 모델을 따로 복원할 필요가 없음"
   ]
  }
 ],
 "metadata": {
  "kernelspec": {
   "display_name": "Python 3 (ipykernel)",
   "language": "python",
   "name": "python3"
  },
  "language_info": {
   "codemirror_mode": {
    "name": "ipython",
    "version": 3
   },
   "file_extension": ".py",
   "mimetype": "text/x-python",
   "name": "python",
   "nbconvert_exporter": "python",
   "pygments_lexer": "ipython3",
   "version": "3.9.13"
  }
 },
 "nbformat": 4,
 "nbformat_minor": 5
}
