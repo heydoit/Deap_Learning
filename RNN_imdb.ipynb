{
 "cells": [
  {
   "cell_type": "code",
   "execution_count": 1,
   "id": "4335b789",
   "metadata": {},
   "outputs": [],
   "source": [
    "import numpy as np\n",
    "from keras.layers import *\n",
    "from keras.models import *\n",
    "from keras.utils import *\n",
    "from keras.datasets import imdb\n",
    "from tensorflow.keras.preprocessing.sequence import *"
   ]
  },
  {
   "cell_type": "code",
   "execution_count": 2,
   "id": "d53c4e59",
   "metadata": {},
   "outputs": [],
   "source": [
    "(X_train, y_train), (X_test, y_test) = imdb.load_data(num_words=10000)"
   ]
  },
  {
   "cell_type": "code",
   "execution_count": 3,
   "id": "9b7d5ea7",
   "metadata": {},
   "outputs": [],
   "source": [
    "padded_inputs = pad_sequences(X_train, maxlen = 100, value = 0.0)\n",
    "padded_inputs_test = pad_sequences(X_test, maxlen = 100, value = 0.0)"
   ]
  },
  {
   "cell_type": "code",
   "execution_count": null,
   "id": "3b6872b1",
   "metadata": {},
   "outputs": [],
   "source": [
    "model = Sequential()\n",
    "mdeol.add(Embedding(100, 15, input_length=100))\n",
    "model.add(Dropout(0.5))\n",
    "\n",
    "model.add(Conv1D(filters=32, kernel_size=2, padding='same', activation='relu'))\n",
    "model.add(Dropout(0.5))\n",
    "model.add(MaxPooling1D)"
   ]
  }
 ],
 "metadata": {
  "kernelspec": {
   "display_name": "Python 3 (ipykernel)",
   "language": "python",
   "name": "python3"
  },
  "language_info": {
   "codemirror_mode": {
    "name": "ipython",
    "version": 3
   },
   "file_extension": ".py",
   "mimetype": "text/x-python",
   "name": "python",
   "nbconvert_exporter": "python",
   "pygments_lexer": "ipython3",
   "version": "3.9.13"
  }
 },
 "nbformat": 4,
 "nbformat_minor": 5
}
